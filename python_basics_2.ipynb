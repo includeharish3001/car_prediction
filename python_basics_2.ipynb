{
 "cells": [
  {
   "cell_type": "code",
   "execution_count": 1,
   "metadata": {},
   "outputs": [
    {
     "name": "stdout",
     "output_type": "stream",
     "text": [
      "True\n",
      "False\n"
     ]
    }
   ],
   "source": [
    "#Write a Python function that takes a sequence of numbers and determines whether all the numbers are different from each other.\n",
    "\n",
    "def test_distinct(data):\n",
    "  if len(data) == len(set(data)):\n",
    "    return True\n",
    "  else:\n",
    "    return False;\n",
    "print(test_distinct([1,5,7,9]))\n",
    "print(test_distinct([2,4,5,5,7,9]))\n"
   ]
  },
  {
   "cell_type": "code",
   "execution_count": 2,
   "metadata": {},
   "outputs": [
    {
     "name": "stdout",
     "output_type": "stream",
     "text": [
      "oauei\n"
     ]
    }
   ],
   "source": [
    "#Write a Python program to create all possible strings by using 'a', 'e', 'i', 'o', 'u'. Use the characters exactly once.\n",
    "import random\n",
    "char_list = ['a','e','i','o','u']\n",
    "random.shuffle(char_list)\n",
    "print(''.join(char_list))\n"
   ]
  },
  {
   "cell_type": "code",
   "execution_count": 3,
   "metadata": {},
   "outputs": [
    {
     "name": "stdout",
     "output_type": "stream",
     "text": [
      "30\n",
      "60\n",
      "90\n",
      "40\n",
      "80\n",
      "50\n",
      "20\n",
      "70\n",
      "10\n"
     ]
    }
   ],
   "source": [
    "#Write a Python program to remove and print every third number from a list of numbers until the list becomes empty.\n",
    "\n",
    "def remove_nums(int_list):\n",
    "  #list starts with 0 index\n",
    "  position = 3 - 1 \n",
    "  idx = 0\n",
    "  len_list = (len(int_list))\n",
    "  while len_list>0:\n",
    "    idx = (position+idx)%len_list\n",
    "    print(int_list.pop(idx))\n",
    "    len_list -= 1\n",
    "nums = [10,20,30,40,50,60,70,80,90]\n",
    "remove_nums(nums)\n"
   ]
  },
  {
   "cell_type": "code",
   "execution_count": 4,
   "metadata": {},
   "outputs": [
    {
     "name": "stdout",
     "output_type": "stream",
     "text": [
      "[(-6, 2, 4)]\n"
     ]
    }
   ],
   "source": [
    "# Write a Python program to find unique triplets whose three elements gives the sum of zero from an array of n integers.\n",
    "\n",
    "def three_sum(nums):\n",
    "  result = []\n",
    "  nums.sort()\n",
    "  for i in range(len(nums)-2):\n",
    "    if i> 0 and nums[i] == nums[i-1]:\n",
    "      continue\n",
    "    l, r = i+1, len(nums)-1\n",
    "    while l < r:\n",
    "      s = nums[i] + nums[l] + nums[r]\n",
    "      if s > 0:\n",
    "        r -= 1\n",
    "      elif s < 0:\n",
    "          l += 1\n",
    "      else:\n",
    "        # found three sum\n",
    "        result.append((nums[i], nums[l], nums[r]))\n",
    "        # remove duplicates\n",
    "        while l < r and nums[l] == nums[l+1]:\n",
    "          l+=1\n",
    "          while l < r and nums[r] == nums[r-1]:\n",
    "            r -= 1\n",
    "            l += 1\n",
    "            r -= 1\n",
    "          return result\n",
    "\n",
    "x = [1, -6, 4, 2, -1, 2, 0, -2, 0 ]\n",
    "print(three_sum(x))\n"
   ]
  },
  {
   "cell_type": "code",
   "execution_count": 5,
   "metadata": {},
   "outputs": [
    {
     "name": "stdout",
     "output_type": "stream",
     "text": [
      "999\n"
     ]
    }
   ],
   "source": [
    "#Write a Python program to create the combinations of 3 digit combo.\n",
    "\n",
    "numbers = []\n",
    "for num in range(1000):\n",
    "  num=str(num).zfill(3)\n",
    "print(num)\n",
    "numbers.append(num)\n"
   ]
  },
  {
   "cell_type": "code",
   "execution_count": 6,
   "metadata": {},
   "outputs": [
    {
     "name": "stdout",
     "output_type": "stream",
     "text": [
      "String:\n",
      " Random testing is a black-box software testing technique where programs are tested by generating random, independent inputs. Results of the output are compared against software specifications to verify that the test output is pass or fail. \n",
      "\n",
      "List:\n",
      " ['Random', 'testing', 'is', 'a', 'black-box', 'software', 'testing', 'technique', 'where', 'programs', 'are', 'tested', 'by', 'generating', 'random,', 'independent', 'inputs.', 'Results', 'of', 'the', 'output', 'are', 'compared', 'against', 'software', 'specifications', 'to', 'verify', 'that', 'the', 'test', 'output', 'is', 'pass', 'or', 'fail.'] \n",
      "\n",
      "Pairs (Words and Frequencies:\n",
      " [('Random', 1), ('testing', 2), ('is', 2), ('a', 1), ('black-box', 1), ('software', 2), ('testing', 2), ('technique', 1), ('where', 1), ('programs', 1), ('are', 2), ('tested', 1), ('by', 1), ('generating', 1), ('random,', 1), ('independent', 1), ('inputs.', 1), ('Results', 1), ('of', 1), ('the', 2), ('output', 2), ('are', 2), ('compared', 1), ('against', 1), ('software', 2), ('specifications', 1), ('to', 1), ('verify', 1), ('that', 1), ('the', 2), ('test', 1), ('output', 2), ('is', 2), ('pass', 1), ('or', 1), ('fail.', 1)]\n"
     ]
    }
   ],
   "source": [
    "#Write a Python program to print a long text, convert the string to a list and print all the words and their frequencies.\n",
    "\n",
    "string_words = '''Random testing is a black-box software testing technique where programs are tested by generating random, independent inputs. Results of the output are compared against software specifications to verify that the test output is pass or fail.'''\n",
    "\n",
    "word_list = string_words.split()\n",
    "\n",
    "word_freq = [word_list.count(n) for n in word_list]\n",
    "\n",
    "print(\"String:\\n {} \\n\".format(string_words))\n",
    "print(\"List:\\n {} \\n\".format(str(word_list)))\n",
    "print(\"Pairs (Words and Frequencies:\\n {}\".format(str(list(zip(word_list, word_freq)))))\n"
   ]
  },
  {
   "cell_type": "code",
   "execution_count": 1,
   "metadata": {},
   "outputs": [
    {
     "data": {
      "text/plain": [
       "\"import collections\\nimport pprint\\nfile_input = input('File Name: ')\\nwith open(file_input, 'r') as info:\\n  count = collections.Counter(info.read().upper())\\n  value = pprint.pformat(count)\\nprint(value)\""
      ]
     },
     "execution_count": 1,
     "metadata": {},
     "output_type": "execute_result"
    }
   ],
   "source": [
    "# Write a Python program to count the number of each character of a given text of a text file.\n",
    "\n",
    "\"\"\"import collections\n",
    "import pprint\n",
    "file_input = input('File Name: ')\n",
    "with open(file_input, 'r') as info:\n",
    "  count = collections.Counter(info.read().upper())\n",
    "  value = pprint.pformat(count)\n",
    "print(value)\"\"\"\n"
   ]
  },
  {
   "cell_type": "code",
   "execution_count": 2,
   "metadata": {},
   "outputs": [
    {
     "name": "stdout",
     "output_type": "stream",
     "text": [
      "China holds out WTO threat over ban on 59 mobile apps. India bursts the bubble - Hindustan Times\n",
      "https://news.google.com/__i/rss/rd/articles/CBMingFodHRwczovL3d3dy5oaW5kdXN0YW50aW1lcy5jb20vaW5kaWEtbmV3cy9jaGluZXNlLXByb3BhZ2FuZGEtdGhhdC1pbmRpYS1zLWJhbi1vbi01OS1hcHBzLWlzLXNlbGVjdGl2ZS1pcy1taXNwbGFjZWQtb2ZmaWNpYWxzL3N0b3J5LTdTeWdmVm9kYU5qTlg0c0V4V1hYeEsuaHRtbNIBoAFodHRwczovL20uaGluZHVzdGFudGltZXMuY29tL2luZGlhLW5ld3MvY2hpbmVzZS1wcm9wYWdhbmRhLXRoYXQtaW5kaWEtcy1iYW4tb24tNTktYXBwcy1pcy1zZWxlY3RpdmUtaXMtbWlzcGxhY2VkLW9mZmljaWFscy9zdG9yeS03U3lnZlZvZGFOak5YNHNFeFdYWHhLX2FtcC5odG1s?oc=5\n",
      "Thu, 02 Jul 2020 14:54:00 GMT\n",
      "------------------------------------------------------------\n",
      "Amid LAC stand-off, India approves purchase of fighter jets, missiles worth Rs 38,900 crore - Times of India\n",
      "https://news.google.com/__i/rss/rd/articles/CBMimwFodHRwczovL3RpbWVzb2ZpbmRpYS5pbmRpYXRpbWVzLmNvbS9pbmRpYS9hbWlkLWxhYy1zdGFuZC1vZmYtaW5kaWEtYXBwcm92ZXMtcHVyY2hhc2Utb2YtZmlnaHRlci1qZXRzLW1pc3NpbGVzLXdvcnRoLXJzLTM4OTAwLWNyb3JlL2FydGljbGVzaG93Lzc2NzU2OTc5LmNtc9IBlgFodHRwczovL20udGltZXNvZmluZGlhLmNvbS9pbmRpYS9hbWlkLWxhYy1zdGFuZC1vZmYtaW5kaWEtYXBwcm92ZXMtcHVyY2hhc2Utb2YtZmlnaHRlci1qZXRzLW1pc3NpbGVzLXdvcnRoLXJzLTM4OTAwLWNyb3JlL2FtcF9hcnRpY2xlc2hvdy83Njc1Njk3OS5jbXM?oc=5\n",
      "Thu, 02 Jul 2020 22:07:35 GMT\n",
      "------------------------------------------------------------\n",
      "Coronavirus: Over 3.5 lakh cured. Which Indian states lead in recovery rate? - Livemint\n",
      "https://news.google.com/__i/rss/rd/articles/CBMigQFodHRwczovL3d3dy5saXZlbWludC5jb20vbmV3cy9pbmRpYS9jb3JvbmF2aXJ1cy1vdmVyLTMtNS1sYWtoLWN1cmVkLXdoaWNoLWluZGlhbi1zdGF0ZXMtbGVhZC1pbi1yZWNvdmVyeS1yYXRlLTExNTkzNjg2MDk4MDE4Lmh0bWzSAYUBaHR0cHM6Ly93d3cubGl2ZW1pbnQuY29tL25ld3MvaW5kaWEvY29yb25hdmlydXMtb3Zlci0zLTUtbGFraC1jdXJlZC13aGljaC1pbmRpYW4tc3RhdGVzLWxlYWQtaW4tcmVjb3ZlcnktcmF0ZS9hbXAtMTE1OTM2ODYwOTgwMTguaHRtbA?oc=5\n",
      "Thu, 02 Jul 2020 15:01:03 GMT\n",
      "------------------------------------------------------------\n",
      "Bystander's death in the presence of his grandson turns controversial in Kashmir - Deccan Chronicle\n",
      "https://news.google.com/__i/rss/rd/articles/CBMihwFodHRwczovL3d3dy5kZWNjYW5jaHJvbmljbGUuY29tL25hdGlvbi9jdXJyZW50LWFmZmFpcnMvMDIwNzIwL2J5c3RhbmRlcnMtZGVhdGgtaW4tdGhlLXByZXNlbmNlLW9mLWhpcy1ncmFuZHNvbi10dXJucy1jb250cm92ZXJzaWFsLmh0bWzSAYsBaHR0cHM6Ly93d3cuZGVjY2FuY2hyb25pY2xlLmNvbS9hbXAvbmF0aW9uL2N1cnJlbnQtYWZmYWlycy8wMjA3MjAvYnlzdGFuZGVycy1kZWF0aC1pbi10aGUtcHJlc2VuY2Utb2YtaGlzLWdyYW5kc29uLXR1cm5zLWNvbnRyb3ZlcnNpYWwuaHRtbA?oc=5\n",
      "Thu, 02 Jul 2020 03:50:00 GMT\n",
      "------------------------------------------------------------\n",
      "Explained: How new Hong Kong security law gives China more controls on city state - The Indian Express\n",
      "https://news.google.com/__i/rss/rd/articles/CBMicGh0dHBzOi8vaW5kaWFuZXhwcmVzcy5jb20vYXJ0aWNsZS9leHBsYWluZWQvY2hpbmEtaG9uZy1rb25ncy1uZXctbmF0aW9uYWwtc2VjdXJpdHktbGF3LWNyaW1lLXB1bmlzaG1lbnQtNjQ4NjE0Ny_SAXVodHRwczovL2luZGlhbmV4cHJlc3MuY29tL2FydGljbGUvZXhwbGFpbmVkL2NoaW5hLWhvbmcta29uZ3MtbmV3LW5hdGlvbmFsLXNlY3VyaXR5LWxhdy1jcmltZS1wdW5pc2htZW50LTY0ODYxNDcvbGl0ZS8?oc=5\n",
      "Thu, 02 Jul 2020 05:09:47 GMT\n",
      "------------------------------------------------------------\n",
      "Govt Seeks Views of Paramilitary Forces on Inducting Transgenders as Officers - News18\n",
      "https://news.google.com/__i/rss/rd/articles/CBMifGh0dHBzOi8vd3d3Lm5ld3MxOC5jb20vbmV3cy9pbmRpYS9nb3Z0LXNlZWtzLXZpZXdzLW9mLXBhcmFtaWxpdGFyeS1mb3JjZXMtb24taW5kdWN0aW5nLXRyYW5zZ2VuZGVycy1hcy1vZmZpY2Vycy0yNjk3NzE1Lmh0bWzSAYABaHR0cHM6Ly93d3cubmV3czE4LmNvbS9hbXAvbmV3cy9pbmRpYS9nb3Z0LXNlZWtzLXZpZXdzLW9mLXBhcmFtaWxpdGFyeS1mb3JjZXMtb24taW5kdWN0aW5nLXRyYW5zZ2VuZGVycy1hcy1vZmZpY2Vycy0yNjk3NzE1Lmh0bWw?oc=5\n",
      "Thu, 02 Jul 2020 10:10:14 GMT\n",
      "------------------------------------------------------------\n",
      "Delhi’s Covid-19 tally goes over 92K, casualties rise to 2,864 - Hindustan Times\n",
      "https://news.google.com/__i/rss/rd/articles/CBMiiQFodHRwczovL3d3dy5oaW5kdXN0YW50aW1lcy5jb20vaW5kaWEtbmV3cy9kZWxoaS1zLWNvdmlkLTE5LXRhbGx5LWdvZXMtb3Zlci05MmstY2FzdWFsdGllcy1yaXNlLXRvLTItODY0L3N0b3J5LXIxSG53UW9Xd0VJRkNVWmpOSGhuQ00uaHRtbNIBiwFodHRwczovL20uaGluZHVzdGFudGltZXMuY29tL2luZGlhLW5ld3MvZGVsaGktcy1jb3ZpZC0xOS10YWxseS1nb2VzLW92ZXItOTJrLWNhc3VhbHRpZXMtcmlzZS10by0yLTg2NC9zdG9yeS1yMUhud1FvV3dFSUZDVVpqTkhobkNNX2FtcC5odG1s?oc=5\n",
      "Thu, 02 Jul 2020 15:47:46 GMT\n",
      "------------------------------------------------------------\n",
      "Covid-19: Amit Shah suggests UP, Haryana to use rapid kits to bolster testing in NCR; early hospitalisati - Times of India\n",
      "https://news.google.com/__i/rss/rd/articles/CBMiowFodHRwczovL3RpbWVzb2ZpbmRpYS5pbmRpYXRpbWVzLmNvbS9pbmRpYS9ob21lLW1pbmlzdGVyLWFtaXQtc2hhaC1lbXBoYXNpc2VzLW9uLW1vcmUtcmFwaWQtYW50aWdlbi10ZXN0LWZvci1jb3ZpZC0xOS1lYXJseS1ob3NwaXRhbGlzYXRpb24vYXJ0aWNsZXNob3cvNzY3NTUzMzYuY21z0gGeAWh0dHBzOi8vbS50aW1lc29maW5kaWEuY29tL2luZGlhL2hvbWUtbWluaXN0ZXItYW1pdC1zaGFoLWVtcGhhc2lzZXMtb24tbW9yZS1yYXBpZC1hbnRpZ2VuLXRlc3QtZm9yLWNvdmlkLTE5LWVhcmx5LWhvc3BpdGFsaXNhdGlvbi9hbXBfYXJ0aWNsZXNob3cvNzY3NTUzMzYuY21z?oc=5\n",
      "Thu, 02 Jul 2020 22:07:22 GMT\n",
      "------------------------------------------------------------\n",
      "After Shivraj Chouhan Cabinet Expansion, Fissures Surface Within BJP - NDTV\n",
      "https://news.google.com/__i/rss/rd/articles/CBMia2h0dHBzOi8vd3d3Lm5kdHYuY29tL2luZGlhLW5ld3MvYWZ0ZXItc2hpdnJhai1jaG91aGFuLWNhYmluZXQtZXhwYW5zaW9uLWZpc3N1cmVzLXN1cmZhY2Utd2l0aGluLWJqcC0yMjU2MTg40gGAAWh0dHBzOi8vd3d3Lm5kdHYuY29tL2luZGlhLW5ld3MvYWZ0ZXItc2hpdnJhai1jaG91aGFuLWNhYmluZXQtZXhwYW5zaW9uLWZpc3N1cmVzLXN1cmZhY2Utd2l0aGluLWJqcC0yMjU2MTg4P2FtcD0xJmFrYW1haS1ydW09b2Zm?oc=5\n",
      "Thu, 02 Jul 2020 19:56:30 GMT\n",
      "------------------------------------------------------------\n",
      "Maharashtra: Five youngsters feared drown in waterfall at Jawhar in Palghar district - Times of India\n",
      "https://news.google.com/__i/rss/rd/articles/CBMinAFodHRwczovL3RpbWVzb2ZpbmRpYS5pbmRpYXRpbWVzLmNvbS9jaXR5L211bWJhaS9tYWhhcmFzaHRyYS1maXZlLXlvdW5nc3RlcnMtZmVhcmVkLWRyb3duLWluLXdhdGVyZmFsbC1hdC1qYXdoYXItaW4tcGFsZ2hhci1kaXN0cmljdC9hcnRpY2xlc2hvdy83Njc1NDA1MS5jbXPSAZcBaHR0cHM6Ly9tLnRpbWVzb2ZpbmRpYS5jb20vY2l0eS9tdW1iYWkvbWFoYXJhc2h0cmEtZml2ZS15b3VuZ3N0ZXJzLWZlYXJlZC1kcm93bi1pbi13YXRlcmZhbGwtYXQtamF3aGFyLWluLXBhbGdoYXItZGlzdHJpY3QvYW1wX2FydGljbGVzaG93Lzc2NzU0MDUxLmNtcw?oc=5\n",
      "Thu, 02 Jul 2020 15:26:22 GMT\n",
      "------------------------------------------------------------\n",
      "PM Modi, President Putin vow to strengthen Indo-Russia ties, discuss Covid-19 crisis - Hindustan Times\n",
      "https://news.google.com/__i/rss/rd/articles/CBMingFodHRwczovL3d3dy5oaW5kdXN0YW50aW1lcy5jb20vaW5kaWEtbmV3cy9wbS1tb2RpLXByZXNpZGVudC1wdXRpbi12b3ctdG8tc3RyZW5ndGhlbi1pbmRvLXJ1c3NpYS10aWVzLWRpc2N1c3MtY292aWQtMTktY3Jpc2lzL3N0b3J5LTh3bElZWnZnV1d5bVBwNU4xS2VHTlAuaHRtbNIBoAFodHRwczovL20uaGluZHVzdGFudGltZXMuY29tL2luZGlhLW5ld3MvcG0tbW9kaS1wcmVzaWRlbnQtcHV0aW4tdm93LXRvLXN0cmVuZ3RoZW4taW5kby1ydXNzaWEtdGllcy1kaXNjdXNzLWNvdmlkLTE5LWNyaXNpcy9zdG9yeS04d2xJWVp2Z1dXeW1QcDVOMUtlR05QX2FtcC5odG1s?oc=5\n",
      "Thu, 02 Jul 2020 13:41:39 GMT\n",
      "------------------------------------------------------------\n",
      "Mass Elephants Deaths In This Part Of The World Baffle Scientists - NDTV\n",
      "https://news.google.com/__i/rss/rd/articles/CBMibWh0dHBzOi8vd3d3Lm5kdHYuY29tL3dvcmxkLW5ld3MvbXlzdGVyaW91cy1kZWF0aHMtb2Ytb3Zlci0zNTAtZWxlcGhhbnRzLWluLWFmcmljYW4tcGVycGxleC1zY2llbnRpc3RzLTIyNTU2MzTSAYIBaHR0cHM6Ly93d3cubmR0di5jb20vd29ybGQtbmV3cy9teXN0ZXJpb3VzLWRlYXRocy1vZi1vdmVyLTM1MC1lbGVwaGFudHMtaW4tYWZyaWNhbi1wZXJwbGV4LXNjaWVudGlzdHMtMjI1NTYzND9hbXA9MSZha2FtYWktcnVtPW9mZg?oc=5\n",
      "Thu, 02 Jul 2020 08:35:36 GMT\n",
      "------------------------------------------------------------\n",
      "George W. Bush supporters form Super Political Action Committee to gather support for Joe Biden - The Hindu\n",
      "https://news.google.com/__i/rss/rd/articles/CBMingFodHRwczovL3d3dy50aGVoaW5kdS5jb20vbmV3cy9pbnRlcm5hdGlvbmFsL2dlb3JnZS13LWJ1c2gtc3VwcG9ydGVycy1mb3JtLXN1cGVyLXBvbGl0aWNhbC1hY3Rpb24tY29tbWl0dGVlLXRvLWdhdGhlci1zdXBwb3J0LWZvci1qb2UtYmlkZW4vYXJ0aWNsZTMxOTcxMjcwLmVjZdIBowFodHRwczovL3d3dy50aGVoaW5kdS5jb20vbmV3cy9pbnRlcm5hdGlvbmFsL2dlb3JnZS13LWJ1c2gtc3VwcG9ydGVycy1mb3JtLXN1cGVyLXBvbGl0aWNhbC1hY3Rpb24tY29tbWl0dGVlLXRvLWdhdGhlci1zdXBwb3J0LWZvci1qb2UtYmlkZW4vYXJ0aWNsZTMxOTcxMjcwLmVjZS9hbXAv?oc=5\n",
      "Thu, 02 Jul 2020 11:46:49 GMT\n",
      "------------------------------------------------------------\n",
      "At least 113 killed as Myanmar jade mine collapse buries workers - Hindustan Times\n",
      "https://news.google.com/__i/rss/rd/articles/CBMijAFodHRwczovL3d3dy5oaW5kdXN0YW50aW1lcy5jb20vd29ybGQtbmV3cy9hdC1sZWFzdC0xMTMta2lsbGVkLWFzLW15YW5tYXItamFkZS1taW5lLWNvbGxhcHNlLWJ1cmllcy13b3JrZXJzL3N0b3J5LXJPbXZLWkVnaHFMbk9ycEhTUTlZeEguaHRtbNIBjgFodHRwczovL20uaGluZHVzdGFudGltZXMuY29tL3dvcmxkLW5ld3MvYXQtbGVhc3QtMTEzLWtpbGxlZC1hcy1teWFubWFyLWphZGUtbWluZS1jb2xsYXBzZS1idXJpZXMtd29ya2Vycy9zdG9yeS1yT212S1pFZ2hxTG5PcnBIU1E5WXhIX2FtcC5odG1s?oc=5\n",
      "Thu, 02 Jul 2020 10:28:40 GMT\n",
      "------------------------------------------------------------\n",
      "China is losing the trade war. Here`s how - WION\n",
      "https://news.google.com/__i/rss/rd/articles/CBMiTGh0dHBzOi8vd3d3Lndpb25ld3MuY29tL3dvcmxkL2NoaW5hLWlzLWxvc2luZy10aGUtdHJhZGUtd2FyLWhlcmVzLWhvdy0zMTAzMDLSAVBodHRwczovL3d3dy53aW9uZXdzLmNvbS93b3JsZC9jaGluYS1pcy1sb3NpbmctdGhlLXRyYWRlLXdhci1oZXJlcy1ob3ctMzEwMzAyL2FtcA?oc=5\n",
      "Thu, 02 Jul 2020 17:52:02 GMT\n",
      "------------------------------------------------------------\n",
      "Motherson Sumi Announces Group Restructuring, Wiring Harness Business To Be Spun Off - BloombergQuint\n",
      "https://news.google.com/__i/rss/rd/articles/CBMidmh0dHBzOi8vd3d3LmJsb29tYmVyZ3F1aW50LmNvbS9idXNpbmVzcy9tb3RoZXJzb24tc3VtaS1hbm5vdW5jZXMtZ3JvdXAtcmVzdHJ1Y3R1cmluZy13aXJpbmctaGFybmVzcy1iaXotdG8tYmUtc3B1bi1vZmbSAXpodHRwczovL3d3dy5ibG9vbWJlcmdxdWludC5jb20vYW1wL2J1c2luZXNzL21vdGhlcnNvbi1zdW1pLWFubm91bmNlcy1ncm91cC1yZXN0cnVjdHVyaW5nLXdpcmluZy1oYXJuZXNzLWJpei10by1iZS1zcHVuLW9mZg?oc=5\n",
      "Thu, 02 Jul 2020 16:56:54 GMT\n",
      "------------------------------------------------------------\n",
      "Emami threatens legal action against HUL decision to rename Fair & Lovely for men - Moneycontrol\n",
      "https://news.google.com/__i/rss/rd/articles/CBMifGh0dHBzOi8vd3d3Lm1vbmV5Y29udHJvbC5jb20vbmV3cy9pbmRpYS9lbWFtaS10aHJlYXRlbnMtbGVnYWwtYWN0aW9uLWFnYWluc3QtaHVsLWRlY2lzaW9uLXRvLXJlbmFtZS1mYWlyLWxvdmVseS01NTAwNTAxLmh0bWzSAYABaHR0cHM6Ly93d3cubW9uZXljb250cm9sLmNvbS9uZXdzL2luZGlhL2VtYW1pLXRocmVhdGVucy1sZWdhbC1hY3Rpb24tYWdhaW5zdC1odWwtZGVjaXNpb24tdG8tcmVuYW1lLWZhaXItbG92ZWx5LTU1MDA1MDEuaHRtbC9hbXA?oc=5\n",
      "Thu, 02 Jul 2020 16:27:00 GMT\n",
      "------------------------------------------------------------\n",
      "KKR to buy JB Chemicals & Pharma in $500 million deal - Economic Times\n",
      "https://news.google.com/__i/rss/rd/articles/CBMihAFodHRwczovL2Vjb25vbWljdGltZXMuaW5kaWF0aW1lcy5jb20vbWFya2V0cy9zdG9ja3MvbmV3cy9ra3ItdG8tYnV5LWpiLWNoZW1pY2Fscy1waGFybWEtaW4tNTAwLW1pbGxpb24tZGVhbC9hcnRpY2xlc2hvdy83Njc1NTI5Ny5jbXPSAX9odHRwczovL20uZWNvbm9taWN0aW1lcy5jb20vbWFya2V0cy9zdG9ja3MvbmV3cy9ra3ItdG8tYnV5LWpiLWNoZW1pY2Fscy1waGFybWEtaW4tNTAwLW1pbGxpb24tZGVhbC9hbXBfYXJ0aWNsZXNob3cvNzY3NTUyOTcuY21z?oc=5\n",
      "Thu, 02 Jul 2020 16:55:00 GMT\n",
      "------------------------------------------------------------\n",
      "Survey says: Here are OnePlus 8T features you want - Android Authority\n",
      "https://news.google.com/__i/rss/rd/articles/CBMiPWh0dHBzOi8vd3d3LmFuZHJvaWRhdXRob3JpdHkuY29tL29uZXBsdXMtOHQtZmVhdHVyZXMtMTEzNDQ3My_SAQA?oc=5\n",
      "Thu, 02 Jul 2020 16:00:26 GMT\n",
      "------------------------------------------------------------\n",
      "JioMeet: Reliance Jio Launches Free Video Conferencing App to Take on Zoom - Gadgets 360\n",
      "https://news.google.com/__i/rss/rd/articles/CBMib2h0dHBzOi8vZ2FkZ2V0cy5uZHR2LmNvbS9hcHBzL25ld3MvamlvbWVldC1yZWxpYW5jZS1qaW8tbGF1bmNoZXMtem9vbS1jb21wZXRpdG9yLXZpZGVvLWNvbmZlcmVuY2luZy1hcHAtMjI1NjE2NdIBhAFodHRwczovL2dhZGdldHMubmR0di5jb20vYXBwcy9uZXdzL2ppb21lZXQtcmVsaWFuY2UtamlvLWxhdW5jaGVzLXpvb20tY29tcGV0aXRvci12aWRlby1jb25mZXJlbmNpbmctYXBwLTIyNTYxNjU_YW1wPTEmYWthbWFpLXJ1bT1vZmY?oc=5\n",
      "Thu, 02 Jul 2020 19:03:27 GMT\n",
      "------------------------------------------------------------\n",
      "Apple's mmWave iPhones are two months behind schedule - GSMArena.com news - GSMArena.com\n",
      "https://news.google.com/__i/rss/rd/articles/CBMiYWh0dHBzOi8vd3d3LmdzbWFyZW5hLmNvbS9hcHBsZV9pc19yYWNpbmdfdG93YXJkc19tYXNzX3Byb2R1Y3Rpb25fb2ZfaXRzXzVnX2lwaG9uZXMtbmV3cy00NDA3MS5waHDSAV5odHRwczovL20uZ3NtYXJlbmEuY29tL2FwcGxlX2lzX3JhY2luZ190b3dhcmRzX21hc3NfcHJvZHVjdGlvbl9vZl9pdHNfNWdfaXBob25lcy1hbXAtNDQwNzEucGhw?oc=5\n",
      "Thu, 02 Jul 2020 17:07:01 GMT\n",
      "------------------------------------------------------------\n",
      "Xiaomi brings MIUI Security app to the Play Store for faster updates - Android Police\n",
      "https://news.google.com/__i/rss/rd/articles/CBMibmh0dHBzOi8vd3d3LmFuZHJvaWRwb2xpY2UuY29tLzIwMjAvMDcvMDIveGlhb21pLWJyaW5ncy1taXVpLXNlY3VyaXR5LWFwcC10by10aGUtcGxheS1zdG9yZS1mb3ItZmFzdGVyLXVwZGF0ZXMv0gFyaHR0cHM6Ly93d3cuYW5kcm9pZHBvbGljZS5jb20vMjAyMC8wNy8wMi94aWFvbWktYnJpbmdzLW1pdWktc2VjdXJpdHktYXBwLXRvLXRoZS1wbGF5LXN0b3JlLWZvci1mYXN0ZXItdXBkYXRlcy8_YW1w?oc=5\n",
      "Thu, 02 Jul 2020 17:03:37 GMT\n",
      "------------------------------------------------------------\n",
      "Sanjana Sanghi clarifies she is not quitting Bollywood, says ‘absolutely nothing to worry about’ - Hindustan Times\n",
      "https://news.google.com/__i/rss/rd/articles/CBMiqAFodHRwczovL3d3dy5oaW5kdXN0YW50aW1lcy5jb20vYm9sbHl3b29kL3NhbmphbmEtc2FuZ2hpLWNsYXJpZmllcy1zaGUtaXMtbm90LXF1aXR0aW5nLWJvbGx5d29vZC1zYXlzLWFic29sdXRlbHktbm90aGluZy10by13b3JyeS1hYm91dC9zdG9yeS03MEJaMFZvVE9ndHViOXFPTzZtM0ZPLmh0bWzSAaoBaHR0cHM6Ly9tLmhpbmR1c3RhbnRpbWVzLmNvbS9ib2xseXdvb2Qvc2FuamFuYS1zYW5naGktY2xhcmlmaWVzLXNoZS1pcy1ub3QtcXVpdHRpbmctYm9sbHl3b29kLXNheXMtYWJzb2x1dGVseS1ub3RoaW5nLXRvLXdvcnJ5LWFib3V0L3N0b3J5LTcwQlowVm9UT2d0dWI5cU9PNm0zRk9fYW1wLmh0bWw?oc=5\n",
      "Thu, 02 Jul 2020 15:26:00 GMT\n",
      "------------------------------------------------------------\n",
      "Vidya Balan’s film Shakuntala Devi gets a release date - The Indian Express\n",
      "https://news.google.com/__i/rss/rd/articles/CBMicGh0dHBzOi8vaW5kaWFuZXhwcmVzcy5jb20vYXJ0aWNsZS9lbnRlcnRhaW5tZW50L2JvbGx5d29vZC92aWR5YS1iYWxhbi1maWxtLXNoYWt1bnRhbGEtZGV2aS1yZWxlYXNlLWRhdGUtNjQ4NzIzOS_SAXVodHRwczovL2luZGlhbmV4cHJlc3MuY29tL2FydGljbGUvZW50ZXJ0YWlubWVudC9ib2xseXdvb2QvdmlkeWEtYmFsYW4tZmlsbS1zaGFrdW50YWxhLWRldmktcmVsZWFzZS1kYXRlLTY0ODcyMzkvbGl0ZS8?oc=5\n",
      "Thu, 02 Jul 2020 14:25:14 GMT\n",
      "------------------------------------------------------------\n",
      "Confirmed! Vaani Kapoor to play leading lady opposite Akshay Kumar in espionage thriller ‘Bell Bottom’ - Times of India\n",
      "https://news.google.com/__i/rss/rd/articles/CBMiwgFodHRwczovL3RpbWVzb2ZpbmRpYS5pbmRpYXRpbWVzLmNvbS9lbnRlcnRhaW5tZW50L2hpbmRpL2JvbGx5d29vZC9uZXdzL2NvbmZpcm1lZC12YWFuaS1rYXBvb3ItdG8tcGxheS1sZWFkaW5nLWxhZHktb3Bwb3NpdGUtYWtzaGF5LWt1bWFyLWluLWVzcGlvbmFnZS10aHJpbGxlci1iZWxsYm90dG9tL2FydGljbGVzaG93Lzc2NzQyOTk4LmNtc9IBvQFodHRwczovL20udGltZXNvZmluZGlhLmNvbS9lbnRlcnRhaW5tZW50L2hpbmRpL2JvbGx5d29vZC9uZXdzL2NvbmZpcm1lZC12YWFuaS1rYXBvb3ItdG8tcGxheS1sZWFkaW5nLWxhZHktb3Bwb3NpdGUtYWtzaGF5LWt1bWFyLWluLWVzcGlvbmFnZS10aHJpbGxlci1iZWxsYm90dG9tL2FtcF9hcnRpY2xlc2hvdy83Njc0Mjk5OC5jbXM?oc=5\n",
      "Thu, 02 Jul 2020 05:23:00 GMT\n",
      "------------------------------------------------------------\n",
      "Kangana Ranaut Denies Being Called for Questioning in Sushant Singh Rajput Case - News18\n",
      "https://news.google.com/__i/rss/rd/articles/CBMif2h0dHBzOi8vd3d3Lm5ld3MxOC5jb20vbmV3cy9tb3ZpZXMva2FuZ2FuYS1yYW5hdXQtZGVuaWVzLWJlaW5nLWNhbGxlZC1mb3ItcXVlc3Rpb25pbmctaW4tc3VzaGFudC1zaW5naC1yYWpwdXQtY2FzZS0yNjk4Mjc1Lmh0bWzSAYMBaHR0cHM6Ly93d3cubmV3czE4LmNvbS9hbXAvbmV3cy9tb3ZpZXMva2FuZ2FuYS1yYW5hdXQtZGVuaWVzLWJlaW5nLWNhbGxlZC1mb3ItcXVlc3Rpb25pbmctaW4tc3VzaGFudC1zaW5naC1yYWpwdXQtY2FzZS0yNjk4Mjc1Lmh0bWw?oc=5\n",
      "Thu, 02 Jul 2020 15:11:31 GMT\n",
      "------------------------------------------------------------\n",
      "Can we all be a little more like Mohammad Hafeez? | ESPNcricinfo.com - ESPNcricinfo\n",
      "https://news.google.com/__i/rss/rd/articles/CBMiVGh0dHBzOi8vd3d3LmVzcG5jcmljaW5mby5jb20vc3RvcnkvXy9pZC8yOTM5Nzk5NS9jYW4tYWxsLWxpdHRsZS1tb3JlLW1vaGFtbWFkLWhhZmVletIBYWh0dHBzOi8vd3d3LmVzcG5jcmljaW5mby5jb20vc3RvcnkvXy9pZC8yOTM5Nzk5NS9jYW4tYWxsLWxpdHRsZS1tb3JlLW1vaGFtbWFkLWhhZmVlej9wbGF0Zm9ybT1hbXA?oc=5\n",
      "Thu, 02 Jul 2020 20:59:33 GMT\n",
      "------------------------------------------------------------\n",
      "Mercedes F1 and Customer Teams Running an Upgraded Engine at the Austrian Grand Prix - Essentially Sports\n",
      "https://news.google.com/__i/rss/rd/articles/CBMif2h0dHBzOi8vd3d3LmVzc2VudGlhbGx5c3BvcnRzLmNvbS9mMS1uZXdzLW1lcmNlZGVzLWYxLWFuZC1jdXN0b21lci10ZWFtcy1ydW5uaW5nLWFuLXVwZ3JhZGVkLWVuZ2luZS1hdC10aGUtYXVzdHJpYW4tZ3JhbmQtcHJpeC_SAYMBaHR0cHM6Ly93d3cuZXNzZW50aWFsbHlzcG9ydHMuY29tL2YxLW5ld3MtbWVyY2VkZXMtZjEtYW5kLWN1c3RvbWVyLXRlYW1zLXJ1bm5pbmctYW4tdXBncmFkZWQtZW5naW5lLWF0LXRoZS1hdXN0cmlhbi1ncmFuZC1wcml4L2FtcC8?oc=5\n",
      "Thu, 02 Jul 2020 13:34:00 GMT\n",
      "------------------------------------------------------------\n",
      "“Younis Khan had held a knife to my throat for offering batting advice”, reveals Pakistan cricket team’s former batting coach Grant Flower - OpIndia\n",
      "https://news.google.com/__i/rss/rd/articles/CBMidGh0dHBzOi8vd3d3Lm9waW5kaWEuY29tLzIwMjAvMDcveW91bmlzLWtoYW4tcGFraXN0YW4tY3JpY2tldC1iYXR0aW5nLWNvYWNoLWdyYW50LWZsb3dlci1rbmlmZS10aHJvYXQtYmF0dGluZy1hZHZpY2Uv0gF4aHR0cHM6Ly93d3cub3BpbmRpYS5jb20vMjAyMC8wNy95b3VuaXMta2hhbi1wYWtpc3Rhbi1jcmlja2V0LWJhdHRpbmctY29hY2gtZ3JhbnQtZmxvd2VyLWtuaWZlLXRocm9hdC1iYXR0aW5nLWFkdmljZS9hbXAv?oc=5\n",
      "Thu, 02 Jul 2020 13:28:34 GMT\n",
      "------------------------------------------------------------\n",
      "Cricket fraternity pays glowing tributes to Everton Weekes - Times of India\n",
      "https://news.google.com/__i/rss/rd/articles/CBMiiAFodHRwczovL3RpbWVzb2ZpbmRpYS5pbmRpYXRpbWVzLmNvbS9zcG9ydHMvY3JpY2tldC9uZXdzL2NyaWNrZXQtZnJhdGVybml0eS1tb3VybnMtb3Zlci1kZW1pc2Utb2YtZXZlcnRvbi13ZWVrZXMvYXJ0aWNsZXNob3cvNzY3NDQxNjQuY21z0gGDAWh0dHBzOi8vbS50aW1lc29maW5kaWEuY29tL3Nwb3J0cy9jcmlja2V0L25ld3MvY3JpY2tldC1mcmF0ZXJuaXR5LW1vdXJucy1vdmVyLWRlbWlzZS1vZi1ldmVydG9uLXdlZWtlcy9hbXBfYXJ0aWNsZXNob3cvNzY3NDQxNjQuY21z?oc=5\n",
      "Thu, 02 Jul 2020 10:17:11 GMT\n",
      "------------------------------------------------------------\n",
      "How to watch the 'Independence Day' lunar eclipse - Livescience.com\n",
      "https://news.google.com/__i/rss/rd/articles/CBMiQmh0dHBzOi8vd3d3LmxpdmVzY2llbmNlLmNvbS9mdWxsLW1vb24tbHVuYXItZWNsaXBzZS1qdWx5LTIwMjAuaHRtbNIBRmh0dHBzOi8vd3d3LmxpdmVzY2llbmNlLmNvbS9hbXAvZnVsbC1tb29uLWx1bmFyLWVjbGlwc2UtanVseS0yMDIwLmh0bWw?oc=5\n",
      "Thu, 02 Jul 2020 21:05:00 GMT\n",
      "------------------------------------------------------------\n",
      "Higher metal concentration in Moons craters provides new insights to its origin - Zee Business\n",
      "https://news.google.com/__i/rss/rd/articles/CBMieGh0dHBzOi8vd3d3LnplZWJpei5jb20vd29ybGQvbmV3cy1oaWdoZXItbWV0YWwtY29uY2VudHJhdGlvbi1pbi1tb29ucy1jcmF0ZXJzLXByb3ZpZGVzLW5ldy1pbnNpZ2h0cy10by1pdHMtb3JpZ2luLTEzMDM3ONIBfGh0dHBzOi8vd3d3LnplZWJpei5jb20vd29ybGQvbmV3cy1oaWdoZXItbWV0YWwtY29uY2VudHJhdGlvbi1pbi1tb29ucy1jcmF0ZXJzLXByb3ZpZGVzLW5ldy1pbnNpZ2h0cy10by1pdHMtb3JpZ2luLTEzMDM3OC9hbXA?oc=5\n",
      "Thu, 02 Jul 2020 15:44:55 GMT\n",
      "------------------------------------------------------------\n",
      "Fastest-growing black hole in the universe eats the equivalent of one sun per day - ZME Science\n",
      "https://news.google.com/__i/rss/rd/articles/CBMiUmh0dHBzOi8vd3d3LnptZXNjaWVuY2UuY29tL3NjaWVuY2UvbmV3cy1zY2llbmNlL2Zhc3Rlc3QtZ3Jvd2luZy1ibGFjay1ob2xlLTA1MjM1Mi_SAVZodHRwczovL3d3dy56bWVzY2llbmNlLmNvbS9zY2llbmNlL25ld3Mtc2NpZW5jZS9mYXN0ZXN0LWdyb3dpbmctYmxhY2staG9sZS0wNTIzNTIvYW1wLw?oc=5\n",
      "Thu, 02 Jul 2020 12:21:22 GMT\n",
      "------------------------------------------------------------\n",
      "NASA's Lunar Loo challenge - Toilet design | The Economic Times - Economic Times\n",
      "https://news.google.com/__i/rss/rd/articles/CBMigQFodHRwczovL2Vjb25vbWljdGltZXMuaW5kaWF0aW1lcy5jb20vbmV3cy9pbnRlcm5hdGlvbmFsL3dvcmxkLW5ld3MvbmFzYXMtbHVuYXItbG9vLWNoYWxsZW5nZS90b2lsZXQtZGVzaWduL3NsaWRlc2hvdy83Njc0NzYwNC5jbXPSAQA?oc=5\n",
      "Thu, 02 Jul 2020 08:53:00 GMT\n",
      "------------------------------------------------------------\n",
      "Oxford University Has Seen 'Right Sort of Immune Response' in Potential Covid-19 Vaccine Trial, Says Scie... - News18\n",
      "https://news.google.com/__i/rss/rd/articles/CBMimgFodHRwczovL3d3dy5uZXdzMTguY29tL25ld3Mvd29ybGQvb3hmb3JkLXVuaXZlcnNpdHktaGFzLXNlZW4tcmlnaHQtc29ydC1vZi1pbW11bmUtcmVzcG9uc2UtaW4tcG90ZW50aWFsLWNvdmlkLTE5LXZhY2NpbmUtdHJpYWwtc2F5cy1zY2llbnRpc3QtMjY5NjY3MS5odG1s0gGeAWh0dHBzOi8vd3d3Lm5ld3MxOC5jb20vYW1wL25ld3Mvd29ybGQvb3hmb3JkLXVuaXZlcnNpdHktaGFzLXNlZW4tcmlnaHQtc29ydC1vZi1pbW11bmUtcmVzcG9uc2UtaW4tcG90ZW50aWFsLWNvdmlkLTE5LXZhY2NpbmUtdHJpYWwtc2F5cy1zY2llbnRpc3QtMjY5NjY3MS5odG1s?oc=5\n",
      "Wed, 01 Jul 2020 14:54:26 GMT\n",
      "------------------------------------------------------------\n",
      "The reason why you should not sleep with your TV on - Times of India\n",
      "https://news.google.com/__i/rss/rd/articles/CBMilgFodHRwczovL3RpbWVzb2ZpbmRpYS5pbmRpYXRpbWVzLmNvbS9saWZlLXN0eWxlL2hlYWx0aC1maXRuZXNzL2hlYWx0aC1uZXdzL3RoZS1yZWFzb24td2h5LXlvdS1zaG91bGQtbm90LXNsZWVwLXdpdGgteW91ci10di1vbi9hcnRpY2xlc2hvdy83Njc1MTg0Mi5jbXPSAZEBaHR0cHM6Ly9tLnRpbWVzb2ZpbmRpYS5jb20vbGlmZS1zdHlsZS9oZWFsdGgtZml0bmVzcy9oZWFsdGgtbmV3cy90aGUtcmVhc29uLXdoeS15b3Utc2hvdWxkLW5vdC1zbGVlcC13aXRoLXlvdXItdHYtb24vYW1wX2FydGljbGVzaG93Lzc2NzUxODQyLmNtcw?oc=5\n",
      "Thu, 02 Jul 2020 19:45:48 GMT\n",
      "------------------------------------------------------------\n",
      "Does fasting help to remove toxins from the body? - Times of India\n",
      "https://news.google.com/__i/rss/rd/articles/CBMikgFodHRwczovL3RpbWVzb2ZpbmRpYS5pbmRpYXRpbWVzLmNvbS9saWZlLXN0eWxlL2hlYWx0aC1maXRuZXNzL2hlYWx0aC1uZXdzL2RvZXMtZmFzdGluZy1oZWxwLXRvLXJlbW92ZS10b3hpbnMtZnJvbS10aGUtYm9keS9waG90b3N0b3J5Lzc2NzUzMDkyLmNtc9IBjwFodHRwczovL20udGltZXNvZmluZGlhLmNvbS9saWZlLXN0eWxlL2hlYWx0aC1maXRuZXNzL2hlYWx0aC1uZXdzL2RvZXMtZmFzdGluZy1oZWxwLXRvLXJlbW92ZS10b3hpbnMtZnJvbS10aGUtYm9keS9hbXBfZXRwaG90b3N0b3J5Lzc2NzUzMDkyLmNtcw?oc=5\n",
      "Thu, 02 Jul 2020 16:30:00 GMT\n",
      "------------------------------------------------------------\n",
      "Safety Concerns Of Oxford Covid Vaccine.. - Greatandhra.com\n",
      "https://news.google.com/__i/rss/rd/articles/CBMiZGh0dHBzOi8vd3d3LmdyZWF0YW5kaHJhLmNvbS9hcnRpY2xlcy9zcGVjaWFsLWFydGljbGVzL3NhZmV0eS1jb25jZXJucy1vZi1veGZvcmQtY292aWQtdmFjY2luZS0xMDU4MTjSAVdodHRwczovL21vYmkuZ3JlYXRhbmRocmEuY29tL2FydGljbGUvc2FmZXR5LWNvbmNlcm5zLW9mLW94Zm9yZC1jb3ZpZC12YWNjaW5lLzEwNTgxOC9hbXA?oc=5\n",
      "Wed, 01 Jul 2020 10:07:47 GMT\n",
      "------------------------------------------------------------\n"
     ]
    }
   ],
   "source": [
    "# Write a Python program to get the top stories from Google news.\n",
    "\n",
    "import bs4\n",
    "from bs4 import BeautifulSoup as soup\n",
    "from urllib.request import urlopen\n",
    "\n",
    "news_url=\"https://news.google.com/news/rss\"\n",
    "Client=urlopen(news_url)\n",
    "xml_page=Client.read()\n",
    "Client.close()\n",
    "\n",
    "soup_page=soup(xml_page,\"xml\")\n",
    "news_list=soup_page.findAll(\"item\")\n",
    "# Print news title, url and publish date\n",
    "for news in news_list:\n",
    "  print(news.title.text)\n",
    "  print(news.link.text)\n",
    "  print(news.pubDate.text)\n",
    "  print(\"-\"*60)\n"
   ]
  },
  {
   "cell_type": "code",
   "execution_count": 3,
   "metadata": {},
   "outputs": [
    {
     "name": "stdout",
     "output_type": "stream",
     "text": [
      "alabaster==0.7.12\n",
      "anaconda-client==1.7.2\n",
      "anaconda-navigator==1.9.12\n",
      "anaconda-project==0.8.3\n",
      "asn1crypto==0.24.0\n",
      "astroid==2.2.5\n",
      "astropy==3.2.1\n",
      "atomicwrites==1.3.0\n",
      "attrs==19.1.0\n",
      "babel==2.7.0\n",
      "backcall==0.1.0\n",
      "backports.functools-lru-cache==1.5\n",
      "backports.os==0.1.1\n",
      "backports.shutil-get-terminal-size==1.0.0\n",
      "backports.tempfile==1.0\n",
      "backports.weakref==1.0.post1\n",
      "beautifulsoup4==4.7.1\n",
      "bitarray==0.9.3\n",
      "bkcharts==0.2\n",
      "bleach==3.1.0\n",
      "bokeh==1.2.0\n",
      "boto==2.49.0\n",
      "bottleneck==1.2.1\n",
      "certifi==2019.6.16\n",
      "cffi==1.12.3\n",
      "chardet==3.0.4\n",
      "chart-studio==1.0.0\n",
      "click==7.0\n",
      "cloudpickle==1.2.1\n",
      "clyent==1.2.2\n",
      "colorama==0.4.1\n",
      "colorlover==0.3.0\n",
      "comtypes==1.1.7\n",
      "conda-build==3.18.8\n",
      "conda-package-handling==1.3.11\n",
      "conda-verify==3.4.2\n",
      "conda==4.8.3\n",
      "contextlib2==0.5.5\n",
      "cryptography==2.7\n",
      "cufflinks==0.17.0\n",
      "cycler==0.10.0\n",
      "cython==0.29.12\n",
      "cytoolz==0.10.0\n",
      "dask==2.1.0\n",
      "decorator==4.4.0\n",
      "defusedxml==0.6.0\n",
      "distributed==2.1.0\n",
      "docutils==0.14\n",
      "entrypoints==0.3\n",
      "et-xmlfile==1.0.1\n",
      "fastcache==1.1.0\n",
      "filelock==3.0.12\n",
      "flask==1.1.1\n",
      "future==0.17.1\n",
      "gevent==1.4.0\n",
      "glob2==0.7\n",
      "greenlet==0.4.15\n",
      "h5py==2.9.0\n",
      "heapdict==1.0.0\n",
      "html5lib==1.0.1\n",
      "idna==2.8\n",
      "imageio==2.5.0\n",
      "imagesize==1.1.0\n",
      "importlib-metadata==0.17\n",
      "ipykernel==5.1.1\n",
      "ipython-genutils==0.2.0\n",
      "ipython==7.6.1\n",
      "ipywidgets==7.5.0\n",
      "isort==4.3.21\n",
      "itsdangerous==1.1.0\n",
      "jdcal==1.4.1\n",
      "jedi==0.13.3\n",
      "jinja2==2.10.1\n",
      "joblib==0.13.2\n",
      "json5==0.8.4\n",
      "jsonschema==3.0.1\n",
      "jupyter-client==5.3.1\n",
      "jupyter-console==6.0.0\n",
      "jupyter-core==4.5.0\n",
      "jupyter==1.0.0\n",
      "jupyterlab-server==1.0.0\n",
      "jupyterlab==1.0.2\n",
      "keyring==18.0.0\n",
      "kiwisolver==1.1.0\n",
      "lazy-object-proxy==1.4.1\n",
      "libarchive-c==2.8\n",
      "llvmlite==0.29.0\n",
      "locket==0.2.0\n",
      "lxml==4.3.4\n",
      "markupsafe==1.1.1\n",
      "matplotlib==3.1.0\n",
      "mccabe==0.6.1\n",
      "menuinst==1.4.16\n",
      "mistune==0.8.4\n",
      "mkl-fft==1.0.12\n",
      "mkl-random==1.0.2\n",
      "mkl-service==2.0.2\n",
      "mock==3.0.5\n",
      "more-itertools==7.0.0\n",
      "mpmath==1.1.0\n",
      "msgpack==0.6.1\n",
      "multipledispatch==0.6.0\n",
      "navigator-updater==0.2.1\n",
      "nbconvert==5.5.0\n",
      "nbformat==4.4.0\n",
      "networkx==2.3\n",
      "nltk==3.4.4\n",
      "nose==1.3.7\n",
      "notebook==6.0.0\n",
      "numba==0.44.1\n",
      "numexpr==2.6.9\n",
      "numpy==1.16.4\n",
      "numpydoc==0.9.1\n",
      "olefile==0.46\n",
      "opencv-contrib-python==4.2.0.34\n",
      "openpyxl==2.6.2\n",
      "packaging==19.0\n",
      "pandas==0.24.2\n",
      "pandocfilters==1.4.2\n",
      "parso==0.5.0\n",
      "partd==1.0.0\n",
      "path.py==12.0.1\n",
      "pathlib2==2.3.4\n",
      "patsy==0.5.1\n",
      "pep8==1.7.1\n",
      "pickleshare==0.7.5\n",
      "pillow==6.1.0\n",
      "pip==19.1.1\n",
      "pkginfo==1.5.0.1\n",
      "plotly==4.3.0\n",
      "pluggy==0.12.0\n",
      "ply==3.11\n",
      "prometheus-client==0.7.1\n",
      "prompt-toolkit==2.0.9\n",
      "psutil==5.6.3\n",
      "py==1.8.0\n",
      "pycodestyle==2.5.0\n",
      "pycosat==0.6.3\n",
      "pycparser==2.19\n",
      "pycrypto==2.6.1\n",
      "pycurl==7.43.0.3\n",
      "pyflakes==2.1.1\n",
      "pygments==2.4.2\n",
      "pylint==2.3.1\n",
      "pyodbc==4.0.26\n",
      "pyopenssl==19.0.0\n",
      "pyparsing==2.4.0\n",
      "pyreadline==2.1\n",
      "pyrsistent==0.14.11\n",
      "pysocks==1.7.0\n",
      "pytest-arraydiff==0.3\n",
      "pytest-astropy==0.5.0\n",
      "pytest-doctestplus==0.3.0\n",
      "pytest-openfiles==0.3.2\n",
      "pytest-remotedata==0.3.1\n",
      "pytest==5.0.1\n",
      "python-dateutil==2.8.0\n",
      "pytz==2019.1\n",
      "pywavelets==1.0.3\n",
      "pywin32==223\n",
      "pywinpty==0.5.5\n",
      "pyyaml==5.1.1\n",
      "pyzmq==18.0.0\n",
      "qtawesome==0.5.7\n",
      "qtconsole==4.5.1\n",
      "qtpy==1.8.0\n",
      "requests==2.22.0\n",
      "retrying==1.3.3\n",
      "rope==0.14.0\n",
      "ruamel-yaml==0.15.46\n",
      "scikit-image==0.15.0\n",
      "scikit-learn==0.21.2\n",
      "scipy==1.2.1\n",
      "seaborn==0.9.0\n",
      "send2trash==1.5.0\n",
      "setuptools==41.0.1\n",
      "simplegeneric==0.8.1\n",
      "singledispatch==3.4.0.3\n",
      "six==1.12.0\n",
      "snowballstemmer==1.9.0\n",
      "sortedcollections==1.1.2\n",
      "sortedcontainers==2.1.0\n",
      "soupsieve==1.8\n",
      "sphinx==2.1.2\n",
      "sphinxcontrib-applehelp==1.0.1\n",
      "sphinxcontrib-devhelp==1.0.1\n",
      "sphinxcontrib-htmlhelp==1.0.2\n",
      "sphinxcontrib-jsmath==1.0.1\n",
      "sphinxcontrib-qthelp==1.0.2\n",
      "sphinxcontrib-serializinghtml==1.1.3\n",
      "sphinxcontrib-websupport==1.1.2\n",
      "spyder-kernels==0.5.1\n",
      "spyder==3.3.6\n",
      "sqlalchemy==1.3.5\n",
      "statsmodels==0.10.0\n",
      "sympy==1.4\n",
      "tables==3.5.2\n",
      "tblib==1.4.0\n",
      "terminado==0.8.2\n",
      "testpath==0.4.2\n",
      "toolz==0.10.0\n",
      "tornado==6.0.3\n",
      "tqdm==4.32.1\n",
      "traitlets==4.3.2\n",
      "unicodecsv==0.14.1\n",
      "urllib3==1.24.2\n",
      "wcwidth==0.1.7\n",
      "webencodings==0.5.1\n",
      "werkzeug==0.15.4\n",
      "wheel==0.33.4\n",
      "widgetsnbextension==3.5.0\n",
      "win-inet-pton==1.1.0\n",
      "win-unicode-console==0.5\n",
      "wincertstore==0.2\n",
      "wrapt==1.11.2\n",
      "xlrd==1.2.0\n",
      "xlsxwriter==1.1.8\n",
      "xlwings==0.15.8\n",
      "xlwt==1.3.0\n",
      "xmltodict==0.12.0\n",
      "zict==1.0.0\n",
      "zipp==0.5.1\n"
     ]
    }
   ],
   "source": [
    "# Write a Python program to get a list of locally installed Python modules.\n",
    "\n",
    "import pkg_resources\n",
    "installed_packages = pkg_resources.working_set\n",
    "installed_packages_list = sorted([\"%s==%s\" % (i.key, i.version)\n",
    "     for i in installed_packages])\n",
    "for m in installed_packages_list:\n",
    "    print(m)\n"
   ]
  },
  {
   "cell_type": "code",
   "execution_count": 4,
   "metadata": {},
   "outputs": [
    {
     "name": "stdout",
     "output_type": "stream",
     "text": [
      "architecture: ('64bit', 'WindowsPE')\n",
      "linux_distribution: ('', '', '')\n",
      "mac_ver: ('', ('', '', ''), '')\n",
      "machine: AMD64\n",
      "node: DESKTOP-OLFD4C6\n",
      "platform: Windows-10-10.0.17763-SP0\n",
      "processor: Intel64 Family 6 Model 142 Stepping 9, GenuineIntel\n",
      "python_build: ('default', 'Apr 24 2019 15:29:51')\n",
      "python_compiler: MSC v.1915 64 bit (AMD64)\n",
      "python_version: 3.7.3\n",
      "release: 10\n",
      "system: Windows\n",
      "uname: uname_result(system='Windows', node='DESKTOP-OLFD4C6', release='10', version='10.0.17763', machine='AMD64', processor='Intel64 Family 6 Model 142 Stepping 9, GenuineIntel')\n",
      "version: 10.0.17763\n"
     ]
    },
    {
     "name": "stderr",
     "output_type": "stream",
     "text": [
      "C:\\Users\\ASUS\\Anaconda3\\lib\\site-packages\\ipykernel_launcher.py:23: DeprecationWarning: dist() and linux_distribution() functions are deprecated in Python 3.5\n"
     ]
    }
   ],
   "source": [
    "#Write a Python program to display some information about the OS where the script is running.\n",
    "\n",
    "import platform as pl\n",
    "\n",
    "os_profile = [\n",
    "        'architecture',\n",
    "        'linux_distribution',\n",
    "        'mac_ver',\n",
    "        'machine',\n",
    "        'node',\n",
    "        'platform',\n",
    "        'processor',\n",
    "        'python_build',\n",
    "        'python_compiler',\n",
    "        'python_version',\n",
    "        'release',\n",
    "        'system',\n",
    "        'uname',\n",
    "        'version',\n",
    "    ]\n",
    "for key in os_profile:\n",
    "  if hasattr(pl, key):\n",
    "    print(key +  \": \" + str(getattr(pl, key)()))\n"
   ]
  },
  {
   "cell_type": "code",
   "execution_count": 5,
   "metadata": {},
   "outputs": [
    {
     "name": "stdout",
     "output_type": "stream",
     "text": [
      "{(10, 20, 40)}\n",
      "{(10, 20, 40), (10, 30, 30)}\n",
      "{(10, 20, 40), (10, 30, 30), (10, 40, 20)}\n",
      "{(10, 20, 40), (10, 30, 30), (20, 10, 40), (10, 40, 20)}\n",
      "{(10, 20, 40), (10, 40, 20), (20, 10, 40), (10, 30, 30), (20, 20, 30)}\n",
      "{(10, 20, 40), (10, 40, 20), (20, 10, 40), (10, 30, 30), (20, 20, 30), (20, 30, 20)}\n",
      "{(10, 20, 40), (10, 40, 20), (20, 10, 40), (20, 40, 10), (10, 30, 30), (20, 20, 30), (20, 30, 20)}\n"
     ]
    }
   ],
   "source": [
    "# Write a Python program to check the sum of three elements (each from an array) from three arrays is equal to a target value. Print all those three-element combinations. Sample data: /* X = [10, 20, 20, 20]\n",
    "#Y = [10, 20, 30, 40] Z = [10, 30, 40, 20] target = 70 */\n",
    "\n",
    "import itertools\n",
    "from functools import partial\n",
    "X = [10, 20, 20, 20]\n",
    "Y = [10, 20, 30, 40]\n",
    "Z = [10, 30, 40, 20]\n",
    "T = 70\n",
    "\n",
    "def check_sum_array(N, *nums):\n",
    "  if sum(x for x in nums) == N:\n",
    "    return (True, nums)\n",
    "  else:\n",
    "      return (False, nums)\n",
    "pro = itertools.product(X,Y,Z)\n",
    "func = partial(check_sum_array, T)\n",
    "sums = list(itertools.starmap(func, pro))\n",
    "\n",
    "result = set()\n",
    "for s in sums:\n",
    "    if s[0] == True and s[1] not in result:\n",
    "      result.add(s[1])\n",
    "      print(result)\n"
   ]
  },
  {
   "cell_type": "code",
   "execution_count": 6,
   "metadata": {},
   "outputs": [
    {
     "name": "stdout",
     "output_type": "stream",
     "text": [
      "Original Cofllection:  [1, 2, 3]\n",
      "Collection of distinct numbers:\n",
      " [[3, 2, 1], [2, 3, 1], [2, 1, 3], [3, 1, 2], [1, 3, 2], [1, 2, 3]]\n"
     ]
    }
   ],
   "source": [
    "# Write a Python program to create all possible permutations from a given collection of distinct numbers.\n",
    "\n",
    "def permute(nums):\n",
    "  result_perms = [[]]\n",
    "  for n in nums:\n",
    "    new_perms = []\n",
    "    for perm in result_perms:\n",
    "      for i in range(len(perm)+1):\n",
    "        new_perms.append(perm[:i] + [n] + perm[i:])\n",
    "        result_perms = new_perms\n",
    "  return result_perms\n",
    "\n",
    "my_nums = [1,2,3]\n",
    "print(\"Original Cofllection: \",my_nums)\n",
    "print(\"Collection of distinct numbers:\\n\",permute(my_nums))\n"
   ]
  },
  {
   "cell_type": "code",
   "execution_count": 7,
   "metadata": {},
   "outputs": [
    {
     "name": "stdout",
     "output_type": "stream",
     "text": [
      "['jt', 'ju', 'jv', 'kt', 'ku', 'kv', 'lt', 'lu', 'lv']\n",
      "['dz', 'ez', 'fz']\n"
     ]
    }
   ],
   "source": [
    "# Write a Python program to get all possible two digit letter combinations from a digit (1 to 9) string string_maps = { \"1\": \"abc\", \"2\": \"def\", \"3\": \"ghi\", \"4\": \"jkl\", \"5\": \"mno\", \"6\": \"pqrs\", \"7\": \"tuv\", \"8\": \"wxy\", \"9\": \"z\" }\n",
    "\n",
    "\n",
    "def letter_combinations(digits):\n",
    "    if digits == \"\":\n",
    "        return []\n",
    "    string_maps = {\n",
    "        \"1\": \"abc\",\n",
    "        \"2\": \"def\",\n",
    "        \"3\": \"ghi\",\n",
    "        \"4\": \"jkl\",\n",
    "        \"5\": \"mno\",\n",
    "        \"6\": \"pqrs\",\n",
    "        \"7\": \"tuv\",\n",
    "        \"8\": \"wxy\",\n",
    "        \"9\": \"z\"\n",
    "    }\n",
    "    result = [\"\"]\n",
    "    for num in digits:\n",
    "        temp = []\n",
    "        for an in result:\n",
    "            for char in string_maps[num]:\n",
    "                temp.append(an + char)\n",
    "        result = temp\n",
    "    return result\n",
    "\n",
    "digit_string = \"47\"\n",
    "print(letter_combinations(digit_string))\n",
    "digit_string = \"29\"\n",
    "print(letter_combinations(digit_string))\n"
   ]
  },
  {
   "cell_type": "code",
   "execution_count": 8,
   "metadata": {},
   "outputs": [
    {
     "name": "stdout",
     "output_type": "stream",
     "text": [
      "12\n",
      "-10\n",
      "-30\n"
     ]
    }
   ],
   "source": [
    "#  Write a Python program to add two positive integers without using the '+' operator.\n",
    "\n",
    "def add_without_plus_operator(a, b):\n",
    "    while b != 0:\n",
    "        data = a & b\n",
    "        a = a ^ b\n",
    "        b = data << 1\n",
    "    return a\n",
    "print(add_without_plus_operator(2, 10))\n",
    "print(add_without_plus_operator(-20, 10))\n",
    "print(add_without_plus_operator(-10, -20))\n"
   ]
  },
  {
   "cell_type": "code",
   "execution_count": 9,
   "metadata": {},
   "outputs": [
    {
     "name": "stdout",
     "output_type": "stream",
     "text": [
      "True\n",
      "True\n",
      "False\n",
      "False\n",
      "True\n"
     ]
    }
   ],
   "source": [
    "# Write a Python program to check the priority of the four operators (+, -, *, /).\n",
    "\n",
    "from collections import deque\n",
    "import re\n",
    "\n",
    "__operators__ = \"+-/*\"\n",
    "__parenthesis__ = \"()\"\n",
    "__priority__ = {\n",
    "    '+': 0,\n",
    "    '-': 0,\n",
    "    '*': 1,\n",
    "    '/': 1,\n",
    "}\n",
    "\n",
    "def test_higher_priority(operator1, operator2):\n",
    "    return __priority__[operator1] >= __priority__[operator2]\n",
    "\n",
    "print(test_higher_priority('*','-'))\n",
    "print(test_higher_priority('+','-'))\n",
    "print(test_higher_priority('+','*'))\n",
    "print(test_higher_priority('+','/'))\n",
    "print(test_higher_priority('*','/'))\n"
   ]
  },
  {
   "cell_type": "code",
   "execution_count": 10,
   "metadata": {},
   "outputs": [
    {
     "name": "stdout",
     "output_type": "stream",
     "text": [
      "Hypotenuse = 5.0\n",
      "Adjacent = 4.0\n",
      "Opposite = 3.0\n",
      "You know the answer!\n"
     ]
    }
   ],
   "source": [
    "# Write a Python program to get the third side of right angled triangle from two given sides.\n",
    "\n",
    "def pythagoras(opposite_side,adjacent_side,hypotenuse):\n",
    "        if opposite_side == str(\"x\"):\n",
    "            return (\"Opposite = \" + str(((hypotenuse**2) - (adjacent_side**2))**0.5))\n",
    "        elif adjacent_side == str(\"x\"):\n",
    "            return (\"Adjacent = \" + str(((hypotenuse**2) - (opposite_side**2))**0.5))\n",
    "        elif hypotenuse == str(\"x\"):\n",
    "            return (\"Hypotenuse = \" + str(((opposite_side**2) + (adjacent_side**2))**0.5))\n",
    "        else:\n",
    "            return \"You know the answer!\"\n",
    "    \n",
    "print(pythagoras(3,4,'x'))\n",
    "print(pythagoras(3,'x',5))\n",
    "print(pythagoras('x',4,5))\n",
    "print(pythagoras(3,4,5))\n"
   ]
  },
  {
   "cell_type": "code",
   "execution_count": 11,
   "metadata": {},
   "outputs": [
    {
     "name": "stdout",
     "output_type": "stream",
     "text": [
      "Input the first number5\n",
      "Input the second number4\n",
      "Input the third number7\n",
      "Median of the above three numbers -\n",
      "5\n"
     ]
    }
   ],
   "source": [
    "# Write a Python program to find the median among three given numbers.\n",
    "\n",
    "x = input(\"Input the first number\")\n",
    "y = input(\"Input the second number\")\n",
    "z = input(\"Input the third number\")\n",
    "print(\"Median of the above three numbers -\")\n",
    "\n",
    "if y < x and x < z:\n",
    "    print(x)\n",
    "elif z < x and x < y:\n",
    "    print(x)\n",
    "    \n",
    "elif z < y and y < x:\n",
    "    print(y)\n",
    "elif x < y and y < z:\n",
    "    print(y)\n",
    "    \n",
    "elif y < z and z < x:\n",
    "    print(z)    \n",
    "elif x < z and z < y:\n",
    "    print(z)\n"
   ]
  },
  {
   "cell_type": "code",
   "execution_count": 12,
   "metadata": {},
   "outputs": [
    {
     "name": "stdout",
     "output_type": "stream",
     "text": [
      "5\n",
      "6\n"
     ]
    }
   ],
   "source": [
    "# Write a Python program to find the value of n where n degrees of number 2 are written sequentially in a line without spaces.\n",
    "\n",
    "\n",
    "def ndegrees(num):\n",
    "  ans = True\n",
    "  n, tempn, i = 2, 2, 2\n",
    "  while ans:\n",
    "    if str(tempn) in num:\n",
    "      i += 1\n",
    "      tempn = pow(n, i)\n",
    "    else:\n",
    "      ans = False\n",
    "  return i-1;\n",
    "print(ndegrees(\"2481632\"))\n",
    "print(ndegrees(\"248163264\"))\n"
   ]
  },
  {
   "cell_type": "code",
   "execution_count": 13,
   "metadata": {},
   "outputs": [
    {
     "name": "stdout",
     "output_type": "stream",
     "text": [
      "1\n",
      "2\n",
      "24\n"
     ]
    }
   ],
   "source": [
    "# Write a Python program to find the number of zeros at the end of a factorial of a given positive number.\n",
    "\n",
    "def factendzero(n):\n",
    "  x = n // 5\n",
    "  y = x \n",
    "  while x > 0:\n",
    "    x /= 5\n",
    "    y += int(x)\n",
    "  return y\n",
    "       \n",
    "print(factendzero(5))\n",
    "print(factendzero(12))\n",
    "print(factendzero(100))\n"
   ]
  },
  {
   "cell_type": "code",
   "execution_count": 14,
   "metadata": {},
   "outputs": [
    {
     "name": "stdout",
     "output_type": "stream",
     "text": [
      "6\n",
      "2\n"
     ]
    }
   ],
   "source": [
    "#  Write a Python program to find the number of notes (Sample of notes: 10, 20, 50, 100, 200 and 500) against a given amount. Range - Number of notes (n): n (1 = n = 1000000).\n",
    "\n",
    "\n",
    "\n",
    "def no_notes(a):\n",
    "  Q = [500, 200, 100, 50, 20, 10]\n",
    "  x = 0\n",
    "  for i in range(6):\n",
    "    q = Q[i]\n",
    "    x += int(a / q)\n",
    "    a = int(a % q)\n",
    "  if a > 0:\n",
    "    x = -1\n",
    "  return x\n",
    "print(no_notes(880))\n",
    "print(no_notes(1000))\n"
   ]
  },
  {
   "cell_type": "code",
   "execution_count": 16,
   "metadata": {},
   "outputs": [
    {
     "name": "stdout",
     "output_type": "stream",
     "text": [
      "4\n",
      "7\n",
      "13\n",
      "1\n"
     ]
    }
   ],
   "source": [
    "# Write a Python program to create a sequence where the first four members of the sequence are equal to one, and each successive term of the sequence is equal to the sum of the four previous ones. Find the Nth member of the sequence. \n",
    "\n",
    "def new_seq(n):\n",
    "    if n==1 or n==2 or n==3 or n==4:\n",
    "        return 1\n",
    "    return new_seq(n-1) + new_seq(n-2) + new_seq(n-3) + new_seq(n-4)\n",
    "print(new_seq(5))\n",
    "print(new_seq(6))\n",
    "print(new_seq(7))\n",
    "print(new_seq(1))\n",
    "\n"
   ]
  },
  {
   "cell_type": "code",
   "execution_count": 17,
   "metadata": {},
   "outputs": [
    {
     "name": "stdout",
     "output_type": "stream",
     "text": [
      "1\n",
      "3\n"
     ]
    }
   ],
   "source": [
    "# Write a Python program that accept a positive number and subtract from this number the sum of its digits and so on. Continues this operation until the number is positive\n",
    "\n",
    "\n",
    "def repeat_times(n):\n",
    "  s = 0\n",
    "  n_str = str(n)\n",
    "  while (n > 0):\n",
    "    n -= sum([int(i) for i in list(n_str)])\n",
    "    n_str = list(str(n))\n",
    "    s += 1\n",
    "  return s\n",
    "print(repeat_times(9))\n",
    "print(repeat_times(21))\n"
   ]
  },
  {
   "cell_type": "code",
   "execution_count": 18,
   "metadata": {},
   "outputs": [
    {
     "name": "stdout",
     "output_type": "stream",
     "text": [
      "4\n",
      "6\n",
      "3\n",
      "4\n",
      "2\n"
     ]
    }
   ],
   "source": [
    "# Write a Python program to find the number of divisors of a given integer is even or odd.\n",
    "\n",
    "def divisor(n):\n",
    "  for i in range(n):\n",
    "    x = len([i for i in range(1,n+1) if not n % i])\n",
    "  return x\n",
    "print(divisor(15))\n",
    "print(divisor(12))\n",
    "print(divisor(9))\n",
    "print(divisor(6))\n",
    "print(divisor(3))\n"
   ]
  },
  {
   "cell_type": "code",
   "execution_count": 19,
   "metadata": {},
   "outputs": [
    {
     "name": "stdout",
     "output_type": "stream",
     "text": [
      "[1, 4, 5]\n"
     ]
    }
   ],
   "source": [
    "# Write a Python program to find the digits which are absent in a given mobile number\n",
    "\n",
    "def absent_digits(n):\n",
    "  all_nums = set([0,1,2,3,4,5,6,7,8,9])\n",
    "  n = set([int(i) for i in n])\n",
    "  n = n.symmetric_difference(all_nums)\n",
    "  n = sorted(n)\n",
    "  return n\n",
    "print(absent_digits([9,8,3,2,2,0,9,7,6,3]))\n"
   ]
  },
  {
   "cell_type": "code",
   "execution_count": 20,
   "metadata": {},
   "outputs": [
    {
     "name": "stdout",
     "output_type": "stream",
     "text": [
      "4\n",
      "8\n"
     ]
    }
   ],
   "source": [
    "# Write a Python program to compute the summation of the absolute difference of all distinct pairs in an given array (non-decreasing order).\n",
    "\n",
    "\n",
    "\n",
    "def sum_distinct_pairs(arr):\n",
    "    result = 0\n",
    "    i = 0\n",
    "    while i<len(arr):\n",
    "        result+=i*arr[i]-(len(arr)-i-1)*arr[i]\n",
    "        i+=1\n",
    "    return result\n",
    "print(sum_distinct_pairs([1,2,3]))\n",
    "print(sum_distinct_pairs([1,4,5]))\n"
   ]
  },
  {
   "cell_type": "code",
   "execution_count": 21,
   "metadata": {},
   "outputs": [
    {
     "name": "stdout",
     "output_type": "stream",
     "text": [
      "Input third term of the series:3\n",
      "Input 3rd last term:3\n",
      "Sum of the series:3\n",
      "Length of the series:  1\n",
      "Series:\n",
      "3 "
     ]
    }
   ],
   "source": [
    "# Write a Python program to print the length of the series and the series from the given 3rd term, 3rd last term and the sum of a series.\n",
    "\n",
    "\n",
    "tn = int(input(\"Input third term of the series:\"))\n",
    "tltn = int(input(\"Input 3rd last term:\"))\n",
    "s_sum = int(input(\"Sum of the series:\"))\n",
    "n = int(2*s_sum/(tn+tltn))\n",
    "print(\"Length of the series: \",n)\n",
    "\n",
    "\n",
    "if n-5==0:\n",
    "  d = (s_sum-3*tn)//6\n",
    "else:\n",
    "  d = (tltn-tn)/(n-5)\n",
    "\n",
    "a = tn-2*d\n",
    "j = 0\n",
    "print(\"Series:\")\n",
    "for j in range(n-1):\n",
    "  print(int(a),end=\" \")\n",
    "  a+=d\n",
    "print(int(a),end=\" \")\n"
   ]
  },
  {
   "cell_type": "code",
   "execution_count": 22,
   "metadata": {},
   "outputs": [
    {
     "name": "stdout",
     "output_type": "stream",
     "text": [
      "Number of common divisors:  2\n",
      "Number of common divisors:  2\n",
      "Number of common divisors:  6\n"
     ]
    }
   ],
   "source": [
    "# Write a Python program to find common divisors between two numbers in a given pair.\n",
    "  \n",
    "def ngcd(x, y):\n",
    "    i=1\n",
    "    while(i<=x and i<=y):\n",
    "        if(x%i==0 and y%i == 0):\n",
    "            gcd=i;\n",
    "        i+=1\n",
    "    return gcd;\n",
    "def num_comm_div(x, y):\n",
    "  n = ngcd(x, y)\n",
    "  result = 0\n",
    "  z = int(n**0.5)\n",
    "  i = 1\n",
    "  while( i <= z ):\n",
    "    if(n % i == 0):\n",
    "      result += 2 \n",
    "      if(i == n/i):\n",
    "        result-=1\n",
    "    i+=1\n",
    "  return result\n",
    "\n",
    "print(\"Number of common divisors: \",num_comm_div(2, 4))\n",
    "print(\"Number of common divisors: \",num_comm_div(2, 8))\n",
    "print(\"Number of common divisors: \",num_comm_div(12, 24))\n"
   ]
  },
  {
   "cell_type": "code",
   "execution_count": 23,
   "metadata": {},
   "outputs": [
    {
     "name": "stdout",
     "output_type": "stream",
     "text": [
      "5555\n",
      "9339\n"
     ]
    }
   ],
   "source": [
    "# Write a Python program to reverse the digits of a given number and add it to the original, If the sum is not a palindrome repeat this procedure. Note: A palindrome is a word, number, or other sequence of characters which reads the same backward as forward, such as madam or racecar.\n",
    "\n",
    "\n",
    "def rev_number(n):\n",
    "  s = 0\n",
    "  while True:\n",
    "    k = str(n)\n",
    "    if k == k[::-1]:\n",
    "      break\n",
    "    else:\n",
    "      m = int(k[::-1])\n",
    "      n += m\n",
    "      s += 1\n",
    "  return n \n",
    "\n",
    "print(rev_number(1234))\n",
    "print(rev_number(1473))\n"
   ]
  },
  {
   "cell_type": "code",
   "execution_count": 24,
   "metadata": {},
   "outputs": [
    {
     "name": "stdout",
     "output_type": "stream",
     "text": [
      "Input the heights of eight buildings:\n",
      "55\n",
      "55\n",
      "55\n",
      "55\n",
      "74\n",
      "4\n",
      "74\n",
      "412\n",
      "Heights of the top three buildings:\n",
      "412\n",
      "74\n",
      "74\n"
     ]
    }
   ],
   "source": [
    "# Write a python program to find heights of the top three building in descending order from eight given buildings. Input: 0 = height of building (integer) = 10,000 Input the heights of eight buildings: 25 35 15 16 30 45 37 39 Heights of the top three buildings: 45 39 37\n",
    "  \n",
    "print(\"Input the heights of eight buildings:\")\n",
    "l = [int(input()) for i in range(8)]\n",
    "print(\"Heights of the top three buildings:\")\n",
    "l = sorted(l)\n",
    "print(*l[:4:-1], sep='\\n')\n"
   ]
  },
  {
   "cell_type": "code",
   "execution_count": 1,
   "metadata": {},
   "outputs": [
    {
     "data": {
      "text/plain": [
       "'print(\"Input two integers(a b): \")\\na,b = map(int,input().split(\" \"))\\nprint(\"Number of digit of a and b.:\")\\nprint(len(str(a+b)))\\n'"
      ]
     },
     "execution_count": 1,
     "metadata": {},
     "output_type": "execute_result"
    }
   ],
   "source": [
    "#Write a Python program to compute the digit number of sum of two given integers. Input: Each test case consists of two non-negative integers x and y which are separated by a space in a line. 0 = x, y = 1,000,000 Input two integers(a b): 5 7 Sum of two integers a and b.: 2\n",
    "\n",
    " \n",
    "\"\"\"print(\"Input two integers(a b): \")\n",
    "a,b = map(int,input().split(\" \"))\n",
    "print(\"Number of digit of a and b.:\")\n",
    "print(len(str(a+b)))\n",
    "\"\"\""
   ]
  },
  {
   "cell_type": "code",
   "execution_count": 3,
   "metadata": {},
   "outputs": [
    {
     "name": "stdout",
     "output_type": "stream",
     "text": [
      "Input three integers(sides of a triangle)\n",
      "1 1 1\n",
      "No\n"
     ]
    }
   ],
   "source": [
    "#Write a Python program to check whether three given lengths (integers) of three sides form a right triangle. Print \"Yes\" if the given sides form a right triangle otherwise print \"\n",
    "\n",
    "\n",
    "\n",
    "print(\"Input three integers(sides of a triangle)\")\n",
    "int_num = list(map(int,input().split()))\n",
    "x,y,z = sorted(int_num)\n",
    "if x**2+y**2==z**2:\n",
    "    print('Yes')\n",
    "else:\n",
    "    print('No')\n"
   ]
  },
  {
   "cell_type": "code",
   "execution_count": 4,
   "metadata": {},
   "outputs": [
    {
     "name": "stdout",
     "output_type": "stream",
     "text": [
      "Input the value of a, b, c, d, e, f:\n",
      "4 5 6 1 2 3\n",
      "Values of x and y:\n",
      "-1.000 2.000\n"
     ]
    }
   ],
   "source": [
    "#  Write a Python program which solve the equation ax+by=c dx+ey=f Print the values of x, y where a, b, c, d, e and f are given. Input: a,b,c,d,e,f separated by a single space. (-1,000 = a,b,c,d,e,f = 1,000) Input the value of a, b, c, d, e, f: 5 8 6 7 9 4 Values of x and y: -2.000 2.000\n",
    "\n",
    "\n",
    "\n",
    "print(\"Input the value of a, b, c, d, e, f:\")\n",
    "a, b, c, d, e, f = map(float, input().split())\n",
    "n = a*e - b*d\n",
    "print(\"Values of x and y:\")\n",
    "if n != 0:\n",
    "    x = (c*e - b*f) / n\n",
    "    y = (a*f - c*d) / n\n",
    "    print('{:.3f} {:.3f}'.format(x+0, y+0))\n"
   ]
  },
  {
   "cell_type": "code",
   "execution_count": 5,
   "metadata": {},
   "outputs": [
    {
     "name": "stdout",
     "output_type": "stream",
     "text": [
      "Input number of months:\n",
      "5\n",
      "Amount of debt:  $130000\n"
     ]
    }
   ],
   "source": [
    "#  Write a Python program to compute the amount of the debt in n months. The borrowing amount is $100,000 and the loan adds 5% interest of the debt and rounds it to the nearest 1,000 above month by month. Input: An integer n (0 = n = 100) Input number of months: 7 Amount of debt: $144000\n",
    "\n",
    "\n",
    "\n",
    "def round_n(n):\n",
    "    if n%1000:\n",
    "        return (1+n//1000)*1000\n",
    "    else:\n",
    "        return n\n",
    "     \n",
    "def compute_debt(n):\n",
    "    if n==0: return 100000\n",
    "    return int(round_n(compute_debt(n-1)*1.05))\n",
    "\n",
    "print(\"Input number of months:\")\n",
    "result = compute_debt(int(input()))\n",
    "print(\"Amount of debt: \",\"$\"+str(result).strip())\n"
   ]
  },
  {
   "cell_type": "code",
   "execution_count": 6,
   "metadata": {},
   "outputs": [
    {
     "name": "stdout",
     "output_type": "stream",
     "text": [
      "Input the number(n):\n",
      "5\n",
      "Number of combinations: 56\n"
     ]
    }
   ],
   "source": [
    "#  Write a Python program which reads an integer n and find the number of combinations of a,b,c and d (0 = a,b,c,d = 9) where (a + b + c + d) will be equal to n. Input: n (1 = n = 50) Input the number(n): 15 Number of combinations: 592\n",
    "\n",
    "\n",
    "\n",
    "import itertools\n",
    "print(\"Input the number(n):\")\n",
    "n=int(input())\n",
    "result=0\n",
    "for (i,j,k) in itertools.product(range(10),range(10),range(10)):\n",
    "    result+=(0<=n-(i+j+k)<=9)\n",
    "print(\"Number of combinations:\",result)\n"
   ]
  },
  {
   "cell_type": "code",
   "execution_count": 7,
   "metadata": {},
   "outputs": [
    {
     "name": "stdout",
     "output_type": "stream",
     "text": [
      "Input the number(n):\n",
      "5\n",
      "Number of prime numbers which are less than or equal to n.: 3\n"
     ]
    }
   ],
   "source": [
    "# Write a Python program to print the number of prime numbers which are less than or equal to a given integer. Input: n (1 = n = 999,999) Input the number(n): 35 Number of prime numbers which are less than or equal to n.: 11\n",
    "\n",
    "\n",
    "primes = [1] * 500000\n",
    "primes[0] = 0\n",
    " \n",
    "for i in range(3, 1000, 2):\n",
    "    if primes[i // 2]:\n",
    "        primes[(i * i) // 2::i] = [0] * len(primes[(i * i) // 2::i])\n",
    " \n",
    "print(\"Input the number(n):\")\n",
    "n=int(input())\n",
    "if n < 4:\n",
    "    print(\"Number of prime numbers which are less than or equal to n.:\",n - 1)\n",
    "else:\n",
    "    print(\"Number of prime numbers which are less than or equal to n.:\",sum(primes[:(n + 1) // 2]) + 1)\n"
   ]
  },
  {
   "cell_type": "code",
   "execution_count": 1,
   "metadata": {},
   "outputs": [],
   "source": [
    "#   Write a program to compute the radius and the central coordinate (x, y) of a circle which is constructed by three given points on the plane surface. Input: x1, y1, x2, y2, x3, y3 separated by a single space. Input three coordinate of the circle: 9 3 6 8 3 6\n",
    "#  Radius of the said circle: 3.358 Central coordinate (x, y) of the circle: 6.071 4.643\n",
    "\n",
    "\n",
    "#print(\"Input three coordinate of the circle:\")\n",
    "#x1, y1, x2, y2, x3, y3 = map(float, input().split())\n",
    "#c = (x1-x2)**2 + (y1-y2)**2\n",
    "#a = (x2-x3)**2 + (y2-y3)**2\n",
    "#b = (x3-x1)**2 + (y3-y1)**2\n",
    "#s = 2*(a*b + b*c + c*a) - (a*a + b*b + c*c) \n",
    "#px = (a*(b+c-a)*x1 + b*(c+a-b)*x2 + c*(a+b-c)*x3) / s\n",
    "#py = (a*(b+c-a)*y1 + b*(c+a-b)*y2 + c*(a+b-c)*y3) / s \n",
    "#ar = a**0.5\n",
    "#br = b**0.5\n",
    "#cr = c**0.5 \n",
    "#r = ar*br*cr / ((ar+br+cr)*(-ar+br+cr)*(ar-br+cr)*(ar+br-cr))**0.5\n",
    "#print(\"Radius of the said circle:\")\n",
    "#print(\"{:>.3f}\".format(r))\n",
    "#print(\"Central coordinate (x, y) of the circle:\")\n",
    "#print(\"{:>.3f}\".format(px),\"{:>.3f}\".format(py))\n"
   ]
  },
  {
   "cell_type": "code",
   "execution_count": null,
   "metadata": {},
   "outputs": [],
   "source": [
    "#  Write a Python program to check whether a point (x,y) is in a triangle or not. There is a triangle formed by three points.\n",
    "\n",
    "\n",
    "print(\"Input x1,y1,x2,y2,x3,y3,xp,yp:\")\n",
    "x1,y1,x2,y2,x3,y3,xp,yp = map(float, input().split())\n",
    "c1 = (x2-x1)*(yp-y1)-(y2-y1)*(xp-x1)\n",
    "c2 = (x3-x2)*(yp-y2)-(y3-y2)*(xp-x2)\n",
    "c3 = (x1-x3)*(yp-y3)-(y1-y3)*(xp-x3)\n",
    "if (c1<0 and c2<0 and c3<0) or (c1>0 and c2>0 and c3>0):\n",
    "    print(\"The point is in the triangle.\")\n",
    "else:\n",
    "    print(\"The point is outside the triangle.\")\n"
   ]
  },
  {
   "cell_type": "code",
   "execution_count": 2,
   "metadata": {},
   "outputs": [
    {
     "name": "stdout",
     "output_type": "stream",
     "text": [
      "Input first integer:\n",
      "5\n",
      "Input second integer:\n",
      "5\n",
      "Sum of the two integers:  10\n"
     ]
    }
   ],
   "source": [
    "# Write a Python program to compute and print sum of two given integers (more than or equal to zero). If given integers or the sum have more than 80 digits, print \"overflow\".\n",
    "\n",
    "\n",
    "print(\"Input first integer:\")\n",
    "x = int(input())\n",
    "print(\"Input second integer:\")\n",
    "y = int(input())\n",
    "if x >= 10 ** 80 or y >= 10 ** 80 or x + y >= 10 ** 80:\n",
    "    print(\"Overflow!\")\n",
    "else:\n",
    "    print(\"Sum of the two integers: \",x + y)\n"
   ]
  },
  {
   "cell_type": "code",
   "execution_count": 3,
   "metadata": {},
   "outputs": [
    {
     "name": "stdout",
     "output_type": "stream",
     "text": [
      "Input six integers:\n",
      "5 4 3 7 4 5\n",
      "After sorting the said ntegers:\n",
      "7 5 5 4 4 3\n"
     ]
    }
   ],
   "source": [
    "# Write a Python program that accepts six numbers as input and sorts them in descending order.\n",
    "\n",
    "\n",
    "print(\"Input six integers:\")\n",
    "nums = list(map(int, input().split()))\n",
    "nums.sort()\n",
    "nums.reverse()\n",
    "print(\"After sorting the said ntegers:\")\n",
    "print(*nums)\n"
   ]
  },
  {
   "cell_type": "code",
   "execution_count": null,
   "metadata": {},
   "outputs": [
    {
     "name": "stdout",
     "output_type": "stream",
     "text": [
      "Input number of sequence of numbers you want to input (0 to exit):\n",
      "3\n",
      "Input numbers:\n",
      "2\n",
      "4\n",
      "6\n",
      "Maximum sum of the said contiguous subsequence:\n",
      "12\n",
      "Input number of sequence of numbers you want to input (0 to exit):\n"
     ]
    }
   ],
   "source": [
    "# Write a Python program to find the maximum sum of a contiguous subsequence from a given sequence of numbers a1, a2, a3, ... an. A subsequence of one element is also a continuous subsequence.\n",
    "\n",
    "\n",
    "while True:\n",
    "    print(\"Input number of sequence of numbers you want to input (0 to exit):\")\n",
    "    n = int(input())\n",
    "    if n == 0:\n",
    "        break\n",
    "    else:\n",
    "        A = []\n",
    "        Sum = []\n",
    "        print(\"Input numbers:\") \n",
    "        for i in range(n):\n",
    "            A.append(int(input()))\n",
    "        Wa = 0\n",
    "        for i in range(0,n):\n",
    "            Wa += A[i]\n",
    "            Sum.append(Wa)\n",
    "        for i in range(0 , n):\n",
    "            for j in range(0 , i):\n",
    "                Num = Sum[i] - Sum[j]\n",
    "                Sum.append(Num)\n",
    "        print(\"Maximum sum of the said contiguous subsequence:\")\n",
    "        print(max(Sum))\n"
   ]
  },
  {
   "cell_type": "code",
   "execution_count": 1,
   "metadata": {},
   "outputs": [
    {
     "data": {
      "text/plain": [
       "'import math\\nprint(\"Input x1, y1, r1, x2, y2, r2:\")\\nx1,y1,r1,x2,y2,r2 = [float(i) for i in input().split()]\\nd = math.sqrt((x1-x2)**2 + (y1-y2)**2)\\nif d < r1-r2:\\n    print(\"C2  is in C1\")\\nelif d < r2-r1:\\n    print(\"C1  is in C2\")\\nelif d > r1+r2:\\n    print(\"Circumference of C1  and C2  intersect\")\\nelse:\\n    print(\"C1 and C2  do not overlap\")\\n'"
      ]
     },
     "execution_count": 1,
     "metadata": {},
     "output_type": "execute_result"
    }
   ],
   "source": [
    "# There are two circles C1 with radius r1, central coordinate (x1, y1) and C2 with radius r2 and central coordinate (x2, y2).\n",
    "\n",
    "\"\"\"import math\n",
    "print(\"Input x1, y1, r1, x2, y2, r2:\")\n",
    "x1,y1,r1,x2,y2,r2 = [float(i) for i in input().split()]\n",
    "d = math.sqrt((x1-x2)**2 + (y1-y2)**2)\n",
    "if d < r1-r2:\n",
    "    print(\"C2  is in C1\")\n",
    "elif d < r2-r1:\n",
    "    print(\"C1  is in C2\")\n",
    "elif d > r1+r2:\n",
    "    print(\"Circumference of C1  and C2  intersect\")\n",
    "else:\n",
    "    print(\"C1 and C2  do not overlap\")\n",
    "\"\"\""
   ]
  },
  {
   "cell_type": "code",
   "execution_count": 2,
   "metadata": {},
   "outputs": [
    {
     "name": "stdout",
     "output_type": "stream",
     "text": [
      "Input month and date (separated by a single space):\n",
      "5 15\n",
      "Name of the date:  Sunday\n"
     ]
    }
   ],
   "source": [
    "# Write a Python program to that reads a date (from 2016/1/1 to 2016/12/31) and prints the day of the date. Jan. 1, 2016, is Friday. Note that 2016 is a leap year.\n",
    "\n",
    "from datetime import date\n",
    "print(\"Input month and date (separated by a single space):\")\n",
    "m, d = map(int, input().split())\n",
    "weeks = {1:'Monday',2:'Tuesday',3:'Wednesday',4:'Thursday',5:'Friday',6:'Saturday',7:'Sunday'}\n",
    "w = date.isoweekday(date(2016, m, d))\n",
    "print(\"Name of the date: \",weeks[w])\n"
   ]
  },
  {
   "cell_type": "code",
   "execution_count": 3,
   "metadata": {},
   "outputs": [
    {
     "name": "stdout",
     "output_type": "stream",
     "text": [
      "Input a text in a line.\n",
      "harish\n",
      "\n",
      "Most frequent text and the word which has the maximum number of letters.\n",
      "harish harish\n"
     ]
    }
   ],
   "source": [
    "#  Write a Python program which reads a text (only alphabetical characters and spaces.) and prints two words. The first one is the word which is arise most frequently in the text. The second one is the word which has the maximum number of letters.\n",
    "\n",
    "import collections\n",
    "print(\"Input a text in a line.\")\n",
    "text_list = list(map(str, input().split()))\n",
    "sc = collections.Counter(text_list)\n",
    "common_word = sc.most_common()[0][0]\n",
    "max_char = \"\"\n",
    "for s in text_list:\n",
    "    if len(max_char) < len(s):\n",
    "        max_char = s\n",
    "print(\"\\nMost frequent text and the word which has the maximum number of letters.\")\n",
    "print(common_word, max_char)\n"
   ]
  },
  {
   "cell_type": "code",
   "execution_count": null,
   "metadata": {},
   "outputs": [],
   "source": [
    "#  Write a Python program that reads n digits (given) chosen from 0 to 9 and prints the number of combinations where the sum of the digits equals to another given number (s). Do not use the same digits in a combination.\n",
    "\n",
    "import itertools\n",
    "print(\"Input number of combinations and sum, input 0 0 to exit:\")\n",
    "while True:\n",
    "  x, y = map(int, input(). split())\n",
    "  if x == 0 and y == 0:\n",
    "    break\n",
    "  s = list(itertools.combinations(range(10), x))\n",
    "  ctr = 0\n",
    "  for i in s:\n",
    "    if sum(i) == y:\n",
    "            ctr += 1\n",
    " \n",
    "print(ctr)\n"
   ]
  },
  {
   "cell_type": "code",
   "execution_count": 9,
   "metadata": {},
   "outputs": [
    {
     "name": "stdout",
     "output_type": "stream",
     "text": [
      "Input two adjoined sides and the diagonal of a parallelogram (comma separated):\n",
      "3,4,5\n",
      "This is a rectangle.\n"
     ]
    }
   ],
   "source": [
    "#  Write a Python program which reads the two adjoined sides and the diagonal of a parallelogram and check whether the parallelogram is a rectangle or a rhombus.\n",
    "\n",
    "\n",
    "print(\"Input two adjoined sides and the diagonal of a parallelogram (comma separated):\")\n",
    "a,b,c = map(int, input().split(\",\"))\n",
    "if c**2 == a**2+b**2 :\n",
    "    print(\"This is a rectangle.\")\n",
    "if a == b:\n",
    "    print(\"This is a rhombus.\")\n"
   ]
  },
  {
   "cell_type": "code",
   "execution_count": 10,
   "metadata": {},
   "outputs": [
    {
     "name": "stdout",
     "output_type": "stream",
     "text": [
      "Input a text with two words 'Python' and 'Java'\n",
      "java is \n",
      "java is\n"
     ]
    }
   ],
   "source": [
    "# Write a Python program to replace a string \"Python\" with \"Java\" and \"Java\" with \"Python\" in a given string.\n",
    "\n",
    "print(\"Input a text with two words 'Python' and 'Java'\")\n",
    "text = input().split()\n",
    "for i in range(len(text)):\n",
    "    if \"Python\" in text[i]:n = text[i].index(\"Python\");text[i] = text[i][:n] + \"Java\" + text[i][n + 6:]\n",
    "    elif \"Java\" in text[i]:n = text[i].index(\"Java\");text[i] = text[i][:n] + \"Python\" + text[i][n + 4:]\n",
    "print(*text)\n"
   ]
  },
  {
   "cell_type": "code",
   "execution_count": 11,
   "metadata": {},
   "outputs": [
    {
     "name": "stdout",
     "output_type": "stream",
     "text": [
      "Input an integer created by 8 numbers from 0 to 9.:\n",
      "2345\n",
      "Difference between the largest and the smallest integer from the given integer:\n",
      "3087\n"
     ]
    }
   ],
   "source": [
    "#  Write a Python program to find the difference between the largest integer and the smallest integer which are created by 8 numbers from 0 to 9. The number that can be rearranged shall start with 0 as in 00135668.\n",
    "\n",
    "print(\"Input an integer created by 8 numbers from 0 to 9.:\")\n",
    "num = list(input())\n",
    "print(\"Difference between the largest and the smallest integer from the given integer:\")\n",
    "print(int(\"\".join(sorted(num,reverse=True))) - int(\"\".join(sorted(num))))\n"
   ]
  },
  {
   "cell_type": "code",
   "execution_count": 12,
   "metadata": {},
   "outputs": [
    {
     "name": "stdout",
     "output_type": "stream",
     "text": [
      "Input a number (n≤10000) to compute the sum:(0 to exit)\n",
      "25\n",
      "Sum of first 25 prime numbers:\n",
      "1060\n",
      "2\n",
      "Sum of first 2 prime numbers:\n",
      "5\n",
      "0\n"
     ]
    }
   ],
   "source": [
    "#  Write a Python program to compute the sum of first n given prime numbers.\n",
    "\n",
    "MAX = 105000\n",
    "print(\"Input a number (n≤10000) to compute the sum:(0 to exit)\") \n",
    "is_prime = [True for _ in range(MAX)]\n",
    "is_prime[0] = is_prime[1] = False\n",
    "for i in range(2, int(MAX ** (1 / 2)) + 1):\n",
    "  if is_prime[i]:\n",
    "    for j in range(i ** 2, MAX, i):\n",
    "      is_prime[j] = False \n",
    "primes = [i for i in range(MAX) if is_prime[i]] \n",
    "while True:\n",
    "  n = int(input())\n",
    "  if not n:\n",
    "    break\n",
    "  print(\"Sum of first\",n,\"prime numbers:\")\n",
    "  print(sum(primes[:n]))\n"
   ]
  },
  {
   "cell_type": "code",
   "execution_count": 16,
   "metadata": {},
   "outputs": [
    {
     "data": {
      "text/plain": [
       "'\\nimport sys\\nfrom bisect import bisect_right\\nfrom itertools import chain, compress\\nprint(\"Input an even number (0 to exit):\") \\nub = 50000\\nis_prime = [0, 0, 1, 1] + [0]*(ub-3)\\nis_prime[5::6] = is_prime[7::6] = [1]*int(ub/6)\\nprimes = [2, 3]\\nappend = primes.append\\n \\nfor n in chain(range(5, ub, 6), range(7, ub, 6)):\\n    if is_prime[n]:\\n        append(n)\\n        is_prime[n*3::n*2] = [0]*((ub-n)//(n*2))\\nprimes.sort()\\n\\nfor n in map(int, sys.stdin):\\n    if not n:\\n        break\\n    if n%2:\\n        print(\"Number of combinations:\")  \\n        print(is_prime[n-2])\\n    else:\\n        print(\"Number of combinations:\")  \\n        print(len([1 for p in primes[:bisect_right(primes, n/2)] if is_prime[n-p]]))\\n'"
      ]
     },
     "execution_count": 16,
     "metadata": {},
     "output_type": "execute_result"
    }
   ],
   "source": [
    "# Write a Python program that accept an even number (>=4, Goldbach number) from the user and create a combinations that express the given number as a sum of two prime numbers. Print the number of combinations.\n",
    "\n",
    "\"\"\"\n",
    "import sys\n",
    "from bisect import bisect_right\n",
    "from itertools import chain, compress\n",
    "print(\"Input an even number (0 to exit):\") \n",
    "ub = 50000\n",
    "is_prime = [0, 0, 1, 1] + [0]*(ub-3)\n",
    "is_prime[5::6] = is_prime[7::6] = [1]*int(ub/6)\n",
    "primes = [2, 3]\n",
    "append = primes.append\n",
    " \n",
    "for n in chain(range(5, ub, 6), range(7, ub, 6)):\n",
    "    if is_prime[n]:\n",
    "        append(n)\n",
    "        is_prime[n*3::n*2] = [0]*((ub-n)//(n*2))\n",
    "primes.sort()\n",
    "\n",
    "for n in map(int, sys.stdin):\n",
    "    if not n:\n",
    "        break\n",
    "    if n%2:\n",
    "        print(\"Number of combinations:\")  \n",
    "        print(is_prime[n-2])\n",
    "    else:\n",
    "        print(\"Number of combinations:\")  \n",
    "        print(len([1 for p in primes[:bisect_right(primes, n/2)] if is_prime[n-p]]))\n",
    "\"\"\""
   ]
  },
  {
   "cell_type": "code",
   "execution_count": 17,
   "metadata": {},
   "outputs": [
    {
     "name": "stdout",
     "output_type": "stream",
     "text": [
      "Input number of straight lines (o to exit): \n",
      "5\n",
      "Number of regions:\n",
      "16\n",
      "Input number of straight lines (o to exit): \n",
      "0\n"
     ]
    }
   ],
   "source": [
    "# if you draw a straight line on a plane, the plane is divided into two regions. For example, if you pull two straight lines in parallel, you get three areas, and if you draw vertically one to the other you get 4 areas. Write a Python program to create maximum number of regions obtained by drawing n given straight lines.\n",
    "\n",
    "\n",
    "while True:\n",
    "    print(\"Input number of straight lines (o to exit): \")\n",
    "    n=int(input())\n",
    "    if n<=0:\n",
    "        break\n",
    "    print(\"Number of regions:\") \n",
    "    print((n*n+n+2)//2)\n"
   ]
  },
  {
   "cell_type": "code",
   "execution_count": 18,
   "metadata": {},
   "outputs": [
    {
     "name": "stdout",
     "output_type": "stream",
     "text": [
      "Input xp, yp, xq, yq, xr, yr, xs, ys:\n",
      "4.5 -2.5 -2.5 4.5 3.5 3.5 3.8 -3.5\n",
      "AB and CD are not orthogonal!\n",
      "Input xp, yp, xq, yq, xr, yr, xs, ys:\n",
      "0\n"
     ]
    }
   ],
   "source": [
    "# There are four different points on a plane, P(xp,yp), Q(xq, yq), R(xr, yr) and S(xs, ys). Write a Python program to test AB and CD are orthogonal or not.\n",
    "\n",
    "while True:\n",
    "    try:\n",
    "        print(\"Input xp, yp, xq, yq, xr, yr, xs, ys:\")\n",
    "        x_p, y_p, x_q, y_q, x_r, y_r, x_s, y_s = map(float, input().split())\n",
    "        pq_x, pq_y = x_q - x_p, y_q - y_p\n",
    "        rs_x, rs_y = x_s - x_r, y_s - y_r\n",
    "        rs = pq_x*rs_x + pq_y*rs_y\n",
    "        if abs(rs) > 1e-10:\n",
    "            print(\"AB and CD are not orthogonal!\")\n",
    "        else:\n",
    "            print(\"AB and CD are orthogonal!\")\n",
    "    except:\n",
    "        break\n"
   ]
  },
  {
   "cell_type": "code",
   "execution_count": 19,
   "metadata": {},
   "outputs": [
    {
     "name": "stdout",
     "output_type": "stream",
     "text": [
      "Input some text and numeric values (<ctrl-d> to exit):\n",
      "Sum of the numeric values:  80\n",
      "None\n",
      "Input some text and numeric values (<ctrl-d> to exit):\n",
      "Sum of the numeric values:  17\n",
      "None\n",
      "Input some text and numeric values (<ctrl-d> to exit):\n",
      "Sum of the numeric values:  10\n",
      "None\n"
     ]
    }
   ],
   "source": [
    "# Write a Python program to sum of all numerical values (positive integers) embedded in a sentence. Write a Python program to create maximum number of regions obtained by drawing n given straight lines.\n",
    "\n",
    "\n",
    "import sys,re\n",
    "def test(stri):\n",
    "  print(\"Input some text and numeric values (<ctrl-d> to exit):\")\n",
    "  print(\"Sum of the numeric values: \",sum([sum(map(int,re.findall(r\"[0-9]{1,5}\",stri)))]))\n",
    "\n",
    "print(test(\"sd1fdsfs23 dssd56\"))\n",
    "print(test(\"15apple2banana\"))\n",
    "print(test(\"flowers5fruit5\"))\n"
   ]
  },
  {
   "cell_type": "code",
   "execution_count": 20,
   "metadata": {},
   "outputs": [
    {
     "name": "stdout",
     "output_type": "stream",
     "text": [
      "Original text: XY#6Z1#4023\n",
      "XYZZZZZZ1000023\n",
      "Original text: #39+1=1#30\n",
      "999+1=1000\n"
     ]
    }
   ],
   "source": [
    "#  When character are consecutive in a string , it is possible to shorten the character string by replacing the character with a certain rule. For example, in the case of the character string YYYYY, if it is expressed as # 5 Y, it is compressed by one character. Write a Python program to restore the original string by entering the compressed string with this rule. However, the # character does not appear in the restored character string.\n",
    "\n",
    "\n",
    "def restore_original_str(a1):\n",
    "  result = \"\"\n",
    "  ind = 0\n",
    "  end = len(a1)\n",
    "  while ind < end:\n",
    "    if a1[ind] == \"#\":\n",
    "      result += a1[ind + 2] * int(a1[ind + 1])\n",
    "      ind += 3\n",
    "    else:\n",
    "      result += a1[ind]\n",
    "      ind += 1\n",
    "  return result\n",
    "print(\"Original text:\",\"XY#6Z1#4023\")\n",
    "print(restore_original_str(\"XY#6Z1#4023\"))\n",
    "print(\"Original text:\",\"#39+1=1#30\")\n",
    "print(restore_original_str(\"#39+1=1#30\"))\n"
   ]
  },
  {
   "cell_type": "code",
   "execution_count": 21,
   "metadata": {},
   "outputs": [
    {
     "name": "stdout",
     "output_type": "stream",
     "text": [
      "0.5\n"
     ]
    }
   ],
   "source": [
    "# A convex polygon is a simple polygon in which no line segment between two points on the boundary ever goes outside the polygon. Equivalently, it is a simple polygon whose interior is a convex set. In a convex polygon, all interior angles are less than or equal to 180 degrees, while in a strictly convex polygon all interior angles are strictly less than 180 degrees. Write a Python program that compute the area of the polygon . The vertices have the names vertex 1, vertex 2, vertex 3, ... vertex n according to the order of edge connections.\n",
    " \n",
    "def poly_area(c):\n",
    "  add = []\n",
    "  for i in range(0, (len(c) - 2), 2):\n",
    "    add.append(c[i] * c[i + 3] - c[i + 1] * c[i + 2])\n",
    "    add.append(c[len(c) - 2] * c[1] - c[len(c) - 1] * c[0])\n",
    "    return abs(sum(add) / 2)\n",
    "\n",
    "print(poly_area([1, 0, 0, 0, 1, 1, 2, 0, -1, 1]))\n"
   ]
  },
  {
   "cell_type": "code",
   "execution_count": 22,
   "metadata": {},
   "outputs": [
    {
     "name": "stdout",
     "output_type": "stream",
     "text": [
      "Input a sentence (1024 characters. max.)\n",
      "The quick brown fox\n",
      "3 to 6 characters length of words:\n",
      "The quick brown fox\n"
     ]
    }
   ],
   "source": [
    "# Write a Python program to cut out words of 3 to 6 characters length from a given sentence not more than 1024 characters.\n",
    "\n",
    "\n",
    "print(\"Input a sentence (1024 characters. max.)\")\n",
    "yy = input()\n",
    "yy = yy.replace(\",\", \" \")\n",
    "yy = yy.replace(\".\", \" \")\n",
    "print(\"3 to 6 characters length of words:\")\n",
    "print(*[y for y in yy.split() if 3 <= len(y) <= 6])\n"
   ]
  },
  {
   "cell_type": "code",
   "execution_count": 24,
   "metadata": {},
   "outputs": [
    {
     "data": {
      "text/plain": [
       "'\\nimport sys\\nprint(\"Input the numbers (ctrl+d to exit):\")\\nx = [list(map(int, l.split(\",\"))) for l in sys.stdin]\\ndp = x[0]\\n \\nfor i in range(1, (len(x)+1)//2):\\n    _dp = [0]*(i+1)\\n    for j in range(i):\\n        _dp[j] = max(_dp[j], dp[j]+x[i][j])\\n        _dp[j+1] = max(_dp[j+1], dp[j]+x[i][j+1])\\n    dp = _dp\\n \\nfor i in range((len(x)+1)//2, len(x)):\\n    _dp = [0]*(len(dp)-1)\\n    for j in range(len(_dp)):\\n        _dp[j] = max(dp[j], dp[j+1]) + x[i][j]\\n    dp = _dp\\nprint(\"Maximum value of the sum of integers passing according to the rule on one line.\") \\nprint(dp[0])\\n'"
      ]
     },
     "execution_count": 24,
     "metadata": {},
     "output_type": "execute_result"
    }
   ],
   "source": [
    "# Arrange integers (0 to 99) as narrow hilltop, as illustrated in Figure 1. Reading such data representing huge, when starting from the top and proceeding according to the next rule to the bottom. Write a Python program that compute the maximum value of the sum of the passing integers.\n",
    "\"\"\"\n",
    "import sys\n",
    "print(\"Input the numbers (ctrl+d to exit):\")\n",
    "x = [list(map(int, l.split(\",\"))) for l in sys.stdin]\n",
    "dp = x[0]\n",
    " \n",
    "for i in range(1, (len(x)+1)//2):\n",
    "    _dp = [0]*(i+1)\n",
    "    for j in range(i):\n",
    "        _dp[j] = max(_dp[j], dp[j]+x[i][j])\n",
    "        _dp[j+1] = max(_dp[j+1], dp[j]+x[i][j+1])\n",
    "    dp = _dp\n",
    " \n",
    "for i in range((len(x)+1)//2, len(x)):\n",
    "    _dp = [0]*(len(dp)-1)\n",
    "    for j in range(len(_dp)):\n",
    "        _dp[j] = max(dp[j], dp[j+1]) + x[i][j]\n",
    "    dp = _dp\n",
    "print(\"Maximum value of the sum of integers passing according to the rule on one line.\") \n",
    "print(dp[0])\n",
    "\"\"\""
   ]
  },
  {
   "cell_type": "code",
   "execution_count": null,
   "metadata": {},
   "outputs": [],
   "source": [
    "# Write a Python program to find the number of combinations that satisfy p + q + r + s = n where n is a given number <= 4000 and p, q, r, s in the range of 0 to 1000.\n",
    "\n",
    "\"\"\"\n",
    "from collections import Counter\n",
    "print(\"Input a positive integer: (ctrl+d to exit)\") \n",
    "pair_dict = Counter()\n",
    "for i in range(2001):\n",
    "  pair_dict[i] = min(i, 2000 - i) + 1 \n",
    " \n",
    "while True:\n",
    "  try:\n",
    "    n = int(input())\n",
    "    ans = 0\n",
    "    for i in range(n + 1):\n",
    "      ans += pair_dict[i] * pair_dict[n - i]\n",
    "    print(\"Number of combinations of a,b,c,d:\",ans) \n",
    "  except EOFError:\n",
    "    break\n",
    "\"\"\""
   ]
  },
  {
   "cell_type": "code",
   "execution_count": 1,
   "metadata": {},
   "outputs": [
    {
     "name": "stdout",
     "output_type": "stream",
     "text": [
      "True\n",
      "True\n",
      "True\n",
      "False\n"
     ]
    }
   ],
   "source": [
    "# Given a list of numbers and a number k, write a Python program to check whether the sum of any two numbers from the list is equal to k or not.\n",
    "\n",
    "def check_sum(nums, k):   \n",
    "    for i in range(len(nums)):\n",
    "        for j in range(i+1, len(nums)):\n",
    "            if nums[i] + nums[j] == k:\n",
    "                return True\n",
    "    return False\n",
    "print(check_sum([12, 5, 0, 5], 10))\n",
    "print(check_sum([20, 20, 4, 5], 40))\n",
    "print(check_sum([1, -1], 0))\n",
    "print(check_sum([1, 1, 0], 0))\n"
   ]
  },
  {
   "cell_type": "code",
   "execution_count": 2,
   "metadata": {},
   "outputs": [
    {
     "name": "stdout",
     "output_type": "stream",
     "text": [
      "Gren\n",
      "exercises\n"
     ]
    }
   ],
   "source": [
    "#Write a Python program to find the longest word in set of words which is a subsequence of a given string.\n",
    "\n",
    "def longest_word_sequence(s, d):\n",
    "\tlong_word = \"\"\n",
    "\t\n",
    "\tfor word in d: \n",
    "\t\ttemp_word = ''\t\n",
    "\t\tj = 0\n",
    "\t\tfor letter in word: \n",
    "\n",
    "\t\t\tfor i in range(j, len(s)): \n",
    "\n",
    "\t\t\t\tif letter == s[i]: \n",
    "\t\t\t\t\ttemp_word += letter \n",
    "\t\t\t\t\tj = i                  \n",
    "\t\t\t\t\tbreak\n",
    "\t\t\t\telse:\t\t\t\t\n",
    "\t\t\t\t\tcontinue        \n",
    "\n",
    "\t\tif (temp_word) == word and len(long_word) < len(temp_word):\n",
    "\t\t\tlong_word = temp_word\n",
    "\n",
    "\t\telse:\n",
    "\t\t\tcontinue\n",
    "\treturn long_word\n",
    "\n",
    "\n",
    "print(longest_word_sequence(\"Green\", {\"Gn\", \"Gren\", \"ree\", \"en\"}))\n",
    "print(longest_word_sequence(\"pythonexercises\", {\"py\", \"ex\", \"exercises\"}))\n"
   ]
  },
  {
   "cell_type": "code",
   "execution_count": 3,
   "metadata": {},
   "outputs": [
    {
     "name": "stdout",
     "output_type": "stream",
     "text": [
      "[1, 7, 10, 13, 19, 23, 28, 31, 32, 44]\n"
     ]
    }
   ],
   "source": [
    "#  Write a Python program to find and print the first 10 happy numbers.\n",
    "\n",
    "def happy_numbers(n):\n",
    "    past = set()\t\t\t\n",
    "    while n != 1:\n",
    "        n = sum(int(i)**2 for i in str(n))\n",
    "        if n in past:\n",
    "            return False\n",
    "        past.add(n)\n",
    "    return True\n",
    "print([x for x in range(500) if happy_numbers(x)][:10])\n"
   ]
  },
  {
   "cell_type": "code",
   "execution_count": 6,
   "metadata": {},
   "outputs": [
    {
     "name": "stdout",
     "output_type": "stream",
     "text": [
      "4\n",
      "25\n"
     ]
    }
   ],
   "source": [
    "# Write a Python program to count the number of prime numbers less than a given non-negative number.\n",
    "\n",
    "def count_Primes_nums(n):\n",
    "    ctr = 0\n",
    "    \n",
    "    for num in range(n):\n",
    "        if num <= 1:\n",
    "            continue\n",
    "        for i in range(2, num):\n",
    "            if (num % i) == 0:\n",
    "                break\n",
    "        else:\n",
    "            ctr += 1\n",
    "\n",
    "    return ctr\n",
    "\n",
    "print(count_Primes_nums(10))\n",
    "print(count_Primes_nums(100))\n",
    "\n",
    "\n"
   ]
  },
  {
   "cell_type": "code",
   "execution_count": 7,
   "metadata": {},
   "outputs": [
    {
     "name": "stdout",
     "output_type": "stream",
     "text": [
      "False\n",
      "False\n",
      "True\n",
      "True\n",
      "False\n",
      "False\n",
      "False\n"
     ]
    }
   ],
   "source": [
    "# Write a Python program to check if two given strings are isomorphic to each other or not.\n",
    "  \n",
    "def isIsomorphic(str1, str2):          \n",
    "    dict_str1 = {}\n",
    "    dict_str2 = {}\n",
    "    \n",
    "    for i, value in enumerate(str1):\n",
    "        dict_str1[value] = dict_str1.get(value, []) + [i]\n",
    "            \n",
    "    for j, value in enumerate(str2):\n",
    "        dict_str2[value] = dict_str2.get(value, []) + [j]\n",
    "    \n",
    "    if sorted(dict_str1.values()) == sorted(dict_str2.values()):\n",
    "        return True\n",
    "    else:\n",
    "        return False\n",
    "\n",
    "print(isIsomorphic(\"foo\", \"bar\"));         \n",
    "print(isIsomorphic(\"bar\", \"foo\"));      \n",
    "print(isIsomorphic(\"paper\", \"title\"));   \n",
    "print(isIsomorphic(\"title\", \"paper\"));\n",
    "print(isIsomorphic(\"apple\", \"orange\"));\n",
    "print(isIsomorphic(\"aa\", \"ab\"));\n",
    "print(isIsomorphic(\"ab\", \"aa\"));\n"
   ]
  },
  {
   "cell_type": "code",
   "execution_count": 8,
   "metadata": {},
   "outputs": [
    {
     "name": "stdout",
     "output_type": "stream",
     "text": [
      "abc\n",
      "w3r\n",
      "P\n",
      "\n"
     ]
    }
   ],
   "source": [
    "# Write a Python program to find the longest common prefix string amongst a given array of strings. Return false If there is no common prefix. For Example, longest common prefix of \"abcdefgh\" and \"abcefgh\" is \"abc\".\n",
    "\n",
    "def longest_Common_Prefix(str1):\n",
    "    \n",
    "    if not str1:\n",
    "        return \"\"\n",
    "\n",
    "    short_str = min(str1,key=len)\n",
    "\n",
    "    for i, char in enumerate(short_str):\n",
    "        for other in str1:\n",
    "            if other[i] != char:\n",
    "                return short_str[:i]\n",
    "\n",
    "    return short_str \n",
    "\n",
    "print(longest_Common_Prefix([\"abcdefgh\",\"abcefgh\"]))\n",
    "print(longest_Common_Prefix([\"w3r\",\"w3resource\"]))\n",
    "print(longest_Common_Prefix([\"Python\",\"PHP\", \"Perl\"]))\n",
    "print(longest_Common_Prefix([\"Python\",\"PHP\", \"Java\"]))\n"
   ]
  },
  {
   "cell_type": "code",
   "execution_count": 9,
   "metadata": {},
   "outputs": [
    {
     "name": "stdout",
     "output_type": "stream",
     "text": [
      "w3resuorce\n",
      "Python\n",
      "Perl\n",
      "ASU\n"
     ]
    }
   ],
   "source": [
    "# Write a Python program to reverse only the vowels of a given string.\n",
    "\n",
    "\n",
    "def reverse_vowels(str1):\n",
    "\tvowels = \"\"\n",
    "\tfor char in str1:\n",
    "\t\tif char in \"aeiouAEIOU\":\n",
    "\t\t\tvowels += char\n",
    "\tresult_string = \"\"\n",
    "\tfor char in str1:\n",
    "\t\tif char in \"aeiouAEIOU\":\n",
    "\t\t\tresult_string += vowels[-1]\n",
    "\t\t\tvowels = vowels[:-1]\n",
    "\t\telse:\n",
    "\t\t\tresult_string += char\n",
    "\treturn result_string\n",
    "print(reverse_vowels(\"w3resource\"))\n",
    "print(reverse_vowels(\"Python\"))\n",
    "print(reverse_vowels(\"Perl\"))\n",
    "print(reverse_vowels(\"USA\"))\n"
   ]
  },
  {
   "cell_type": "code",
   "execution_count": 10,
   "metadata": {},
   "outputs": [
    {
     "name": "stdout",
     "output_type": "stream",
     "text": [
      "False\n",
      "True\n",
      "False\n"
     ]
    }
   ],
   "source": [
    "# Write a Python program to check whether a given integer is a palindrome or not.\n",
    "def is_Palindrome(n):\n",
    "    return str(n) == str(n)[::-1]\n",
    "print(is_Palindrome(100))\n",
    "print(is_Palindrome(252))\n",
    "print(is_Palindrome(-838)) "
   ]
  },
  {
   "cell_type": "code",
   "execution_count": 11,
   "metadata": {},
   "outputs": [
    {
     "name": "stdout",
     "output_type": "stream",
     "text": [
      "5\n",
      "4\n"
     ]
    }
   ],
   "source": [
    "# Write a Python program to remove the duplicate elements of a given array of numbers such that each element appear only once and return the new length of the given array.\n",
    "\n",
    " \n",
    "def remove_duplicates(nums):\n",
    "    for i in range (len(nums)-1, 0, -1):\n",
    "        if nums[i] == nums[i-1]:\n",
    "            del nums[i-1]\n",
    "    return len(nums)\n",
    "\n",
    "print(remove_duplicates([0,0,1,1,2,2,3,3,4,4,4]))\n",
    "print(remove_duplicates([1, 2, 2, 3, 4, 4]))\n"
   ]
  },
  {
   "cell_type": "code",
   "execution_count": 12,
   "metadata": {},
   "outputs": [
    {
     "name": "stdout",
     "output_type": "stream",
     "text": [
      "10\n",
      "7\n",
      "0\n"
     ]
    }
   ],
   "source": [
    "# Write a Python program to calculate the maximum profit from selling and buying values of stock. An array of numbers represents the stock prices in chronological order.\n",
    " \n",
    "def buy_and_sell(stock_price):\n",
    "    max_profit_val, current_max_val = 0, 0 \n",
    "    for price in reversed(stock_price):                       \n",
    "        current_max_val = max(current_max_val, price)          \n",
    "        potential_profit = current_max_val - price          \n",
    "        max_profit_val = max(potential_profit, max_profit_val)\n",
    "\n",
    "    return max_profit_val\n",
    "\n",
    "print(buy_and_sell([8, 10, 7, 5, 7, 15]))\n",
    "print(buy_and_sell([1, 2, 8, 1])) #7\n",
    "print(buy_and_sell([]))\n"
   ]
  },
  {
   "cell_type": "code",
   "execution_count": 14,
   "metadata": {},
   "outputs": [
    {
     "name": "stdout",
     "output_type": "stream",
     "text": [
      "6\n",
      "0\n",
      "5\n",
      "0\n"
     ]
    }
   ],
   "source": [
    "# Write a Python program to remove all instances of a given value from a given array of integers and find the length of the new array.\n",
    "\n",
    "def remove_element(array_nums, val):\n",
    "    i = 0\n",
    "    while i < len(array_nums):\n",
    "        if array_nums[i] == val:\n",
    "            array_nums.remove(array_nums[i])\n",
    "\n",
    "        else:\n",
    "            i += 1\n",
    "\n",
    "    return len(array_nums)\n",
    "print(remove_element([1, 2, 3, 4, 5, 6, 7, 5], 5))\n",
    "print(remove_element([10,10,10,10,10], 10)) \n",
    "print(remove_element([10,10,10,10,10], 20)) \n",
    "print(remove_element([], 1))\n"
   ]
  },
  {
   "cell_type": "code",
   "execution_count": 16,
   "metadata": {},
   "outputs": [
    {
     "name": "stdout",
     "output_type": "stream",
     "text": [
      "[0, 5]\n",
      "[0, 0]\n",
      "[0, 3]\n"
     ]
    }
   ],
   "source": [
    "# Write a Python program to find the starting and ending position of a given value in a given array of integers, sorted in ascending order.\n",
    " \n",
    "def search_Range(array_nums, target_val):\n",
    "  result_arra = []\n",
    "  start_pos = 0\n",
    "  end_pos = 0\n",
    "  for i in range(len(array_nums)):\n",
    "      if target_val == array_nums[i] and start_pos == -1:\n",
    "          start_pos = i\n",
    "          end_pos = i\n",
    "      elif target_val == array_nums[i] and start_pos != -1:\n",
    "          end_pos = i\n",
    "  result_arra.append(start_pos)\n",
    "  result_arra.append(end_pos)\n",
    "  return result_arra\n",
    "print(search_Range([5, 7, 7, 8, 8, 8], 8))\n",
    "print(search_Range([1, 3, 6, 9, 13, 14], 4))\n",
    "print(search_Range([5, 7, 7, 8, 10], 8))\n"
   ]
  },
  {
   "cell_type": "code",
   "execution_count": 18,
   "metadata": {},
   "outputs": [
    {
     "name": "stdout",
     "output_type": "stream",
     "text": [
      "35\n"
     ]
    }
   ],
   "source": [
    "#  Write a Python program to find the maximum profit in one transaction i.e., buy one and sell one share of the stock from the given price value of the said array. You cannot sell a stock before you buy one.\n",
    "def max_profit(stock_price):\n",
    "\tmax_profit_amt = 0\n",
    "\n",
    "\tfor i in range(len(stock_price)):\n",
    "\t\tprofit_amt = 0\n",
    "\t\tfor j in range(i+1, len(stock_price)):\n",
    "\t\t\tprofit_amt = stock_price[j] - stock_price[i]\n",
    "\t\t\tif  profit_amt > max_profit_amt:\n",
    "\t\t\t\tmax_profit_amt = profit_amt\n",
    "\treturn max_profit_amt\n",
    "print(max_profit([224, 236, 247, 258, 259, 225]))\n",
    "\n"
   ]
  },
  {
   "cell_type": "code",
   "execution_count": 20,
   "metadata": {},
   "outputs": [
    {
     "name": "stdout",
     "output_type": "stream",
     "text": [
      "1\n",
      "2\n",
      "3\n",
      "4\n",
      "8\n",
      "7\n",
      "6\n",
      "5\n",
      "0\n",
      "6\n",
      "2\n",
      "8\n",
      "2\n",
      "0\n",
      "3\n",
      "2\n"
     ]
    }
   ],
   "source": [
    "# Write a Python program to print a given N by M matrix of numbers line by line in forward > backwards > forward >... order.\n",
    "\n",
    "\n",
    "def print_matrix(nums):\n",
    "    flag = True \n",
    "    \n",
    "    for line in nums:\n",
    "\n",
    "        if flag == True: \n",
    "            i = 0\n",
    "            while i < len(line):\n",
    "                print(line[i])\n",
    "                i += 1\n",
    "            flag = False\n",
    "\n",
    "        else: \n",
    "            i = -1\n",
    "            while i > -1 * len(line) - 1:\n",
    "                print(line[i])\n",
    "                i = i - 1\n",
    "            flag = True\n",
    "print_matrix([[1, 2, 3, 4],\n",
    "              [5, 6, 7, 8],\n",
    "              [0, 6, 2, 8],\n",
    "              [2, 3, 0, 2]])\n",
    "\n"
   ]
  },
  {
   "cell_type": "code",
   "execution_count": 22,
   "metadata": {},
   "outputs": [
    {
     "name": "stdout",
     "output_type": "stream",
     "text": [
      "4000\n",
      "8\n",
      "120\n"
     ]
    }
   ],
   "source": [
    "# Write a Python program to compute the largest product of three integers from a given list of integers.\n",
    "\n",
    "def largest_product_of_three(nums):\n",
    "    max_val = nums[1]\n",
    "\n",
    "    for i in range(len(nums)):\n",
    "        for j in range(i+1, len(nums)):\n",
    "            for k in range(j+1, len(nums)):\n",
    "                max_val = max(nums[i] * nums[j] * nums[k], max_val)\n",
    "                \n",
    "    return max_val\n",
    "    \n",
    "print(largest_product_of_three([-10, -20, 20, 1]))\n",
    "print(largest_product_of_three([-1, -1, 4, 2, 1]))\n",
    "print(largest_product_of_three([1, 2, 3, 4, 5, 6]))\n"
   ]
  },
  {
   "cell_type": "code",
   "execution_count": 23,
   "metadata": {},
   "outputs": [
    {
     "name": "stdout",
     "output_type": "stream",
     "text": [
      "4\n",
      "3\n",
      "8\n",
      "4\n"
     ]
    }
   ],
   "source": [
    "# Write a Python program to find the first missing positive integer that does not exist in a given list.\n",
    " \n",
    "def first_missing_number(nums):\n",
    "    if len(nums) == 0:\n",
    "        return 1\n",
    "        \n",
    "    nums.sort()\n",
    "    smallest_int_num = 0\n",
    "    \n",
    "    for i in range(len(nums) - 1):\n",
    "\n",
    "        if nums[i] <= 0 or nums[i] == nums[i + 1]:\n",
    "            continue\n",
    "        else:\n",
    "            if nums[i + 1] - nums[i] != 1:\n",
    "                smallest_int_num = nums[i] + 1\n",
    "                return smallest_int_num    \n",
    "    if smallest_int_num == 0:\n",
    "        smallest_int_num = nums[-1] + 1\n",
    "    return smallest_int_num\n",
    "\n",
    "print(first_missing_number([2, 3, 7, 6, 8, -1, -10, 15, 16])) \n",
    "print(first_missing_number([1, 2, 4, -7, 6, 8, 1, -10, 15]))\n",
    "print(first_missing_number([1, 2, 3, 4, 5, 6, 7]))\n",
    "print(first_missing_number([-2, -3, -1, 1, 2, 3]))\n"
   ]
  },
  {
   "cell_type": "code",
   "execution_count": 24,
   "metadata": {},
   "outputs": [
    {
     "name": "stdout",
     "output_type": "stream",
     "text": [
      "[42, 2, 10, 86, 82, 18, 8, 96, 98, 72]\n"
     ]
    }
   ],
   "source": [
    "# Write a Python program to randomly generate a list with 10 even numbers between 1 and 100 inclusive.\n",
    "\n",
    "import random\n",
    "print(random.sample([i for i in range(1,100) if i%2==0], 10))\n"
   ]
  },
  {
   "cell_type": "code",
   "execution_count": 25,
   "metadata": {},
   "outputs": [
    {
     "name": "stdout",
     "output_type": "stream",
     "text": [
      "3\n",
      "3.5\n",
      "3.5\n",
      "3.75\n",
      "3.3\n",
      "22.3\n"
     ]
    }
   ],
   "source": [
    "# Write a Python program to calculate the median from a list of numbers.\n",
    "\n",
    "def cal_median(nums):\n",
    "  nums.sort()\n",
    "  n = len(nums)\n",
    "  m = n // 2\n",
    "  if n % 2 == 0:\n",
    "    return (nums[m - 1] + nums[m]) / 2\n",
    "  else:\n",
    "    return nums[m]\n",
    "print(cal_median([1,2,3,4,5]))\n",
    "print(cal_median([1,2,3,4,5,6]))\n",
    "print(cal_median([6,1,2,4,5,3]))\n",
    "print(cal_median([1.0,2.11,3.3,4.2,5.22,6.55]))\n",
    "print(cal_median([1.0,2.11,3.3,4.2,5.22]))\n",
    "print(cal_median([2.0,12.11,22.3,24.12,55.22]))\n"
   ]
  },
  {
   "cell_type": "code",
   "execution_count": 26,
   "metadata": {},
   "outputs": [
    {
     "name": "stdout",
     "output_type": "stream",
     "text": [
      "True\n",
      "True\n",
      "False\n",
      "True\n"
     ]
    }
   ],
   "source": [
    "# Write a Python program to test whether a given number is symmetrical or not. A number is symmetrical when it is equal of its reverse. \n",
    "\n",
    "\n",
    "def is_symmetrical_num(n):\n",
    "  return str(n) == str(n)[::-1]\n",
    "print(is_symmetrical_num(121))\n",
    "print(is_symmetrical_num(0))\n",
    "print(is_symmetrical_num(122))\n",
    "print(is_symmetrical_num(990099))\n"
   ]
  },
  {
   "cell_type": "code",
   "execution_count": 27,
   "metadata": {},
   "outputs": [
    {
     "name": "stdout",
     "output_type": "stream",
     "text": [
      "[0, 15]\n",
      "[5, 0]\n",
      "[2, 6]\n",
      "[3, 3]\n"
     ]
    }
   ],
   "source": [
    "#  Write a Python program that accept a list of numbers and create a list to store the count of negative number in first element and store the sum of positive numbers in second element.\n",
    "\n",
    "\n",
    "def count_sum(nums):\n",
    "    if not nums: return []\n",
    "    return [len([n for n in nums if n < 0]), sum(n for n in nums if n > 0)]\n",
    "\n",
    "print(count_sum([1, 2, 3, 4, 5]))\n",
    "print(count_sum([-1, -2, -3, -4, -5]))\n",
    "print(count_sum([1, 2, 3, -4, -5]))\n",
    "print(count_sum([1, 2, -3, -4, -5])) "
   ]
  },
  {
   "cell_type": "code",
   "execution_count": 28,
   "metadata": {},
   "outputs": [
    {
     "name": "stdout",
     "output_type": "stream",
     "text": [
      "False\n",
      "True\n",
      "True\n",
      "False\n"
     ]
    }
   ],
   "source": [
    "# Write a Python program to check whether a given string is an \"isogram\" or not.\n",
    "\n",
    "def check_isogram(str1):\n",
    "    return len(str1) == len(set(str1.lower()))\n",
    "\n",
    "print(check_isogram(\"w3resource\"))\n",
    "print(check_isogram(\"w3r\"))\n",
    "print(check_isogram(\"Python\"))\n",
    "print(check_isogram(\"Java\"))\n"
   ]
  },
  {
   "cell_type": "code",
   "execution_count": 29,
   "metadata": {},
   "outputs": [
    {
     "name": "stdout",
     "output_type": "stream",
     "text": [
      "3\n",
      "2\n",
      "0\n",
      "3\n"
     ]
    }
   ],
   "source": [
    "# Write a Python program to count the number of equal numbers from three given integers.\n",
    "\n",
    "def test_three_equal(x, y, z):\n",
    "  result= set([x, y, z])\n",
    "  if len(result)==3:\n",
    "    return 0\n",
    "  else:\n",
    "    return (4 - len(result))\n",
    "\n",
    "print(test_three_equal(1, 1, 1))\n",
    "print(test_three_equal(1, 2, 2))\n",
    "print(test_three_equal(-1, -2, -3))\n",
    "print(test_three_equal(-1, -1, -1))\n"
   ]
  },
  {
   "cell_type": "code",
   "execution_count": 30,
   "metadata": {},
   "outputs": [
    {
     "name": "stdout",
     "output_type": "stream",
     "text": [
      "True\n",
      "False\n",
      "False\n",
      "True\n",
      "False\n"
     ]
    }
   ],
   "source": [
    "# Write a Python program to check whether a given employee code is exactly 8 digits or 12 digits. Return True if the employee code is valid and False if it's not.\n",
    "\n",
    "def is_valid_emp_code(emp_code):\n",
    "  return len(emp_code) in [8, 12] and emp_code.isdigit()\n",
    "print(is_valid_emp_code('12345678'))\n",
    "print(is_valid_emp_code('1234567j'))\n",
    "print(is_valid_emp_code('12345678j'))\n",
    "print(is_valid_emp_code('123456789123'))\n",
    "print(is_valid_emp_code('123456abcdef'))\n"
   ]
  },
  {
   "cell_type": "code",
   "execution_count": 31,
   "metadata": {},
   "outputs": [
    {
     "name": "stdout",
     "output_type": "stream",
     "text": [
      "True\n",
      "False\n",
      "True\n",
      "False\n",
      "True\n"
     ]
    }
   ],
   "source": [
    "# Write a Python program that accept two strings and test if the letters in the second string are present in the first string.\n",
    "\n",
    "\n",
    "def string_letter_check(list_data):\n",
    "  return all([char in list_data[0].lower() for char in list_data[1].lower()])\n",
    "print(string_letter_check([\"python\", \"ypth\"]))\n",
    "print(string_letter_check([\"python\", \"ypths\"]))\n",
    "print(string_letter_check([\"python\", \"ypthon\"]))\n",
    "print(string_letter_check([\"123456\", \"01234\"]))\n",
    "print(string_letter_check([\"123456\", \"1234\"]))\n"
   ]
  },
  {
   "cell_type": "code",
   "execution_count": 32,
   "metadata": {},
   "outputs": [
    {
     "name": "stdout",
     "output_type": "stream",
     "text": [
      "37\n",
      "6\n",
      "6\n"
     ]
    }
   ],
   "source": [
    "#  Write a Python program to compute the sum of the three lowest positive numbers from a given list of numbers.\n",
    "\n",
    "def sum_three_smallest_nums(lst):\n",
    "\treturn sum(sorted([x for x in lst if x > 0])[:3])\n",
    "\n",
    "print(sum_three_smallest_nums([10, 20, 30, 40, 50, 60, 7]))\n",
    "print(sum_three_smallest_nums([1, 2, 3, 4, 5]))\n",
    "print(sum_three_smallest_nums([0, 1, 2, 3, 4, 5]))\n"
   ]
  },
  {
   "cell_type": "code",
   "execution_count": 33,
   "metadata": {},
   "outputs": [
    {
     "name": "stdout",
     "output_type": "stream",
     "text": [
      "******23swe\n",
      "******bcdef\n",
      "12345\n"
     ]
    }
   ],
   "source": [
    "# Write a Python program to replace all but the last five characters of a given string into \"*\" and returns the new masked string.\n",
    "\n",
    "\n",
    "def mask_string(str1):\n",
    "  return '*'*(len(str1)-5) + str1[-5:]\n",
    "\n",
    "print(mask_string(\"kdi39323swe\"))\n",
    "print(mask_string(\"12345abcdef\"))\n",
    "print(mask_string(\"12345\")) "
   ]
  },
  {
   "cell_type": "code",
   "execution_count": 34,
   "metadata": {},
   "outputs": [
    {
     "name": "stdout",
     "output_type": "stream",
     "text": [
      "0\n",
      "1\n",
      "2\n",
      "3\n",
      "4\n",
      "1\n"
     ]
    }
   ],
   "source": [
    "# Write a Python program to count the number of arguments in a given function.\n",
    "\n",
    "def num_of_args(*args):\n",
    "\treturn(len(args))\n",
    "print(num_of_args())\n",
    "print(num_of_args(1))\n",
    "print(num_of_args(1, 2))\n",
    "print(num_of_args(1, 2, 3))\n",
    "print(num_of_args(1, 2, 3, 4))\n",
    "print(num_of_args([1, 2, 3, 4]))\n"
   ]
  },
  {
   "cell_type": "code",
   "execution_count": 35,
   "metadata": {},
   "outputs": [
    {
     "name": "stdout",
     "output_type": "stream",
     "text": [
      "[10, 30, 60, 100, 150, 210, 217]\n",
      "[1, 3, 6, 10, 15]\n",
      "[0, 1, 3, 6, 10, 15]\n"
     ]
    }
   ],
   "source": [
    "#Write a Python program to compute cumulative sum of numbers of a given list\n",
    "\n",
    "\n",
    "def nums_cumulative_sum(nums_list):\n",
    "  return [sum(nums_list[:i+1]) for i in range(len(nums_list))]\n",
    "\n",
    "print(nums_cumulative_sum([10, 20, 30, 40, 50, 60, 7]))\n",
    "print(nums_cumulative_sum([1, 2, 3, 4, 5]))\n",
    "print(nums_cumulative_sum([0, 1, 2, 3, 4, 5]))\n"
   ]
  },
  {
   "cell_type": "code",
   "execution_count": 36,
   "metadata": {},
   "outputs": [
    {
     "name": "stdout",
     "output_type": "stream",
     "text": [
      "th\n",
      "H\n",
      "av\n"
     ]
    }
   ],
   "source": [
    "# Write a Python program to find the middle character(s) of a given string. If the length of the string is odd return the middle character and return the middle two characters if the string length is even.\n",
    "\n",
    "def middle_char(txt):\n",
    "   return txt[(len(txt)-1)//2:(len(txt)+2)//2]\n",
    "print(middle_char(\"Python\"))\n",
    "print(middle_char(\"PHP\"))\n",
    "print(middle_char(\"Java\"))"
   ]
  },
  {
   "cell_type": "code",
   "execution_count": 37,
   "metadata": {},
   "outputs": [
    {
     "name": "stdout",
     "output_type": "stream",
     "text": [
      "30\n",
      "20\n",
      "6\n"
     ]
    }
   ],
   "source": [
    "# Write a Python program to find the largest product of the pair of adjacent elements from a given list of integers.\n",
    "\n",
    "\n",
    "def adjacent_num_product(list_nums):\n",
    "    return max(a*b for a, b in zip(list_nums, list_nums[1:]))\n",
    "print(adjacent_num_product([1,2,3,4,5,6]))\n",
    "print(adjacent_num_product([1,2,3,4,5]))\n",
    "print(adjacent_num_product([2,3]))\n"
   ]
  },
  {
   "cell_type": "code",
   "execution_count": 38,
   "metadata": {},
   "outputs": [
    {
     "name": "stdout",
     "output_type": "stream",
     "text": [
      "True\n",
      "False\n",
      "True\n"
     ]
    }
   ],
   "source": [
    "# Write a Python program to check whether every even index contains an even number and every odd index contains odd number of a given list.\n",
    "\n",
    "\n",
    "def odd_even_position(nums):\n",
    "\treturn all(nums[i]%2==i%2 for i in range(len(nums)))\n",
    "print(odd_even_position([2, 1, 4, 3, 6, 7, 6, 3]))\n",
    "print(odd_even_position([2, 1, 4, 3, 6, 7, 6, 4]))\n",
    "print(odd_even_position([4, 1, 2]))\n"
   ]
  },
  {
   "cell_type": "code",
   "execution_count": 39,
   "metadata": {},
   "outputs": [
    {
     "name": "stdout",
     "output_type": "stream",
     "text": [
      "True\n",
      "True\n",
      "True\n",
      "False\n",
      "True\n",
      "True\n",
      "True\n",
      "False\n"
     ]
    }
   ],
   "source": [
    "# Write a Python program to check whether a given number is a narcissistic number or not.\n",
    "\n",
    "def is_narcissistic_num(num):\n",
    "\treturn num == sum([int(x) ** len(str(num)) for x in str(num)])\n",
    "\n",
    "print(is_narcissistic_num(153))\n",
    "print(is_narcissistic_num(370))\n",
    "print(is_narcissistic_num(407))\n",
    "print(is_narcissistic_num(409))\n",
    "print(is_narcissistic_num(1634))\n",
    "print(is_narcissistic_num(8208))\n",
    "print(is_narcissistic_num(9474))\n",
    "print(is_narcissistic_num(9475))\n"
   ]
  },
  {
   "cell_type": "code",
   "execution_count": 40,
   "metadata": {},
   "outputs": [
    {
     "name": "stdout",
     "output_type": "stream",
     "text": [
      "(77, 0)\n",
      "(0, -77)\n",
      "(0, 0)\n"
     ]
    }
   ],
   "source": [
    "# Write a Python program to find the highest and lowest number from a given string of space separated integers.\n",
    "\n",
    "def highest_lowest_num(str1):\n",
    "  num_list = list(map(int, str1.split()))\n",
    "  return max(num_list), min(num_list)\n",
    "\n",
    "print(highest_lowest_num(\"1 4 5 77 9 0\"))\n",
    "print(highest_lowest_num(\"-1 -4 -5 -77 -9 0\"))\n",
    "print(highest_lowest_num(\"0 0\"))\n"
   ]
  },
  {
   "cell_type": "code",
   "execution_count": 41,
   "metadata": {},
   "outputs": [
    {
     "name": "stdout",
     "output_type": "stream",
     "text": [
      "True\n",
      "False\n",
      "False\n",
      "True\n",
      "False\n"
     ]
    }
   ],
   "source": [
    "# Write a Python program to check whether a sequence of numbers has an increasing trend or not.\n",
    "\n",
    "\n",
    "def increasing_trend(nums):\n",
    "    if (sorted(nums) == nums):\n",
    "        return True\n",
    "    else:\n",
    "        return False\n",
    "\n",
    "print(increasing_trend([1,2,3,4]))\n",
    "print(increasing_trend([1,2,5,3,4]))\n",
    "print(increasing_trend([-1,-2,-3,-4]))\n",
    "print(increasing_trend([-4,-3,-2,-1]))\n",
    "print(increasing_trend([1,2,3,4,0]))\n"
   ]
  },
  {
   "cell_type": "code",
   "execution_count": 42,
   "metadata": {},
   "outputs": [
    {
     "name": "stdout",
     "output_type": "stream",
     "text": [
      "20\n",
      "-20\n",
      "0\n"
     ]
    }
   ],
   "source": [
    "#  Write a Python program to compute the sum of all items of a given array of integers where each integer is multiplied by its index. Return 0 if there is no number.\n",
    "\n",
    "\n",
    "def sum_index_multiplier(nums):\n",
    "\treturn sum(j*i for i, j in enumerate(nums))\n",
    "\n",
    "print(sum_index_multiplier([1,2,3,4]))\n",
    "print(sum_index_multiplier([-1,-2,-3,-4]))\n",
    "print(sum_index_multiplier([]))\n"
   ]
  },
  {
   "cell_type": "code",
   "execution_count": 43,
   "metadata": {},
   "outputs": [
    {
     "name": "stdout",
     "output_type": "stream",
     "text": [
      "Nidia Dominique\n",
      "Becki Saunder\n"
     ]
    }
   ],
   "source": [
    "# Write a Python program to find the name of the oldest student from a given dictionary containing the names and ages of a group of students.\n",
    "\n",
    "def oldest_student(students):\n",
    "\treturn max(students, key=students.get)\n",
    "\n",
    "print(oldest_student({\"Bernita Ahner\": 12, \"Kristie Marsico\": 11, \n",
    "                      \"Sara Pardee\": 14, \"Fallon Fabiano\": 11, \n",
    "                      \"Nidia Dominique\": 15})) \n",
    "print(oldest_student({\"Nilda Woodside\": 12, \"Jackelyn Pineda\": 12.2, \n",
    "                      \"Sofia Park\": 12.4, \"Joannie Archibald\": 12.6, \n",
    "                      \"Becki Saunder\": 12.7})) "
   ]
  },
  {
   "cell_type": "code",
   "execution_count": 44,
   "metadata": {},
   "outputs": [
    {
     "name": "stdout",
     "output_type": "stream",
     "text": [
      "PYTHON\n",
      "Python\n",
      "Java\n",
      "PHP\n"
     ]
    }
   ],
   "source": [
    "# Write a Python program to create a new string with no duplicate consecutive letters from a given string.\n",
    "\n",
    "def no_consecutive_letters (txt):\n",
    "    return txt[0] + ''.join(txt[i] for i in range(1,len(txt)) if txt[i] != txt[i-1])\n",
    "\n",
    "print(no_consecutive_letters(\"PPYYYTTHON\"))\n",
    "print(no_consecutive_letters(\"PPyyythonnn\"))\n",
    "print(no_consecutive_letters(\"Java\"))\n",
    "print(no_consecutive_letters(\"PPPHHHPPP\")) "
   ]
  },
  {
   "cell_type": "code",
   "execution_count": 45,
   "metadata": {},
   "outputs": [
    {
     "name": "stdout",
     "output_type": "stream",
     "text": [
      "True\n",
      "False\n"
     ]
    }
   ],
   "source": [
    "# Write a Python program to check whether two given lines are parallel or not.\n",
    "\n",
    "def parallel_lines(line1, line2):\n",
    "  return line1[0]/line1[1] == line2[0]/line2[1]\n",
    "#2x + 3y = 4, 2x + 3y = 8\n",
    "print(parallel_lines([2,3,4], [2,3,8]))\n",
    "#2x + 3y = 4, 4x - 3y = 8\n",
    "print(parallel_lines([2,3,4], [4,-3,8])) "
   ]
  },
  {
   "cell_type": "code",
   "execution_count": 46,
   "metadata": {},
   "outputs": [
    {
     "name": "stdout",
     "output_type": "stream",
     "text": [
      "[10, 30, 60, 100, 150, 210, 217]\n",
      "[1, 3, 6, 10, 15]\n",
      "[0, 1, 3, 6, 10, 15]\n"
     ]
    }
   ],
   "source": [
    "#  Write a Python program to create a list of the accumulating sum from a given list.\n",
    "\n",
    "\n",
    "def nums_cumulative_sum(nums_list):\n",
    "  return [sum(nums_list[:i+1]) for i in range(len(nums_list))]\n",
    "\n",
    "print(nums_cumulative_sum([10, 20, 30, 40, 50, 60, 7]))\n",
    "print(nums_cumulative_sum([1, 2, 3, 4, 5]))\n",
    "print(nums_cumulative_sum([0, 1, 2, 3, 4, 5]))\n"
   ]
  },
  {
   "cell_type": "code",
   "execution_count": 47,
   "metadata": {},
   "outputs": [
    {
     "name": "stdout",
     "output_type": "stream",
     "text": [
      "Linear Sequence\n",
      "Quadratic Sequence\n",
      "Cubic Sequence\n",
      "Linear Sequence\n"
     ]
    }
   ],
   "source": [
    "# Write a Python program to check whether a given sequence is linear, quadratic or cubic.\n",
    "\n",
    "def Seq_Linear_Quadratic_Cubic(seq_nums):\n",
    "  seq_nums = [seq_nums[x] - seq_nums[x-1] for x in range(1, len(seq_nums))]\n",
    "  if len(set(seq_nums)) == 1: return \"Linear Sequence\"\n",
    "  seq_nums = [seq_nums[x] - seq_nums[x-1] for x in range(1, len(seq_nums))]\n",
    "  if len(set(seq_nums)) == 1: return \"Quadratic Sequence\"\n",
    "  seq_nums = [seq_nums[x] - seq_nums[x-1] for x in range(1, len(seq_nums))]\n",
    "  if len(set(seq_nums)) == 1: return \"Cubic Sequence\"\n",
    "  \n",
    "print(Seq_Linear_Quadratic_Cubic([0,2,4,6,8,10]))\n",
    "print(Seq_Linear_Quadratic_Cubic([1,4,9,16,25]))\n",
    "print(Seq_Linear_Quadratic_Cubic([0,12,10,0,-12,-20]))\n",
    "print(Seq_Linear_Quadratic_Cubic([1,2,3,4,5]))\n"
   ]
  },
  {
   "cell_type": "code",
   "execution_count": 48,
   "metadata": {},
   "outputs": [
    {
     "name": "stdout",
     "output_type": "stream",
     "text": [
      "True\n",
      "True\n",
      "True\n",
      "True\n",
      "False\n"
     ]
    }
   ],
   "source": [
    "# Write a Python program to test whether a given integer is pandigital number or not.\n",
    "\n",
    "def is_pandigital_num(n):\n",
    "    return len(set(str(n))) == 10\n",
    "\n",
    "print(is_pandigital_num(1023456897))\n",
    "print(is_pandigital_num(1023456798))\n",
    "print(is_pandigital_num(1023457689))\n",
    "print(is_pandigital_num(1023456789))\n",
    "print(is_pandigital_num(102345679))\n"
   ]
  },
  {
   "cell_type": "code",
   "execution_count": 49,
   "metadata": {},
   "outputs": [
    {
     "name": "stdout",
     "output_type": "stream",
     "text": [
      "Oddish\n",
      "Evenish\n",
      "Oddish\n",
      "Evenish\n",
      "Oddish\n"
     ]
    }
   ],
   "source": [
    "#  Write a Python program to check whether a given number is Oddish \n",
    "\n",
    "\n",
    "def oddish_evenish_num(n):\n",
    "\treturn 'Oddish' if sum(map(int, str(n))) % 2 else 'Evenish'\n",
    "print(oddish_evenish_num(120))\n",
    "print(oddish_evenish_num(321))\n",
    "print(oddish_evenish_num(43))\n",
    "print(oddish_evenish_num(4433))\n",
    "print(oddish_evenish_num(373))\n"
   ]
  },
  {
   "cell_type": "code",
   "execution_count": 50,
   "metadata": {},
   "outputs": [
    {
     "name": "stdout",
     "output_type": "stream",
     "text": [
      "True\n",
      "True\n",
      "True\n",
      "False\n",
      "False\n"
     ]
    }
   ],
   "source": [
    "# Write a Python program that takes three integers and check whether the last digit of first number * the last digit of second number = the last digit of third number.\n",
    "\n",
    "\n",
    "def check_last_digit(x, y, z):\n",
    "  return str(x*y)[-1] == str(z)[-1]\n",
    "\n",
    "print(check_last_digit(12, 22, 44))\n",
    "print(check_last_digit(145, 122, 1010))\n",
    "print(check_last_digit(0, 22, 40))\n",
    "print(check_last_digit(1, 22, 40))\n",
    "print(check_last_digit(145, 122, 101))\n"
   ]
  },
  {
   "cell_type": "code",
   "execution_count": 51,
   "metadata": {},
   "outputs": [
    {
     "name": "stdout",
     "output_type": "stream",
     "text": [
      "[1, 5]\n",
      "[0, 3, 7, 8]\n",
      "[3, 6]\n"
     ]
    }
   ],
   "source": [
    "# Write a Python program find the indices of all occurrences of a given item in a given list.\n",
    "\n",
    "def indices_in_list(nums_list, n):\n",
    "\treturn [idx for idx, i in enumerate(nums_list) if i == n]\n",
    "\n",
    "print(indices_in_list([1,2,3,4,5,2], 2))\n",
    "print(indices_in_list([3,1,2,3,4,5,6,3,3], 3))\n",
    "print(indices_in_list([1,2,3,-4,5,2,-4], -4))\n"
   ]
  },
  {
   "cell_type": "code",
   "execution_count": 53,
   "metadata": {},
   "outputs": [
    {
     "name": "stdout",
     "output_type": "stream",
     "text": [
      "{40, 10, 80, 50, 20, 60, 30}\n"
     ]
    }
   ],
   "source": [
    "# Write a Python program to remove two duplicate numbers from a given number of list.\n",
    "\n",
    "a = [10,20,30,20,10,50,60,40,80,50,40]\n",
    "\n",
    "dup_items = set()\n",
    "uniq_items = []\n",
    "for x in a:\n",
    "    if x not in dup_items:\n",
    "        uniq_items.append(x)\n",
    "        dup_items.add(x)\n",
    "\n",
    "print(dup_items)\n"
   ]
  },
  {
   "cell_type": "code",
   "execution_count": 54,
   "metadata": {},
   "outputs": [
    {
     "name": "stdout",
     "output_type": "stream",
     "text": [
      "True\n",
      "False\n"
     ]
    }
   ],
   "source": [
    "# Write a Python program to check whether two given circles (given center (x, y) and radius) are intersecting. Return true for intersecting otherwise\n",
    "\n",
    "def is_circle_collision(circle1, circle2):\n",
    "   x1, y1, r1 = circle1\n",
    "   x2, y2, r2 = circle2\n",
    "   distance = ((x1-x2)**2 + (y1-y2)**2)**0.5\n",
    "   return distance <= r1 + r2\n",
    "print(is_circle_collision([1,2, 4], [1,2, 8]))\n",
    "print(is_circle_collision([0,0, 2], [10,10, 5]))\n"
   ]
  },
  {
   "cell_type": "code",
   "execution_count": 55,
   "metadata": {},
   "outputs": [
    {
     "name": "stdout",
     "output_type": "stream",
     "text": [
      "7\n",
      "6\n",
      "1\n",
      "11\n"
     ]
    }
   ],
   "source": [
    "#  Write a Python program to compute the digit distance between two integers\n",
    "\n",
    "def digit_distance_nums(n1, n2):\n",
    "         return sum(map(int,str(abs(n1-n2))))\n",
    "print(digit_distance_nums(123, 256))\n",
    "print(digit_distance_nums(23, 56))\n",
    "print(digit_distance_nums(1, 2))\n",
    "print(digit_distance_nums(24232, 45645))\n"
   ]
  },
  {
   "cell_type": "code",
   "execution_count": 56,
   "metadata": {},
   "outputs": [
    {
     "name": "stdout",
     "output_type": "stream",
     "text": [
      "The quick brown fox jumps revo the yzal dog\n",
      "nohtyP Exercises\n"
     ]
    }
   ],
   "source": [
    "#  Write a Python program to reverse all the words which have even length.\n",
    "\n",
    "def reverse_even(txt):\n",
    "         return ' '.join(i[::-1] if not len(i)%2 else i for i in txt.split())\n",
    "print(reverse_even(\"The quick brown fox jumps over the lazy dog\"))\n",
    "print(reverse_even(\"Python Exercises\"))\n"
   ]
  },
  {
   "cell_type": "code",
   "execution_count": 57,
   "metadata": {},
   "outputs": [
    {
     "name": "stdout",
     "output_type": "stream",
     "text": [
      "Alphabet from a-z:\n",
      "a b c d e f g h i j k l m n o p q r s t u v w x y z \n",
      "Alphabet from A-Z:\n",
      "A B C D E F G H I J K L M N O P Q R S T U V W X Y Z "
     ]
    }
   ],
   "source": [
    "# Write a Python program to print letters from the English alphabet from a-z and A-Z.\n",
    "\n",
    "import string\n",
    "print(\"Alphabet from a-z:\")\n",
    "for letter in string.ascii_lowercase:\n",
    "   print(letter, end =\" \")\n",
    "print(\"\\nAlphabet from A-Z:\")\n",
    "for letter in string.ascii_uppercase:\n",
    "   print(letter, end =\" \")\n"
   ]
  },
  {
   "cell_type": "code",
   "execution_count": 58,
   "metadata": {},
   "outputs": [
    {
     "name": "stdout",
     "output_type": "stream",
     "text": [
      "[1, 2, 3, 4, 5, 6, 7, 8, 9]\n",
      "['1', '2', '3', '4', '5', '6', '7', '8', '9']\n"
     ]
    }
   ],
   "source": [
    "# . Write a Python program to generate and prints a list of numbers from 1 to 10\n",
    "\n",
    "nums = range(1,10)\n",
    "print(list(nums))\n",
    "print(list(map(str, nums)))\n"
   ]
  },
  {
   "cell_type": "code",
   "execution_count": 59,
   "metadata": {},
   "outputs": [
    {
     "name": "stdout",
     "output_type": "stream",
     "text": [
      "Nonprime numbers between 1 to 100:\n",
      "4\n",
      "6\n",
      "8\n",
      "9\n",
      "10\n",
      "12\n",
      "14\n",
      "15\n",
      "16\n",
      "18\n",
      "20\n",
      "21\n",
      "22\n",
      "24\n",
      "25\n",
      "26\n",
      "27\n",
      "28\n",
      "30\n",
      "32\n",
      "33\n",
      "34\n",
      "35\n",
      "36\n",
      "38\n",
      "39\n",
      "40\n",
      "42\n",
      "44\n",
      "45\n",
      "46\n",
      "48\n",
      "49\n",
      "50\n",
      "51\n",
      "52\n",
      "54\n",
      "55\n",
      "56\n",
      "57\n",
      "58\n",
      "60\n",
      "62\n",
      "63\n",
      "64\n",
      "65\n",
      "66\n",
      "68\n",
      "69\n",
      "70\n",
      "72\n",
      "74\n",
      "75\n",
      "76\n",
      "77\n",
      "78\n",
      "80\n",
      "81\n",
      "82\n",
      "84\n",
      "85\n",
      "86\n",
      "87\n",
      "88\n",
      "90\n",
      "91\n",
      "92\n",
      "93\n",
      "94\n",
      "95\n",
      "96\n",
      "98\n",
      "99\n",
      "100\n"
     ]
    }
   ],
   "source": [
    "#  Write a Python program to identify nonprime numbers between 1 to 100 (integers). Print the nonprime numbers\n",
    "\n",
    "\n",
    "import math\n",
    "def is_not_prime(n):\n",
    "    ans = False\n",
    "    for i in range(2, int(math.sqrt(n)) + 1):\n",
    "        if n % i == 0:\n",
    "            ans = True\n",
    "    return ans\n",
    "print(\"Nonprime numbers between 1 to 100:\")\n",
    "for x in filter(is_not_prime, range(1, 101)):\n",
    "    print(x)\n"
   ]
  },
  {
   "cell_type": "code",
   "execution_count": 60,
   "metadata": {},
   "outputs": [
    {
     "name": "stdout",
     "output_type": "stream",
     "text": [
      "Web page status:  <Response [200]>\n",
      "\n",
      "HTML code of the above web page:\n",
      "<!doctype html>\n",
      "<html>\n",
      "<head>\n",
      "    <title>Example Domain</title>\n",
      "\n",
      "    <meta charset=\"utf-8\" />\n",
      "    <meta http-equiv=\"Content-type\" content=\"text/html; charset=utf-8\" />\n",
      "    <meta name=\"viewport\" content=\"width=device-width, initial-scale=1\" />\n",
      "    <style type=\"text/css\">\n",
      "    body {\n",
      "        background-color: #f0f0f2;\n",
      "        margin: 0;\n",
      "        padding: 0;\n",
      "        font-family: -apple-system, system-ui, BlinkMacSystemFont, \"Segoe UI\", \"Open Sans\", \"Helvetica Neue\", Helvetica, Arial, sans-serif;\n",
      "        \n",
      "    }\n",
      "    div {\n",
      "        width: 600px;\n",
      "        margin: 5em auto;\n",
      "        padding: 2em;\n",
      "        background-color: #fdfdff;\n",
      "        border-radius: 0.5em;\n",
      "        box-shadow: 2px 3px 7px 2px rgba(0,0,0,0.02);\n",
      "    }\n",
      "    a:link, a:visited {\n",
      "        color: #38488f;\n",
      "        text-decoration: none;\n",
      "    }\n",
      "    @media (max-width: 700px) {\n",
      "        div {\n",
      "            margin: 0 auto;\n",
      "            width: auto;\n",
      "        }\n",
      "    }\n",
      "    </style>    \n",
      "</head>\n",
      "\n",
      "<body>\n",
      "<div>\n",
      "    <h1>Example Domain</h1>\n",
      "    <p>This domain is for use in illustrative examples in documents. You may use this\n",
      "    domain in literature without prior coordination or asking for permission.</p>\n",
      "    <p><a href=\"https://www.iana.org/domains/example\">More information...</a></p>\n",
      "</div>\n",
      "</body>\n",
      "</html>\n",
      "\n"
     ]
    }
   ],
   "source": [
    "# Write a Python program to make a request to a web page, and test the status code, also display the html code of the specified web\n",
    "\n",
    "import requests\n",
    "url = 'http://www.example.com/'\n",
    "headers = {'User-Agent': 'Mozilla/5.0 (Macintosh) Gecko/20100101 Firefox/38.0'}\n",
    "request = requests.get(url, headers=headers)\n",
    "print(\"Web page status: \", request)\n",
    "print(\"\\nHTML code of the above web page:\")\n",
    "if request.ok:\n",
    "    print(request.text)\n"
   ]
  },
  {
   "cell_type": "code",
   "execution_count": 61,
   "metadata": {},
   "outputs": [
    {
     "name": "stdout",
     "output_type": "stream",
     "text": [
      "4\n",
      "8\n",
      "20\n"
     ]
    }
   ],
   "source": [
    "# Write a Python program to calculate Euclid's totient function of a given integer. Use a primitive method to calculate Euclid's totient functions\n",
    "  \n",
    "def gcd(p,q):\n",
    "# Create the gcd of two positive integers.\n",
    "    while q != 0:\n",
    "        p, q = q, p%q\n",
    "    return p\n",
    "\n",
    "def is_coprime(x, y):\n",
    "    return gcd(x, y) == 1\n",
    "\n",
    "def phi_func(x):\n",
    "    if x == 1:\n",
    "        return 1\n",
    "    else:\n",
    "        n = [y for y in range(1,x) if is_coprime(x,y)]\n",
    "        return len(n)\n",
    "print(phi_func(10))\n",
    "print(phi_func(15))\n",
    "print(phi_func(33))\n"
   ]
  },
  {
   "cell_type": "code",
   "execution_count": 1,
   "metadata": {},
   "outputs": [],
   "source": [
    "import nltk"
   ]
  },
  {
   "cell_type": "code",
   "execution_count": null,
   "metadata": {},
   "outputs": [],
   "source": []
  }
 ],
 "metadata": {
  "kernelspec": {
   "display_name": "Python 3",
   "language": "python",
   "name": "python3"
  },
  "language_info": {
   "codemirror_mode": {
    "name": "ipython",
    "version": 3
   },
   "file_extension": ".py",
   "mimetype": "text/x-python",
   "name": "python",
   "nbconvert_exporter": "python",
   "pygments_lexer": "ipython3",
   "version": "3.7.3"
  }
 },
 "nbformat": 4,
 "nbformat_minor": 2
}
