{
 "cells": [
  {
   "cell_type": "code",
   "execution_count": 2,
   "metadata": {},
   "outputs": [
    {
     "name": "stdout",
     "output_type": "stream",
     "text": [
      "15\n"
     ]
    }
   ],
   "source": [
    "#Write a Python program to sum all the items in a list.\n",
    "\n",
    "def sum_list(items):\n",
    "    sum_numbers = 0\n",
    "    for x in items:\n",
    "        sum_numbers += x\n",
    "    return sum_numbers\n",
    "print(sum_list([1,2,4,8,]))\n"
   ]
  },
  {
   "cell_type": "code",
   "execution_count": 4,
   "metadata": {},
   "outputs": [
    {
     "name": "stdout",
     "output_type": "stream",
     "text": [
      "6\n"
     ]
    }
   ],
   "source": [
    "# Write a Python program to multiplies all the items in a list.\n",
    "def mul(items):\n",
    "    mul=1\n",
    "    for x in items:\n",
    "        mul *=x\n",
    "    return mul\n",
    "print(mul([1,2,3]))"
   ]
  },
  {
   "cell_type": "code",
   "execution_count": 5,
   "metadata": {},
   "outputs": [
    {
     "name": "stdout",
     "output_type": "stream",
     "text": [
      "2\n"
     ]
    }
   ],
   "source": [
    "#Write a Python program to get the largest number from a list.\n",
    "\n",
    "\n",
    "def max_num_in_list( list ):\n",
    "    max = list[ 0 ]\n",
    "    for a in list:\n",
    "        if a > max:\n",
    "            max = a\n",
    "    return max\n",
    "print(max_num_in_list([1, 2, -8, 0]))\n"
   ]
  },
  {
   "cell_type": "code",
   "execution_count": 6,
   "metadata": {},
   "outputs": [
    {
     "name": "stdout",
     "output_type": "stream",
     "text": [
      "-8\n"
     ]
    }
   ],
   "source": [
    "# Write a Python program to get the smallest number from a list.\n",
    "\n",
    "def smallest_num_in_list( list ):\n",
    "    min = list[ 0 ]\n",
    "    for a in list:\n",
    "        if a < min:\n",
    "            min = a\n",
    "    return min\n",
    "print(smallest_num_in_list([1, 2, -8, 0]))\n"
   ]
  },
  {
   "cell_type": "code",
   "execution_count": 7,
   "metadata": {},
   "outputs": [
    {
     "name": "stdout",
     "output_type": "stream",
     "text": [
      "2\n"
     ]
    }
   ],
   "source": [
    "# Write a Python program to count the number of strings where the string length is 2 or more and the first and last character are same from a given list of strings.\n",
    "\n",
    "def match_words(words):\n",
    "  ctr = 0\n",
    "\n",
    "  for word in words:\n",
    "    if len(word) > 1 and word[0] == word[-1]:\n",
    "      ctr += 1\n",
    "  return ctr\n",
    "\n",
    "print(match_words(['abc', 'xyz', 'aba', '1221']))\n"
   ]
  },
  {
   "cell_type": "code",
   "execution_count": 8,
   "metadata": {},
   "outputs": [
    {
     "name": "stdout",
     "output_type": "stream",
     "text": [
      "[(2, 1), (1, 2), (2, 3), (4, 4), (2, 5)]\n"
     ]
    }
   ],
   "source": [
    "# Write a Python program to get a list, sorted in increasing order by the last element in each tuple from a given list of non-empty tuples.\n",
    "def last(n): return n[-1]\n",
    "\n",
    "def sort_list_last(tuples):\n",
    "  return sorted(tuples, key=last)\n",
    "\n",
    "print(sort_list_last([(2, 5), (1, 2), (4, 4), (2, 3), (2, 1)]))"
   ]
  },
  {
   "cell_type": "code",
   "execution_count": 9,
   "metadata": {},
   "outputs": [
    {
     "name": "stdout",
     "output_type": "stream",
     "text": [
      "{40, 10, 80, 50, 20, 60, 30}\n"
     ]
    }
   ],
   "source": [
    "# Write a Python program to remove duplicates from a list.\n",
    "a = [10,20,30,20,10,50,60,40,80,50,40]\n",
    "\n",
    "dup_items = set()\n",
    "uniq_items = []\n",
    "for x in a:\n",
    "    if x not in dup_items:\n",
    "        uniq_items.append(x)\n",
    "        dup_items.add(x)\n",
    "\n",
    "print(dup_items)"
   ]
  },
  {
   "cell_type": "code",
   "execution_count": 10,
   "metadata": {},
   "outputs": [
    {
     "name": "stdout",
     "output_type": "stream",
     "text": [
      "List is empty\n"
     ]
    }
   ],
   "source": [
    "# Write a Python program to check a list is empty or not.\n",
    "l = []\n",
    "if not l:\n",
    "  print(\"List is empty\")"
   ]
  },
  {
   "cell_type": "code",
   "execution_count": 11,
   "metadata": {},
   "outputs": [
    {
     "name": "stdout",
     "output_type": "stream",
     "text": [
      "[10, 22, 44, 23, 4]\n",
      "[10, 22, 44, 23, 4]\n"
     ]
    }
   ],
   "source": [
    "# Write a Python program to clone or copy a list.\n",
    "\n",
    "\n",
    "original_list = [10, 22, 44, 23, 4]\n",
    "new_list = list(original_list)\n",
    "print(original_list)\n",
    "print(new_list)\n"
   ]
  },
  {
   "cell_type": "code",
   "execution_count": 12,
   "metadata": {},
   "outputs": [
    {
     "name": "stdout",
     "output_type": "stream",
     "text": [
      "['quick', 'brown', 'jumps', 'over', 'lazy']\n"
     ]
    }
   ],
   "source": [
    "# Write a Python program to find the list of words that are longer than n from a given list of words\n",
    "\n",
    "def long_words(n, str):\n",
    "    word_len = []\n",
    "    txt = str.split(\" \")\n",
    "    for x in txt:\n",
    "        if len(x) > n:\n",
    "            word_len.append(x)\n",
    "    return word_len\t\n",
    "print(long_words(3, \"The quick brown fox jumps over the lazy dog\"))\n"
   ]
  },
  {
   "cell_type": "code",
   "execution_count": 13,
   "metadata": {},
   "outputs": [
    {
     "name": "stdout",
     "output_type": "stream",
     "text": [
      "True\n",
      "None\n"
     ]
    }
   ],
   "source": [
    "# Write a Python function that takes two lists and returns True if they have at least one common member\n",
    "\n",
    "def common_data(list1, list2):\n",
    "     result = False\n",
    "     for x in list1:\n",
    "         for y in list2:\n",
    "             if x == y:\n",
    "                 result = True\n",
    "                 return result\n",
    "print(common_data([1,2,3,4,5], [5,6,7,8,9]))\n",
    "print(common_data([1,2,3,4,5], [6,7,8,9]))\n"
   ]
  },
  {
   "cell_type": "code",
   "execution_count": 14,
   "metadata": {},
   "outputs": [
    {
     "name": "stdout",
     "output_type": "stream",
     "text": [
      "['Green', 'White', 'Black']\n"
     ]
    }
   ],
   "source": [
    "# Write a Python program to print a specified list after removing the 0th, 4th and 5th elements\n",
    "\n",
    "color = ['Red', 'Green', 'White', 'Black', 'Pink', 'Yellow']\n",
    "color = [x for (i,x) in enumerate(color) if i not in (0,4,5)]\n",
    "print(color)\n"
   ]
  },
  {
   "cell_type": "code",
   "execution_count": 15,
   "metadata": {},
   "outputs": [
    {
     "name": "stdout",
     "output_type": "stream",
     "text": [
      "[[['*', '*', '*', '*', '*', '*'], ['*', '*', '*', '*', '*', '*'], ['*', '*', '*', '*', '*', '*'], ['*', '*', '*', '*', '*', '*']], [['*', '*', '*', '*', '*', '*'], ['*', '*', '*', '*', '*', '*'], ['*', '*', '*', '*', '*', '*'], ['*', '*', '*', '*', '*', '*']], [['*', '*', '*', '*', '*', '*'], ['*', '*', '*', '*', '*', '*'], ['*', '*', '*', '*', '*', '*'], ['*', '*', '*', '*', '*', '*']]]\n"
     ]
    }
   ],
   "source": [
    "# Write a Python program to generate a 3*4*6 3D array whose each element is *.\n",
    "array = [[ ['*' for col in range(6)] for col in range(4)] for row in range(3)]\n",
    "print(array)"
   ]
  },
  {
   "cell_type": "code",
   "execution_count": 16,
   "metadata": {},
   "outputs": [
    {
     "name": "stdout",
     "output_type": "stream",
     "text": [
      "[7, 25, 27]\n"
     ]
    }
   ],
   "source": [
    "# Write a Python program to print the numbers of a specified list after removing even numbers from it\n",
    " \n",
    "num = [7,8, 120, 25, 44, 20, 27]\n",
    "num = [x for x in num if x%2!=0]\n",
    "print(num)\n"
   ]
  },
  {
   "cell_type": "code",
   "execution_count": 17,
   "metadata": {},
   "outputs": [
    {
     "name": "stdout",
     "output_type": "stream",
     "text": [
      "['White', 'Black', 'Pink', 'Red', 'Yellow', 'Green']\n"
     ]
    }
   ],
   "source": [
    "# 15. Write a Python program to shuffle and print a specified list.\n",
    "\n",
    "\n",
    "from random import shuffle\n",
    "color = ['Red', 'Green', 'White', 'Black', 'Pink', 'Yellow']\n",
    "shuffle(color)\n",
    "print(color)\n"
   ]
  },
  {
   "cell_type": "code",
   "execution_count": 18,
   "metadata": {},
   "outputs": [
    {
     "name": "stdout",
     "output_type": "stream",
     "text": [
      "[1, 4, 9, 16, 25]\n",
      "[256, 289, 324, 361, 400]\n"
     ]
    }
   ],
   "source": [
    "# Write a Python program to generate and print a list of first and last 5 elements where the values are square of numbers between 1 and 30 (both included).\n",
    "\n",
    "def printValues():\n",
    "\tl = list()\n",
    "\tfor i in range(1,21):\n",
    "\t\tl.append(i**2)\n",
    "\tprint(l[:5])\n",
    "\tprint(l[-5:])\n",
    "\n",
    "printValues()\n"
   ]
  },
  {
   "cell_type": "code",
   "execution_count": 19,
   "metadata": {},
   "outputs": [
    {
     "name": "stdout",
     "output_type": "stream",
     "text": [
      "[36, 49, 64, 81, 100, 121, 144, 169, 196, 225, 256, 289, 324, 361, 400]\n"
     ]
    }
   ],
   "source": [
    "# Write a Python program to generate and print a list except for the first 5 elements, where the values are square of numbers between 1 and 30 (both included).\n",
    "\n",
    "def printValues():\n",
    "\tl = list()\n",
    "\tfor i in range(1,21):\n",
    "\t\tl.append(i**2)\n",
    "\tprint(l[5:])\n",
    "\n",
    "printValues()\n"
   ]
  },
  {
   "cell_type": "code",
   "execution_count": 20,
   "metadata": {},
   "outputs": [
    {
     "name": "stdout",
     "output_type": "stream",
     "text": [
      "[(1, 2, 3), (1, 3, 2), (2, 1, 3), (2, 3, 1), (3, 1, 2), (3, 2, 1)]\n"
     ]
    }
   ],
   "source": [
    "# Write a Python program to generate all permutations of a list in Python.\n",
    "import itertools\n",
    "print(list(itertools.permutations([1,2,3])))"
   ]
  },
  {
   "cell_type": "code",
   "execution_count": 21,
   "metadata": {},
   "outputs": [
    {
     "name": "stdout",
     "output_type": "stream",
     "text": [
      "[9, 3, 5, 8, 2, 4, 6]\n"
     ]
    }
   ],
   "source": [
    "# 19. Write a Python program to get the difference between the two lists\n",
    "\n",
    "list1 = [1, 3, 5, 7, 9]\n",
    "list2=[1, 2, 4, 6, 7, 8]\n",
    "diff_list1_list2 = list(set(list1) - set(list2))\n",
    "diff_list2_list1 = list(set(list2) - set(list1))\n",
    "total_diff = diff_list1_list2 + diff_list2_list1\n",
    "print(total_diff)"
   ]
  },
  {
   "cell_type": "code",
   "execution_count": 22,
   "metadata": {},
   "outputs": [
    {
     "name": "stdout",
     "output_type": "stream",
     "text": [
      "0 5\n",
      "1 15\n",
      "2 35\n",
      "3 8\n",
      "4 98\n"
     ]
    }
   ],
   "source": [
    "#  Write a Python program access the index of a list.\n",
    "nums = [5, 15, 35, 8, 98]\n",
    "for num_index, num_val in enumerate(nums):\n",
    "    print(num_index, num_val)\n",
    "\t"
   ]
  },
  {
   "cell_type": "code",
   "execution_count": 23,
   "metadata": {},
   "outputs": [
    {
     "name": "stdout",
     "output_type": "stream",
     "text": [
      "abcd\n"
     ]
    }
   ],
   "source": [
    "# Write a Python program to convert a list of characters into a string.\n",
    "s = ['a', 'b', 'c', 'd']\n",
    "str1 = ''.join(s)\n",
    "print(str1)"
   ]
  },
  {
   "cell_type": "code",
   "execution_count": 24,
   "metadata": {},
   "outputs": [
    {
     "name": "stdout",
     "output_type": "stream",
     "text": [
      "1\n"
     ]
    }
   ],
   "source": [
    "# Write a Python program to find the index of an item in a specified list.\n",
    "num =[10, 30, 4, -6]\n",
    "print(num.index(30))"
   ]
  },
  {
   "cell_type": "code",
   "execution_count": 25,
   "metadata": {},
   "outputs": [
    {
     "name": "stdout",
     "output_type": "stream",
     "text": [
      "[2, 4, 3, 1, 5, 6, 9, 7, 9, 0]\n"
     ]
    }
   ],
   "source": [
    "# Write a Python program to flatten a shallow list.\n",
    "import itertools\n",
    "original_list = [[2,4,3],[1,5,6], [9], [7,9,0]]\n",
    "new_merged_list = list(itertools.chain(*original_list))\n",
    "print(new_merged_list)"
   ]
  },
  {
   "cell_type": "code",
   "execution_count": 26,
   "metadata": {},
   "outputs": [
    {
     "name": "stdout",
     "output_type": "stream",
     "text": [
      "[1, 2, 3, 0, 'Red', 'Green', 'Black']\n"
     ]
    }
   ],
   "source": [
    "# te a Python program to append a list to the second list.\n",
    "list1 = [1, 2, 3, 0]\n",
    "list2 = ['Red', 'Green', 'Black']\n",
    "final_list = list1 + list2\n",
    "print(final_list)"
   ]
  },
  {
   "cell_type": "code",
   "execution_count": 27,
   "metadata": {},
   "outputs": [
    {
     "name": "stdout",
     "output_type": "stream",
     "text": [
      "White\n"
     ]
    }
   ],
   "source": [
    "# wriite a Python program to select an item randomly from a list.\n",
    "\n",
    "import random\n",
    "color_list = ['Red', 'Blue', 'Green', 'White', 'Black']\n",
    "print(random.choice(color_list))\n"
   ]
  },
  {
   "cell_type": "code",
   "execution_count": 28,
   "metadata": {},
   "outputs": [
    {
     "name": "stdout",
     "output_type": "stream",
     "text": [
      "Compare list1 and list2\n",
      "True\n",
      "Compare list1 and list3\n",
      "False\n"
     ]
    }
   ],
   "source": [
    "# Write a python program to check whether two lists are circularly identical.\n",
    "list1 = [10, 10, 0, 0, 10]\n",
    "list2 = [10, 10, 10, 0, 0]\n",
    "list3 = [1, 10, 10, 0, 0]\n",
    "\n",
    "print('Compare list1 and list2')\n",
    "print(' '.join(map(str, list2)) in ' '.join(map(str, list1 * 2)))\n",
    "print('Compare list1 and list3')\n",
    "print(' '.join(map(str, list3)) in ' '.join(map(str, list1 * 2)))"
   ]
  },
  {
   "cell_type": "code",
   "execution_count": 29,
   "metadata": {},
   "outputs": [
    {
     "name": "stdout",
     "output_type": "stream",
     "text": [
      "-2\n",
      "0\n",
      "0\n",
      "None\n",
      "None\n"
     ]
    }
   ],
   "source": [
    "# Write a Python program to find the second smallest number in a list\n",
    "def second_smallest(numbers):\n",
    "  if (len(numbers)<2):\n",
    "    return\n",
    "  if ((len(numbers)==2)  and (numbers[0] == numbers[1]) ):\n",
    "    return\n",
    "  dup_items = set()\n",
    "  uniq_items = []\n",
    "  for x in numbers:\n",
    "    if x not in dup_items:\n",
    "      uniq_items.append(x)\n",
    "      dup_items.add(x)\n",
    "  uniq_items.sort()    \n",
    "  return  uniq_items[1]   \n",
    "\n",
    "print(second_smallest([1, 2, -8, -2, 0, -2]))\n",
    "print(second_smallest([1, 1, 0, 0, 2, -2, -2]))\n",
    "print(second_smallest([1, 1, 1, 0, 0, 0, 2, -2, -2]))\n",
    "print(second_smallest([2,2]))\n",
    "print(second_smallest([2]))"
   ]
  },
  {
   "cell_type": "code",
   "execution_count": 30,
   "metadata": {},
   "outputs": [
    {
     "name": "stdout",
     "output_type": "stream",
     "text": [
      "3\n",
      "1\n",
      "None\n",
      "None\n"
     ]
    }
   ],
   "source": [
    "# Write a Python program to find the second largest number in a list.\n",
    "\n",
    "def second_largest(numbers):\n",
    "  if (len(numbers)<2):\n",
    "    return\n",
    "  if ((len(numbers)==2)  and (numbers[0] == numbers[1]) ):\n",
    "    return\n",
    "  dup_items = set()\n",
    "  uniq_items = []\n",
    "  for x in numbers:\n",
    "    if x not in dup_items:\n",
    "      uniq_items.append(x)\n",
    "      dup_items.add(x)\n",
    "  uniq_items.sort()    \n",
    "  return  uniq_items[-2]   \n",
    "print(second_largest([1,2,3,4,4]))\n",
    "print(second_largest([1, 1, 1, 0, 0, 0, 2, -2, -2]))\n",
    "print(second_largest([2,2]))\n",
    "print(second_largest([1]))\n"
   ]
  },
  {
   "cell_type": "code",
   "execution_count": 31,
   "metadata": {},
   "outputs": [
    {
     "name": "stdout",
     "output_type": "stream",
     "text": [
      "Original List :  [10, 20, 30, 40, 20, 50, 60, 40]\n",
      "List of unique numbers :  [40, 10, 50, 20, 60, 30]\n"
     ]
    }
   ],
   "source": [
    "# Write a Python program to get unique values from a list.\n",
    "\n",
    "my_list = [10, 20, 30, 40, 20, 50, 60, 40]\n",
    "print(\"Original List : \",my_list)\n",
    "my_set = set(my_list)\n",
    "my_new_list = list(my_set)\n",
    "print(\"List of unique numbers : \",my_new_list)\n"
   ]
  },
  {
   "cell_type": "code",
   "execution_count": 32,
   "metadata": {},
   "outputs": [
    {
     "name": "stdout",
     "output_type": "stream",
     "text": [
      "Original List :  [10, 10, 10, 10, 20, 20, 20, 20, 40, 40, 50, 50, 30]\n",
      "Frequency of the elements in the List :  Counter({10: 4, 20: 4, 40: 2, 50: 2, 30: 1})\n"
     ]
    }
   ],
   "source": [
    "# Write a Python program to get the frequency of the elements in a list.\n",
    "import collections\n",
    "my_list = [10,10,10,10,20,20,20,20,40,40,50,50,30]\n",
    "print(\"Original List : \",my_list)\n",
    "ctr = collections.Counter(my_list)\n",
    "print(\"Frequency of the elements in the List : \",ctr)"
   ]
  },
  {
   "cell_type": "code",
   "execution_count": 33,
   "metadata": {},
   "outputs": [
    {
     "name": "stdout",
     "output_type": "stream",
     "text": [
      "6\n",
      "5\n"
     ]
    }
   ],
   "source": [
    "# Write a Python program to count the number of elements in a list within a specified range.\n",
    "def count_range_in_list(li, min, max):\n",
    "\tctr = 0\n",
    "\tfor x in li:\n",
    "\t\tif min <= x <= max:\n",
    "\t\t\tctr += 1\n",
    "\treturn ctr\n",
    "\n",
    "list1 = [10,20,30,40,40,40,70,80,99]\n",
    "print(count_range_in_list(list1, 40, 100))\n",
    "\n",
    "list2 = ['a','b','c','d','e','f']\n",
    "print(count_range_in_list(list2, 'a', 'e'))"
   ]
  },
  {
   "cell_type": "code",
   "execution_count": 34,
   "metadata": {},
   "outputs": [
    {
     "name": "stdout",
     "output_type": "stream",
     "text": [
      "True\n",
      "False\n"
     ]
    }
   ],
   "source": [
    "# Write a Python program to check whether a list contains a sublist.\n",
    "\n",
    "def is_Sublist(l, s):\n",
    "\tsub_set = False\n",
    "\tif s == []:\n",
    "\t\tsub_set = True\n",
    "\telif s == l:\n",
    "\t\tsub_set = True\n",
    "\telif len(s) > len(l):\n",
    "\t\tsub_set = False\n",
    "\n",
    "\telse:\n",
    "\t\tfor i in range(len(l)):\n",
    "\t\t\tif l[i] == s[0]:\n",
    "\t\t\t\tn = 1\n",
    "\t\t\t\twhile (n < len(s)) and (l[i+n] == s[n]):\n",
    "\t\t\t\t\tn += 1\n",
    "\t\t\t\t\n",
    "\t\t\t\tif n == len(s):\n",
    "\t\t\t\t\tsub_set = True\n",
    "\n",
    "\treturn sub_set\n",
    "\n",
    "a = [2,4,3,5,7]\n",
    "b = [4,3]\n",
    "c = [3,7]\n",
    "print(is_Sublist(a, b))\n",
    "print(is_Sublist(a, c))\n"
   ]
  },
  {
   "cell_type": "code",
   "execution_count": 35,
   "metadata": {},
   "outputs": [
    {
     "name": "stdout",
     "output_type": "stream",
     "text": [
      "Original list:\n",
      "[10, 20, 30, 40]\n",
      "S\n",
      "[[], [10], [20], [30], [40], [10, 20], [10, 30], [10, 40], [20, 30], [20, 40], [30, 40], [10, 20, 30], [10, 20, 40], [10, 30, 40], [20, 30, 40], [10, 20, 30, 40]]\n",
      "Sublists of the said list:\n",
      "[[], [10], [20], [30], [40], [10, 20], [10, 30], [10, 40], [20, 30], [20, 40], [30, 40], [10, 20, 30], [10, 20, 40], [10, 30, 40], [20, 30, 40], [10, 20, 30, 40]]\n",
      "\n",
      "Original list:\n",
      "['X', 'Y', 'Z']\n",
      "Sublists of the said list:\n",
      "[[], ['X'], ['Y'], ['Z'], ['X', 'Y'], ['X', 'Z'], ['Y', 'Z'], ['X', 'Y', 'Z']]\n"
     ]
    }
   ],
   "source": [
    "# Write a Python program to generate all sublists of a list\n",
    "\n",
    "from itertools import combinations\n",
    "def sub_lists(my_list):\n",
    "\tsubs = []\n",
    "\tfor i in range(0, len(my_list)+1):\n",
    "\t  temp = [list(x) for x in combinations(my_list, i)]\n",
    "\t  if len(temp)>0:\n",
    "\t    subs.extend(temp)\n",
    "\treturn subs\n",
    "\n",
    "\n",
    "l1 = [10, 20, 30, 40]\n",
    "l2 = ['X', 'Y', 'Z']\n",
    "print(\"Original list:\")\n",
    "print(l1)\n",
    "print(\"S\")\n",
    "print(sub_lists(l1))\n",
    "print(\"Sublists of the said list:\")\n",
    "print(sub_lists(l1))\n",
    "print(\"\\nOriginal list:\")\n",
    "print(l2)\n",
    "print(\"Sublists of the said list:\")\n",
    "print(sub_lists(l2))\n"
   ]
  },
  {
   "cell_type": "code",
   "execution_count": 37,
   "metadata": {},
   "outputs": [
    {
     "name": "stdout",
     "output_type": "stream",
     "text": [
      "2\n",
      "3\n",
      "5\n",
      "7\n",
      "11\n",
      "13\n",
      "17\n",
      "19\n",
      "23\n",
      "29\n",
      "31\n",
      "37\n",
      "41\n",
      "43\n",
      "47\n",
      "53\n",
      "59\n",
      "61\n",
      "67\n",
      "71\n",
      "73\n",
      "79\n",
      "83\n",
      "89\n",
      "97\n",
      "None\n"
     ]
    }
   ],
   "source": [
    "# wriite a Python program using Sieve of Eratosthenes method for computing primes upto a specified number.\n",
    "def prime_eratosthenes(n):\n",
    "    prime_list = []\n",
    "    for i in range(2, n+1):\n",
    "        if i not in prime_list:\n",
    "            print (i)\n",
    "            for j in range(i*i, n+1, i):\n",
    "                prime_list.append(j)\n",
    "\n",
    "print(prime_eratosthenes(100));"
   ]
  },
  {
   "cell_type": "code",
   "execution_count": 38,
   "metadata": {},
   "outputs": [
    {
     "name": "stdout",
     "output_type": "stream",
     "text": [
      "['p1', 'q1', 'p2', 'q2', 'p3', 'q3', 'p4', 'q4']\n"
     ]
    }
   ],
   "source": [
    "# Write a Python program to create a list by concatenating a given list which range goes from 1 to\n",
    "\n",
    "my_list = ['p', 'q']\n",
    "n = 4\n",
    "new_list = ['{}{}'.format(x, y) for y in range(1, n+1) for x in my_list]\n",
    "print(new_list)\n"
   ]
  },
  {
   "cell_type": "code",
   "execution_count": 39,
   "metadata": {},
   "outputs": [
    {
     "name": "stdout",
     "output_type": "stream",
     "text": [
      "7ffdc8bb9fa0\n",
      "1c8461ca970\n"
     ]
    }
   ],
   "source": [
    "# Write a Python program to get variable unique identification number or string.\n",
    "x = 100\n",
    "print(format(id(x), 'x'))\n",
    "s = 'w3resource'\n",
    "print(format(id(s), 'x')) "
   ]
  },
  {
   "cell_type": "code",
   "execution_count": 40,
   "metadata": {},
   "outputs": [
    {
     "name": "stdout",
     "output_type": "stream",
     "text": [
      "{'White', 'Green'}\n"
     ]
    }
   ],
   "source": [
    "# Write a Python program to find common items from two lists.\n",
    "\n",
    "color1 = \"Red\", \"Green\", \"Orange\", \"White\"\n",
    "color2 = \"Black\", \"Green\", \"White\", \"Pink\"\n",
    "print(set(color1) & set(color2))\n"
   ]
  },
  {
   "cell_type": "code",
   "execution_count": 41,
   "metadata": {},
   "outputs": [
    {
     "name": "stdout",
     "output_type": "stream",
     "text": [
      "[1, 0, 3, 2, 5, 4]\n"
     ]
    }
   ],
   "source": [
    "# Write a Python program to change the position of every n-th value with the (n+1)th in a list.\n",
    "from itertools import zip_longest, chain, tee\n",
    "def replace2copy(lst):\n",
    "    lst1, lst2 = tee(iter(lst), 2)\n",
    "    return list(chain.from_iterable(zip_longest(lst[1::2], lst[::2])))\n",
    "n = [0,1,2,3,4,5]\n",
    "print(replace2copy(n))"
   ]
  },
  {
   "cell_type": "code",
   "execution_count": 42,
   "metadata": {},
   "outputs": [
    {
     "name": "stdout",
     "output_type": "stream",
     "text": [
      "Original List:  [11, 33, 50]\n",
      "Single Integer:  113350\n"
     ]
    }
   ],
   "source": [
    "# Write a Python program to convert a list of multiple integers into a single integer.\n",
    "L = [11, 33, 50]\n",
    "print(\"Original List: \",L)\n",
    "x = int(\"\".join(map(str, L)))\n",
    "print(\"Single Integer: \",x)"
   ]
  },
  {
   "cell_type": "code",
   "execution_count": 43,
   "metadata": {},
   "outputs": [
    {
     "name": "stdout",
     "output_type": "stream",
     "text": [
      "a\n",
      "ask\n",
      "b\n",
      "be\n",
      "c\n",
      "call\n",
      "come\n",
      "d\n",
      "do\n",
      "f\n",
      "feel\n",
      "find\n",
      "g\n",
      "get\n",
      "give\n",
      "go\n",
      "h\n",
      "have\n",
      "k\n",
      "know\n",
      "l\n",
      "leave\n",
      "look\n",
      "m\n",
      "make\n",
      "s\n",
      "say\n",
      "see\n",
      "seem\n",
      "t\n",
      "take\n",
      "tell\n",
      "think\n",
      "u\n",
      "use\n",
      "w\n",
      "want\n",
      "work\n"
     ]
    }
   ],
   "source": [
    "# Write a Python program to split a list based on first character of word.\n",
    "from itertools import groupby\n",
    "from operator import itemgetter\n",
    "\n",
    "word_list = ['be','have','do','say','get','make','go','know','take','see','come','think',\n",
    "     'look','want','give','use','find','tell','ask','work','seem','feel','leave','call']\n",
    "\n",
    "for letter, words in groupby(sorted(word_list), key=itemgetter(0)):\n",
    "    print(letter)\n",
    "    for word in words:\n",
    "        print(word)"
   ]
  },
  {
   "cell_type": "code",
   "execution_count": 44,
   "metadata": {},
   "outputs": [
    {
     "name": "stdout",
     "output_type": "stream",
     "text": [
      "{'1': [], '2': [], '3': [], '4': [], '5': [], '6': [], '7': [], '8': [], '9': [], '10': [], '11': [], '12': [], '13': [], '14': [], '15': [], '16': [], '17': [], '18': [], '19': [], '20': []}\n"
     ]
    }
   ],
   "source": [
    "# Write a Python program to create multiple lists.\n",
    "\n",
    "obj = {}\n",
    "for i in range(1, 21):\n",
    "    obj[str(i)] = []\n",
    "print(obj)\n"
   ]
  },
  {
   "cell_type": "code",
   "execution_count": 45,
   "metadata": {},
   "outputs": [
    {
     "name": "stdout",
     "output_type": "stream",
     "text": [
      "Missing values in second list:  c,b,a\n",
      "Additional values in second list:  g,h\n"
     ]
    }
   ],
   "source": [
    "# write a Python program to find missing and additional values in two lists\n",
    "list1 = ['a','b','c','d','e','f']\n",
    "list2 = ['d','e','f','g','h']\n",
    "print('Missing values in second list: ', ','.join(set(list1).difference(list2)))\n",
    "print('Additional values in second list: ', ','.join(set(list2).difference(list1)))"
   ]
  },
  {
   "cell_type": "code",
   "execution_count": 46,
   "metadata": {},
   "outputs": [
    {
     "name": "stdout",
     "output_type": "stream",
     "text": [
      "('Black', '#000000', 'rgb(0, 0, 0)')\n",
      "('Red', '#FF0000', 'rgb(255, 0, 0)')\n",
      "('Yellow', '#FFFF00', 'rgb(255, 255, 0)')\n"
     ]
    }
   ],
   "source": [
    "# Write a Python program to split a list into different variables.\n",
    "color = [(\"Black\", \"#000000\", \"rgb(0, 0, 0)\"), (\"Red\", \"#FF0000\", \"rgb(255, 0, 0)\"),\n",
    "         (\"Yellow\", \"#FFFF00\", \"rgb(255, 255, 0)\")]\n",
    "var1, var2, var3 = color\n",
    "print(var1)\n",
    "print(var2)\n",
    "print(var3)"
   ]
  },
  {
   "cell_type": "code",
   "execution_count": 47,
   "metadata": {},
   "outputs": [
    {
     "name": "stdout",
     "output_type": "stream",
     "text": [
      "[[1, 2, 3, 4, 5], [6, 7, 8, 9, 10], [11, 12, 13, 14, 15], [16, 17, 18, 19, 20], [21, 22, 23, 24, 25]]\n"
     ]
    }
   ],
   "source": [
    "# Write a Python program to generate groups of five consecutive numbers in a list.\n",
    "\n",
    "l = [[5*i + j for j in range(1,6)] for i in range(5)]\n",
    "print(l)\n"
   ]
  },
  {
   "cell_type": "code",
   "execution_count": 48,
   "metadata": {},
   "outputs": [
    {
     "name": "stdout",
     "output_type": "stream",
     "text": [
      "Original List:  [(1, 2), (3, 4), (1, 2), (5, 6), (7, 8), (1, 2), (3, 4), (3, 4), (7, 8), (9, 10)]\n",
      "Sorted Unique Data: [1, 2, 3, 4, 5, 6, 7, 8, 9, 10]\n"
     ]
    }
   ],
   "source": [
    "# Write a Python program to convert a pair of values into a sorted unique array.\n",
    "L = [(1, 2), (3, 4), (1, 2), (5, 6), (7, 8), (1, 2), (3, 4), (3, 4),\n",
    " (7, 8), (9, 10)]\n",
    "print(\"Original List: \", L)\n",
    "print(\"Sorted Unique Data:\",sorted(set().union(*L)))"
   ]
  },
  {
   "cell_type": "code",
   "execution_count": 49,
   "metadata": {},
   "outputs": [
    {
     "name": "stdout",
     "output_type": "stream",
     "text": [
      "[1, 3, 5, 7, 9]\n"
     ]
    }
   ],
   "source": [
    "# Write a Python program to select the odd items of a list.\n",
    "\n",
    "x = [1, 2, 3, 4, 5, 6, 7, 8, 9]\n",
    "print(x[::2])\n"
   ]
  },
  {
   "cell_type": "code",
   "execution_count": 50,
   "metadata": {},
   "outputs": [
    {
     "name": "stdout",
     "output_type": "stream",
     "text": [
      "Original List:  ['Red', 'Green', 'Black']\n",
      "Original List:  ['c', 'Red', 'c', 'Green', 'c', 'Black']\n"
     ]
    }
   ],
   "source": [
    "# Write a Python program to insert an element before each element of a list.\n",
    "color = ['Red', 'Green', 'Black']\n",
    "print(\"Original List: \",color)\n",
    "color = [v for elt in color for v in ('c', elt)]\n",
    "print(\"Original List: \",color)"
   ]
  },
  {
   "cell_type": "code",
   "execution_count": 51,
   "metadata": {},
   "outputs": [
    {
     "name": "stdout",
     "output_type": "stream",
     "text": [
      "['Red']\n",
      "['Green']\n",
      "['Black']\n"
     ]
    }
   ],
   "source": [
    "# Write a Python program to print a nested lists (each list on a new line) using the print() function.\n",
    "colors = [['Red'], ['Green'], ['Black']]\n",
    "print('\\n'.join([str(lst) for lst in colors]))"
   ]
  },
  {
   "cell_type": "code",
   "execution_count": 52,
   "metadata": {},
   "outputs": [
    {
     "name": "stdout",
     "output_type": "stream",
     "text": [
      "[{'color_name': 'Black', 'color_code': '#000000'}, {'color_name': 'Red', 'color_code': '#FF0000'}, {'color_name': 'Maroon', 'color_code': '#800000'}, {'color_name': 'Yellow', 'color_code': '#FFFF00'}]\n"
     ]
    }
   ],
   "source": [
    "# Write a Python program to convert list to list of dictionaries.\n",
    "\n",
    "color_name = [\"Black\", \"Red\", \"Maroon\", \"Yellow\"]\n",
    "color_code = [\"#000000\", \"#FF0000\", \"#800000\", \"#FFFF00\"]\n",
    "print([{'color_name': f, 'color_code': c} for f, c in zip(color_name, color_code)])\n"
   ]
  },
  {
   "cell_type": "code",
   "execution_count": 53,
   "metadata": {},
   "outputs": [
    {
     "name": "stdout",
     "output_type": "stream",
     "text": [
      "Original List: \n",
      "[{'key': {'subkey': 1}}, {'key': {'subkey': 10}}, {'key': {'subkey': 5}}]\n",
      "Sorted List: \n",
      "[{'key': {'subkey': 10}}, {'key': {'subkey': 5}}, {'key': {'subkey': 1}}]\n"
     ]
    }
   ],
   "source": [
    "# Write a Python program to sort a list of nested dictionaries.\n",
    "\n",
    "my_list = [{'key': {'subkey': 1}}, {'key': {'subkey': 10}}, {'key': {'subkey': 5}}]\n",
    "print(\"Original List: \")\n",
    "print(my_list)\n",
    "my_list.sort(key=lambda e: e['key']['subkey'], reverse=True)\n",
    "print(\"Sorted List: \")\n",
    "print(my_list)\n"
   ]
  },
  {
   "cell_type": "code",
   "execution_count": 54,
   "metadata": {},
   "outputs": [
    {
     "name": "stdout",
     "output_type": "stream",
     "text": [
      "[['a', 'd', 'g', 'j', 'm'], ['b', 'e', 'h', 'k', 'n'], ['c', 'f', 'i', 'l']]\n"
     ]
    }
   ],
   "source": [
    "# Write a Python program to split a list every Nth element.\n",
    "\n",
    "C = ['a', 'b', 'c', 'd', 'e', 'f', 'g', 'h', 'i', 'j', 'k', 'l', 'm', 'n']\n",
    "def list_slice(S, step):\n",
    "    return [S[i::step] for i in range(step)]\n",
    "print(list_slice(C,3))\n"
   ]
  },
  {
   "cell_type": "code",
   "execution_count": 55,
   "metadata": {},
   "outputs": [
    {
     "name": "stdout",
     "output_type": "stream",
     "text": [
      "Color1-Color2:  ['red', 'orange', 'white']\n",
      "Color2-Color1:  ['black', 'yellow']\n"
     ]
    }
   ],
   "source": [
    "# Write a Python program to compute the similarity between two lists.\n",
    "\n",
    "from collections import Counter\n",
    "color1 = [\"red\", \"orange\", \"green\", \"blue\", \"white\"]\n",
    "color2 = [\"black\", \"yellow\", \"green\", \"blue\"]\n",
    "counter1 = Counter(color1)\n",
    "counter2 = Counter(color2)\n",
    "print(\"Color1-Color2: \",list(counter1 - counter2))\n",
    "print(\"Color2-Color1: \",list(counter2 - counter1))\n"
   ]
  },
  {
   "cell_type": "code",
   "execution_count": 56,
   "metadata": {},
   "outputs": [
    {
     "name": "stdout",
     "output_type": "stream",
     "text": [
      "0\n",
      "1\n",
      "2\n",
      "3\n",
      "4\n"
     ]
    }
   ],
   "source": [
    "# Write a Python program to create a list with infinite elements.\n",
    "\n",
    "import itertools\n",
    "c = itertools.count()\n",
    "print(next(c))\n",
    "print(next(c))\n",
    "print(next(c))\n",
    "print(next(c))\n",
    "print(next(c))\n"
   ]
  },
  {
   "cell_type": "code",
   "execution_count": 57,
   "metadata": {},
   "outputs": [
    {
     "name": "stdout",
     "output_type": "stream",
     "text": [
      "red-green-orange\n",
      "redgreenorange\n"
     ]
    }
   ],
   "source": [
    "# Write a Python program to concatenate elements of a list.\n",
    "\n",
    "color = ['red', 'green', 'orange']\n",
    "print('-'.join(color))\n",
    "print(''.join(color))\n"
   ]
  },
  {
   "cell_type": "code",
   "execution_count": 58,
   "metadata": {},
   "outputs": [
    {
     "name": "stdout",
     "output_type": "stream",
     "text": [
      "Original List: \n",
      "[{'key1': 'value1', 'key2': 'value2'}, {'key1': 'value3', 'key2': 'value4'}]\n",
      "New List: \n",
      "[{'key2': 'value2'}, {'key2': 'value4'}]\n"
     ]
    }
   ],
   "source": [
    "# Write a Python program to remove key values pairs from a list of dictionaries.\n",
    "original_list = [{'key1':'value1', 'key2':'value2'}, {'key1':'value3', 'key2':'value4'}]\n",
    "print(\"Original List: \")\n",
    "print(original_list)\n",
    "new_list = [{k: v for k, v in d.items() if k != 'key1'} for d in original_list]\n",
    "print(\"New List: \")\n",
    "print(new_list)"
   ]
  },
  {
   "cell_type": "code",
   "execution_count": 59,
   "metadata": {},
   "outputs": [
    {
     "name": "stdout",
     "output_type": "stream",
     "text": [
      "['Red', 'Green', 'White']\n"
     ]
    }
   ],
   "source": [
    "# Write a Python program to convert a string to a list.\n",
    "\n",
    "import ast\n",
    "color =\"['Red', 'Green', 'White']\"\n",
    "print(ast.literal_eval(color))\n"
   ]
  },
  {
   "cell_type": "code",
   "execution_count": 60,
   "metadata": {},
   "outputs": [
    {
     "name": "stdout",
     "output_type": "stream",
     "text": [
      "False\n",
      "True\n"
     ]
    }
   ],
   "source": [
    "# Write a Python program to check whether all items of a list is equal to a given string.\n",
    "color1 = [\"green\", \"orange\", \"black\", \"white\"]\n",
    "color2 = [\"green\", \"green\", \"green\", \"green\"]\n",
    "\n",
    "print(all(c == 'blue' for c in color1))\n",
    "print(all(c == 'green' for c in color2))"
   ]
  },
  {
   "cell_type": "code",
   "execution_count": 61,
   "metadata": {},
   "outputs": [
    {
     "name": "stdout",
     "output_type": "stream",
     "text": [
      "[1, 3, 5, 7, 9, 2, 4, 6, 8]\n"
     ]
    }
   ],
   "source": [
    "# Write a Python program to replace the last element in a list with another list.\n",
    "\n",
    "num1 = [1, 3, 5, 7, 9, 10]\n",
    "num2 = [2, 4, 6, 8]\n",
    "num1[-1:] = num2\n",
    "print(num1)\n",
    "\n"
   ]
  },
  {
   "cell_type": "code",
   "execution_count": 62,
   "metadata": {},
   "outputs": [
    {
     "name": "stdout",
     "output_type": "stream",
     "text": [
      "6\n"
     ]
    }
   ],
   "source": [
    "# Write a Python program to check whether the n-th element exists in a given list.\n",
    "\n",
    "x = [1, 2, 3, 4, 5, 6]\n",
    "xlen = len(x)-1\n",
    "print(x[xlen])\n"
   ]
  },
  {
   "cell_type": "code",
   "execution_count": 63,
   "metadata": {},
   "outputs": [
    {
     "name": "stdout",
     "output_type": "stream",
     "text": [
      "(6, 0)\n"
     ]
    }
   ],
   "source": [
    "# Write a Python program to find a tuple, the smallest second index value from a list of tuples.\n",
    "\n",
    "x = [(4, 1), (1, 2), (6, 0)]\n",
    "print(min(x, key=lambda n: (n[1], -n[0])))\n"
   ]
  },
  {
   "cell_type": "code",
   "execution_count": 64,
   "metadata": {},
   "outputs": [
    {
     "name": "stdout",
     "output_type": "stream",
     "text": [
      "[{}, {}, {}, {}, {}]\n"
     ]
    }
   ],
   "source": [
    "# Write a Python program to create a list of empty dictionaries.\n",
    " \n",
    "n = 5\n",
    "l = [{} for _ in range(n)]\n",
    "print(l)\n"
   ]
  },
  {
   "cell_type": "code",
   "execution_count": 65,
   "metadata": {},
   "outputs": [
    {
     "name": "stdout",
     "output_type": "stream",
     "text": [
      "1 2 3 4 5\n"
     ]
    }
   ],
   "source": [
    "# Write a Python program to print a list of space-separated elements.\n",
    "\n",
    "num = [1, 2, 3, 4, 5]\n",
    "print(*num)\n"
   ]
  },
  {
   "cell_type": "code",
   "execution_count": 66,
   "metadata": {},
   "outputs": [
    {
     "name": "stdout",
     "output_type": "stream",
     "text": [
      "['emp1', 'emp2', 'emp3', 'emp4']\n"
     ]
    }
   ],
   "source": [
    "# Write a Python program to insert a given string at the beginning of all items in a list.\n",
    "\n",
    "num = [1,2,3,4]\n",
    "print(['emp{0}'.format(i) for i in  num])\n",
    "\n"
   ]
  },
  {
   "cell_type": "code",
   "execution_count": 67,
   "metadata": {},
   "outputs": [
    {
     "name": "stdout",
     "output_type": "stream",
     "text": [
      "1 red\n",
      "2 white\n",
      "3 black\n"
     ]
    }
   ],
   "source": [
    "# Write a Python program to iterate over two lists simultaneously.\n",
    "num = [1, 2, 3]\n",
    "color = ['red', 'white', 'black']\n",
    "for (a,b) in zip(num, color):\n",
    "     print(a, b)\n"
   ]
  },
  {
   "cell_type": "code",
   "execution_count": 68,
   "metadata": {},
   "outputs": [
    {
     "name": "stdout",
     "output_type": "stream",
     "text": [
      "physics\n"
     ]
    }
   ],
   "source": [
    "# Write a Python program to access dictionary keys element by index.\n",
    "\n",
    "num = {'physics': 80, 'math': 90, 'chemistry': 86}\n",
    "print(list(num)[0])\n"
   ]
  },
  {
   "cell_type": "code",
   "execution_count": 69,
   "metadata": {},
   "outputs": [
    {
     "name": "stdout",
     "output_type": "stream",
     "text": [
      "[10, 11, 12]\n"
     ]
    }
   ],
   "source": [
    "# Write a Python program to find the list in a list of lists whose sum of elements is the highest.\n",
    "\n",
    "num = [[1,2,3], [4,5,6], [10,11,12], [7,8,9]]\n",
    "print(max(num, key=sum))\n"
   ]
  },
  {
   "cell_type": "code",
   "execution_count": 70,
   "metadata": {},
   "outputs": [
    {
     "name": "stdout",
     "output_type": "stream",
     "text": [
      "True\n",
      "False\n"
     ]
    }
   ],
   "source": [
    "# Write a Python program to find all the values in a list are greater than a specified number\n",
    "\n",
    "list1 = [220, 330, 500]\n",
    "list2 = [12, 17, 21]\n",
    "print(all(x >= 200 for x in list1))\n",
    "print(all(x >= 25 for x in list2))\n"
   ]
  },
  {
   "cell_type": "code",
   "execution_count": 71,
   "metadata": {},
   "outputs": [
    {
     "name": "stdout",
     "output_type": "stream",
     "text": [
      "[40, 50, 60, 10, 20, 30]\n"
     ]
    }
   ],
   "source": [
    "# Write a Python program to extend a list without appends.\n",
    "\n",
    "x = [10, 20, 30]\n",
    "y = [40, 50, 60]\n",
    "x[:0] =y\n",
    "print(x)\n"
   ]
  },
  {
   "cell_type": "code",
   "execution_count": 72,
   "metadata": {},
   "outputs": [
    {
     "name": "stdout",
     "output_type": "stream",
     "text": [
      "Original List [[10, 20], [40], [30, 56, 25], [10, 20], [33], [40]]\n",
      "New List [[10, 20], [30, 56, 25], [33], [40]]\n"
     ]
    }
   ],
   "source": [
    "# Write a Python program to remove duplicates from a list of lists.\n",
    "\n",
    "import itertools\n",
    "num = [[10, 20], [40], [30, 56, 25], [10, 20], [33], [40]]\n",
    "print(\"Original List\", num)\n",
    "num.sort()\n",
    "new_num = list(num for num,_ in itertools.groupby(num))\n",
    "print(\"New List\", new_num)\n"
   ]
  },
  {
   "cell_type": "code",
   "execution_count": 73,
   "metadata": {},
   "outputs": [
    {
     "name": "stdout",
     "output_type": "stream",
     "text": [
      "4\n"
     ]
    }
   ],
   "source": [
    "# Write a Python program to get the depth of a dictionary.\n",
    "\n",
    "def dict_depth(d):\n",
    "    if isinstance(d, dict):\n",
    "        return 1 + (max(map(dict_depth, d.values())) if d else 0)\n",
    "    return 0\n",
    "dic = {'a':1, 'b': {'c': {'d': {}}}}\n",
    "print(dict_depth(dic))\n"
   ]
  },
  {
   "cell_type": "code",
   "execution_count": 74,
   "metadata": {},
   "outputs": [
    {
     "name": "stdout",
     "output_type": "stream",
     "text": [
      "True\n",
      "False\n"
     ]
    }
   ],
   "source": [
    "# Write a Python program to check whether all dictionaries in a list are empty or not.\n",
    "\n",
    "my_list = [{},{},{}]\n",
    "my_list1 = [{1,2},{},{}]\n",
    "print(all(not d for d in my_list))\n",
    "print(all(not d for d in my_list1))\n"
   ]
  },
  {
   "cell_type": "code",
   "execution_count": 75,
   "metadata": {},
   "outputs": [
    {
     "name": "stdout",
     "output_type": "stream",
     "text": [
      "Original list:\n",
      "[0, 0, 1, 2, 3, 4, 4, 5, 6, 6, 6, 7, 8, 9, 4, 4]\n",
      "\n",
      "After removing consecutive duplicates:\n",
      "[0, 1, 2, 3, 4, 5, 6, 7, 8, 9, 4]\n"
     ]
    }
   ],
   "source": [
    "# Write a Python program to remove consecutive duplicates of a given list.\n",
    "from itertools import groupby\n",
    "def compress(l_nums):\n",
    "    return [key for key, group in groupby(l_nums)] \n",
    "n_list = [0, 0, 1, 2, 3, 4, 4, 5, 6, 6, 6, 7, 8, 9, 4, 4 ]\n",
    "print(\"Original list:\") \n",
    "print(n_list)\n",
    "print(\"\\nAfter removing consecutive duplicates:\")\n",
    "print(compress(n_list)) "
   ]
  },
  {
   "cell_type": "code",
   "execution_count": 76,
   "metadata": {},
   "outputs": [
    {
     "name": "stdout",
     "output_type": "stream",
     "text": [
      "Original list:\n",
      "[0, 0, 1, 2, 3, 4, 4, 5, 6, 6, 6, 7, 8, 9, 4, 4]\n",
      "\n",
      "After packing consecutive duplicates of the said list elements into sublists:\n",
      "[[0, 0], [1], [2], [3], [4, 4], [5], [6, 6, 6], [7], [8], [9], [4, 4]]\n"
     ]
    }
   ],
   "source": [
    "# Write a Python program to pack consecutive duplicates of a given list elements into sublists\n",
    "from itertools import groupby\n",
    "def pack_consecutive_duplicates(l_nums):\n",
    "    return [list(group) for key, group in groupby(l_nums)]\n",
    "n_list = [0, 0, 1, 2, 3, 4, 4, 5, 6, 6, 6, 7, 8, 9, 4, 4 ]\n",
    "print(\"Original list:\") \n",
    "print(n_list)\n",
    "print(\"\\nAfter packing consecutive duplicates of the said list elements into sublists:\")\n",
    "print(pack_consecutive_duplicates(n_list)) "
   ]
  },
  {
   "cell_type": "code",
   "execution_count": 77,
   "metadata": {},
   "outputs": [
    {
     "name": "stdout",
     "output_type": "stream",
     "text": [
      "Original list:\n",
      "[1, 1, 2, 3, 4, 4.3, 5, 1]\n",
      "\n",
      "List reflecting the run-length encoding from the said list:\n",
      "[[2, 1], [1, 2], [1, 3], [1, 4], [1, 4.3], [1, 5], [1, 1]]\n",
      "\n",
      "Original String:\n",
      "automatically\n",
      "\n",
      "List reflecting the run-length encoding from the said string:\n",
      "[[1, 'a'], [1, 'u'], [1, 't'], [1, 'o'], [1, 'm'], [1, 'a'], [1, 't'], [1, 'i'], [1, 'c'], [1, 'a'], [2, 'l'], [1, 'y']]\n"
     ]
    }
   ],
   "source": [
    "# Write a Python program to create a list reflecting the run-length encoding from a given list of integers or a given list of characters.\n",
    "\n",
    "from itertools import groupby\n",
    "def encode_list(s_list):\n",
    "    return [[len(list(group)), key] for key, group in groupby(s_list)]\n",
    "n_list = [1,1,2,3,4,4.3,5, 1]\n",
    "print(\"Original list:\") \n",
    "print(n_list)\n",
    "print(\"\\nList reflecting the run-length encoding from the said list:\")\n",
    "print(encode_list(n_list))\n",
    "n_list = 'automatically'\n",
    "print(\"\\nOriginal String:\") \n",
    "print(n_list)\n",
    "print(\"\\nList reflecting the run-length encoding from the said string:\")\n",
    "print(encode_list(n_list))\n"
   ]
  },
  {
   "cell_type": "code",
   "execution_count": 78,
   "metadata": {},
   "outputs": [
    {
     "name": "stdout",
     "output_type": "stream",
     "text": [
      "Original list:\n",
      "[1, 1, 2, 3, 4, 4.3, 5, 1]\n",
      "\n",
      "List reflecting the run-length encoding from the said list:\n",
      "[[2, 1], [1, 2], [1, 3], [1, 4], [1, 4.3], [1, 5], [1, 1]]\n",
      "\n",
      "Original String:\n",
      "automatically\n",
      "\n",
      "List reflecting the run-length encoding from the said string:\n",
      "[[1, 'a'], [1, 'u'], [1, 't'], [1, 'o'], [1, 'm'], [1, 'a'], [1, 't'], [1, 'i'], [1, 'c'], [1, 'a'], [2, 'l'], [1, 'y']]\n"
     ]
    }
   ],
   "source": [
    "# Write a Python program to create a list reflecting the modified run-length encoding from a given list of integers or a given list of characters.\n",
    "\n",
    "from itertools import groupby\n",
    "def encode_list(s_list):\n",
    "    return [[len(list(group)), key] for key, group in groupby(s_list)]\n",
    "n_list = [1,1,2,3,4,4.3,5, 1]\n",
    "print(\"Original list:\") \n",
    "print(n_list)\n",
    "print(\"\\nList reflecting the run-length encoding from the said list:\")\n",
    "print(encode_list(n_list))\n",
    "n_list = 'automatically'\n",
    "print(\"\\nOriginal String:\") \n",
    "print(n_list)\n",
    "print(\"\\nList reflecting the run-length encoding from the said string:\")\n",
    "print(encode_list(n_list))\n"
   ]
  },
  {
   "cell_type": "code",
   "execution_count": 80,
   "metadata": {},
   "outputs": [
    {
     "name": "stdout",
     "output_type": "stream",
     "text": [
      "Original encoded list:\n",
      "[[2, 1], 2, 3, [2, 4], 5, 1]\n",
      "\n",
      "Decode a run-length encoded said list:\n",
      "[1, 1, 2, 3, 4, 4, 5, 1]\n"
     ]
    }
   ],
   "source": [
    "# Write a Python program to decode a run-length encoded given list.\n",
    "\n",
    "def decode(alist):\n",
    "    def aux(g):\n",
    "        if isinstance(g, list):\n",
    "            return [(g[1], range(g[0]))]\n",
    "        else:\n",
    "            return [(g, [0])]\n",
    "    return [x for g in alist for x, R in aux(g) for i in R]\n",
    "n_list = [[2, 1], 2, 3, [2, 4], 5, 1]\n",
    "print(\"Original encoded list:\") \n",
    "print(n_list)\n",
    "print(\"\\nDecode a run-length encoded said list:\")\n",
    "print(decode(n_list))\n"
   ]
  },
  {
   "cell_type": "code",
   "execution_count": 81,
   "metadata": {},
   "outputs": [
    {
     "name": "stdout",
     "output_type": "stream",
     "text": [
      "Original list:\n",
      "[1, 1, 2, 3, 4, 4, 5, 1]\n",
      "\n",
      "Length of the first part of the list: 3\n",
      "\n",
      "Splited the said list into two parts:\n",
      "([1, 1, 2], [3, 4, 4, 5, 1])\n"
     ]
    }
   ],
   "source": [
    "# Write a Python program to split a given list into two parts where the length of the first part of the list is given.\n",
    "def split_two_parts(n_list, L):\n",
    "    return n_list[:L], n_list[L:]\n",
    "n_list = [1,1,2,3,4,4,5, 1]\n",
    "print(\"Original list:\") \n",
    "print(n_list)\n",
    "first_list_length = 3\n",
    "print(\"\\nLength of the first part of the list:\",first_list_length)\n",
    "print(\"\\nSplited the said list into two parts:\")\n",
    "print(split_two_parts(n_list, first_list_length))\n"
   ]
  },
  {
   "cell_type": "code",
   "execution_count": 82,
   "metadata": {},
   "outputs": [
    {
     "name": "stdout",
     "output_type": "stream",
     "text": [
      "Original list:\n",
      "[1, 1, 2, 3, 4, 4, 5, 1]\n",
      "\n",
      "After removing an element at the kth position of the said list:\n",
      "[1, 1, 3, 4, 4, 5, 1]\n"
     ]
    }
   ],
   "source": [
    "# Write a Python program to remove the K'th element from a given list, print the new list.\n",
    "\n",
    "def remove_kth_element(n_list, L):\n",
    "    return  n_list[:L-1] + n_list[L:]\n",
    "\n",
    "n_list = [1,1,2,3,4,4,5,1]\n",
    "print(\"Original list:\") \n",
    "print(n_list)\n",
    "kth_position = 3\n",
    "result = remove_kth_element(n_list, kth_position)\n",
    "print(\"\\nAfter removing an element at the kth position of the said list:\")\n",
    "print(result)\n"
   ]
  },
  {
   "cell_type": "code",
   "execution_count": 83,
   "metadata": {},
   "outputs": [
    {
     "name": "stdout",
     "output_type": "stream",
     "text": [
      "Original list:\n",
      "[1, 1, 2, 3, 4, 4, 5, 1]\n",
      "\n",
      "After inserting an element at kth position in the said list:\n",
      "[1, 1, 12, 2, 3, 4, 4, 5, 1]\n"
     ]
    }
   ],
   "source": [
    "# Write a Python program to insert an element at a specified position into a given list.\n",
    "\n",
    "def insert_spec_position(x, n_list, pos):\n",
    "    return n_list[:pos-1]+[x]+n_list[pos-1:]\n",
    "n_list = [1,1,2,3,4,4,5,1]\n",
    "print(\"Original list:\") \n",
    "print(n_list)\n",
    "kth_position = 3\n",
    "x = 12\n",
    "result = insert_spec_position(x, n_list, kth_position)\n",
    "print(\"\\nAfter inserting an element at kth position in the said list:\")\n",
    "print(result)\n",
    "\n"
   ]
  },
  {
   "cell_type": "code",
   "execution_count": 84,
   "metadata": {},
   "outputs": [
    {
     "name": "stdout",
     "output_type": "stream",
     "text": [
      "Original list:\n",
      "[1, 1, 2, 3, 4, 4, 5, 1]\n",
      "\n",
      "Selected 3 random numbers of the above list:\n",
      "[4, 2, 1]\n"
     ]
    }
   ],
   "source": [
    "# Write a Python program to extract a given number of randomly selected elements from a given list.\n",
    "import random\n",
    "def random_select_nums(n_list, n):\n",
    "        return random.sample(n_list, n)\n",
    "n_list = [1,1,2,3,4,4,5,1]\n",
    "print(\"Original list:\") \n",
    "print(n_list)\n",
    "selec_nums = 3\n",
    "result = random_select_nums(n_list, selec_nums)\n",
    "print(\"\\nSelected 3 random numbers of the above list:\")\n",
    "print(result) "
   ]
  },
  {
   "cell_type": "code",
   "execution_count": 85,
   "metadata": {},
   "outputs": [
    {
     "name": "stdout",
     "output_type": "stream",
     "text": [
      "Original list:\n",
      "[1, 2, 3, 4, 5, 6, 7, 8, 9]\n",
      "\n",
      "Combinations of 2 distinct objects:\n",
      "[1, 2]\n",
      "[1, 3]\n",
      "[1, 4]\n",
      "[1, 5]\n",
      "[1, 6]\n",
      "[1, 7]\n",
      "[1, 8]\n",
      "[1, 9]\n",
      "[2, 3]\n",
      "[2, 4]\n",
      "[2, 5]\n",
      "[2, 6]\n",
      "[2, 7]\n",
      "[2, 8]\n",
      "[2, 9]\n",
      "[3, 4]\n",
      "[3, 5]\n",
      "[3, 6]\n",
      "[3, 7]\n",
      "[3, 8]\n",
      "[3, 9]\n",
      "[4, 5]\n",
      "[4, 6]\n",
      "[4, 7]\n",
      "[4, 8]\n",
      "[4, 9]\n",
      "[5, 6]\n",
      "[5, 7]\n",
      "[5, 8]\n",
      "[5, 9]\n",
      "[6, 7]\n",
      "[6, 8]\n",
      "[6, 9]\n",
      "[7, 8]\n",
      "[7, 9]\n",
      "[8, 9]\n"
     ]
    }
   ],
   "source": [
    "# Write a Python program to generate the combinations of n distinct objects taken from the elements of a given list.\n",
    "\n",
    "def combination(n, n_list):\n",
    "    if n<=0:\n",
    "        yield []\n",
    "        return\n",
    "    for i in range(len(n_list)):\n",
    "        c_num = n_list[i:i+1]\n",
    "        for a_num in combination(n-1, n_list[i+1:]):\n",
    "            yield c_num + a_num\n",
    "n_list = [1,2,3,4,5,6,7,8,9]\n",
    "print(\"Original list:\") \n",
    "print(n_list)\n",
    "n = 2\n",
    "result = combination(n, n_list)\n",
    "print(\"\\nCombinations of\",n,\"distinct objects:\")\n",
    "for e in result:\n",
    "     print(e)\n",
    "\n"
   ]
  },
  {
   "cell_type": "code",
   "execution_count": 86,
   "metadata": {},
   "outputs": [
    {
     "name": "stdout",
     "output_type": "stream",
     "text": [
      "The original list 1 is : ['Geeksfor', 'i', 'be']\n",
      "The original list 2 is : ['Geeks', 's', 'st']\n",
      "The list after element concatenation is : ['GeeksforGeeks', 'is', 'best']\n"
     ]
    }
   ],
   "source": [
    "# Concatenate two lists index-wise\n",
    "# initializing lists   \n",
    "test_list1 = [\"Geeksfor\", \"i\", \"be\"] \n",
    "test_list2 = ['Geeks', 's', 'st'] \n",
    "  \n",
    "# printing original lists \n",
    "print (\"The original list 1 is : \" + str(test_list1)) \n",
    "print (\"The original list 2 is : \" + str(test_list2)) \n",
    "  \n",
    "# using list comprehension + zip() \n",
    "# interlist element concatenation \n",
    "res = [i + j for i, j in zip(test_list1, test_list2)] \n",
    "  \n",
    "# printing result  \n",
    "print (\"The list after element concatenation is : \" +  str(res)) \n"
   ]
  },
  {
   "cell_type": "code",
   "execution_count": 87,
   "metadata": {},
   "outputs": [
    {
     "name": "stdout",
     "output_type": "stream",
     "text": [
      "Original list of integers:\n",
      "[1, 2, 3, 4, 5, 6, 7, 8, 9, 10]\n",
      "\n",
      "Square every number of the said list:\n",
      "[1, 4, 9, 16, 25, 36, 49, 64, 81, 100]\n"
     ]
    }
   ],
   "source": [
    "# Given a Python list. Turn every item of a list into its square\n",
    "nums = [1, 2, 3, 4, 5, 6, 7, 8, 9, 10]\n",
    "print(\"Original list of integers:\")\n",
    "print(nums)\n",
    "print(\"\\nSquare every number of the said list:\")\n",
    "square_nums = list(map(lambda x: x ** 2, nums))\n",
    "print(square_nums)"
   ]
  },
  {
   "cell_type": "code",
   "execution_count": 88,
   "metadata": {},
   "outputs": [
    {
     "name": "stdout",
     "output_type": "stream",
     "text": [
      "The original list 1 is : ['Hello', 'take']\n",
      "The original list 2 is : ['Dear', 'Sir']\n",
      "The list after element concatenation is : ['HelloDear', 'takeSir']\n"
     ]
    }
   ],
   "source": [
    "# Concatenate two lists in the following order.\n",
    "\n",
    "test_list1 = [\"Hello\", \"take\"] \n",
    "test_list2 = ['Dear', 'Sir'] \n",
    "  \n",
    "# printing original lists \n",
    "print (\"The original list 1 is : \" + str(test_list1)) \n",
    "print (\"The original list 2 is : \" + str(test_list2)) \n",
    "  \n",
    "# using list comprehension + zip() \n",
    "# interlist element concatenation \n",
    "res = [i + j for i, j in zip(test_list1, test_list2)] \n",
    "  \n",
    "# printing result  \n",
    "print (\"The list after element concatenation is : \" +  str(res)) "
   ]
  },
  {
   "cell_type": "code",
   "execution_count": 89,
   "metadata": {},
   "outputs": [
    {
     "name": "stdout",
     "output_type": "stream",
     "text": [
      "10 400\n",
      "20 300\n",
      "30 200\n",
      "40 100\n"
     ]
    }
   ],
   "source": [
    "# Given a two Python list. Iterate both lists simultaneously such that list1 should display item in original order and list2 in reverse order\n",
    "list1 = [10, 20, 30, 40]\n",
    "list2 = [100, 200, 300, 400]\n",
    "\n",
    "for x, y in zip(list1, list2[::-1]):\n",
    "    print(x, y)"
   ]
  },
  {
   "cell_type": "code",
   "execution_count": 90,
   "metadata": {},
   "outputs": [
    {
     "name": "stdout",
     "output_type": "stream",
     "text": [
      "['Mike', 'Emma', 'Kelly', 'Brad']\n"
     ]
    }
   ],
   "source": [
    "# Remove empty strings from the list of strings\n",
    "list1 = [\"Mike\", \"\", \"Emma\", \"Kelly\", \"\", \"Brad\"]\n",
    "resList = list(filter(None, list1))\n",
    "print(resList)"
   ]
  },
  {
   "cell_type": "code",
   "execution_count": 91,
   "metadata": {},
   "outputs": [
    {
     "name": "stdout",
     "output_type": "stream",
     "text": [
      "[10, 20, [300, 400, [5000, 6000, 7000], 500], 30, 40]\n"
     ]
    }
   ],
   "source": [
    "# Add item 7000 after 6000 in the following Python List\n",
    "list1 = [10, 20, [300, 400, [5000, 6000], 500], 30, 40]\n",
    "list1[2][2].append(7000)\n",
    "print(list1)"
   ]
  },
  {
   "cell_type": "code",
   "execution_count": 92,
   "metadata": {},
   "outputs": [
    {
     "name": "stdout",
     "output_type": "stream",
     "text": [
      "['a', 'b', ['c', ['d', 'e', ['f', 'g', 'h', 'i', 'j'], 'k'], 'l'], 'm', 'n']\n"
     ]
    }
   ],
   "source": [
    "# Given a nested list extend it with adding sub list [\"h\", \"i\", \"j\"] in a such a way that it will look like the following list\n",
    "\n",
    "\n",
    "list1 = [\"a\", \"b\", [\"c\", [\"d\", \"e\", [\"f\", \"g\"], \"k\"], \"l\"], \"m\", \"n\"]\n",
    "subList = [\"h\", \"i\", \"j\"]\n",
    "\n",
    "list1[2][1][2].extend(subList)\n",
    "print(list1)"
   ]
  },
  {
   "cell_type": "code",
   "execution_count": 93,
   "metadata": {},
   "outputs": [
    {
     "name": "stdout",
     "output_type": "stream",
     "text": [
      "[5, 10, 15, 200, 25, 50, 20]\n"
     ]
    }
   ],
   "source": [
    "# Given a Python list, find value 20 in the list, and if it is present, replace it with 200. Only update the first occurrence of a value\n",
    "\n",
    "list1 = [5, 10, 15, 20, 25, 50, 20]\n",
    "\n",
    "index = list1.index(20)\n",
    "list1[index] = 200\n",
    "print(list1)"
   ]
  },
  {
   "cell_type": "code",
   "execution_count": 94,
   "metadata": {},
   "outputs": [
    {
     "name": "stdout",
     "output_type": "stream",
     "text": [
      "[5, 15, 25, 50]\n"
     ]
    }
   ],
   "source": [
    "# Given a Python list, remove all occurrences of 20 from the list\n",
    "list1 = [5, 20, 15, 20, 25, 50, 20]\n",
    "\n",
    "def removeValue(sampleList, val):\n",
    "   return [value for value in sampleList if value != val]\n",
    "resList = removeValue(list1, 20)\n",
    "print(resList)"
   ]
  },
  {
   "cell_type": "code",
   "execution_count": 99,
   "metadata": {},
   "outputs": [
    {
     "name": "stdout",
     "output_type": "stream",
     "text": [
      "('a1', 'b1')\n",
      "('a2', 'b2')\n"
     ]
    }
   ],
   "source": [
    "l1=['a1','a2']\n",
    "l2=['b1','b2']\n",
    "l=zip(l1,l2)\n",
    "for x in l:\n",
    "    print(x)\n"
   ]
  },
  {
   "cell_type": "code",
   "execution_count": null,
   "metadata": {},
   "outputs": [],
   "source": []
  }
 ],
 "metadata": {
  "kernelspec": {
   "display_name": "Python 3",
   "language": "python",
   "name": "python3"
  },
  "language_info": {
   "codemirror_mode": {
    "name": "ipython",
    "version": 3
   },
   "file_extension": ".py",
   "mimetype": "text/x-python",
   "name": "python",
   "nbconvert_exporter": "python",
   "pygments_lexer": "ipython3",
   "version": "3.7.3"
  }
 },
 "nbformat": 4,
 "nbformat_minor": 2
}
